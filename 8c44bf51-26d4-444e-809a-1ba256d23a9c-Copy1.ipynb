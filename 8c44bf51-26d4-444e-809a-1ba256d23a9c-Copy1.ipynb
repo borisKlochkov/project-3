{
 "cells": [
  {
   "cell_type": "markdown",
   "id": "d30c747f",
   "metadata": {},
   "source": [
    "<div style=\"border:solid green 3px; padding: 20px\">\n",
    "<b>🥇 Борис, спасибо за доработки, проект принят, молодец!</b>\n",
    "    \n",
    "Будь, пожалуйста, в будущем более внимательным к советам и комметариям. Успехов в дальнейшем обучении! 🙂\n",
    "    "
   ]
  },
  {
   "cell_type": "markdown",
   "id": "90e432d2",
   "metadata": {},
   "source": [
    "Борис, привет! Меня зовут Ефимов Денис и сегодня я буду делать ревью твоего проекта!\\\n",
    "В Практикуме принято общаться на \"ты\", однако если это неудобно - дай знать, и можем перейти на более официальное общение.\n",
    "\n",
    "Ниже ты найдешь мои комментарии - пожалуйста, не перемещай, не изменяй и не удаляй их. Я буду использовать цветовую разметку: \n",
    "\n",
    "<div class=\"alert alert-block alert-success\">\n",
    "<b>✅Комментарий ревьюера:</b> Если все сделано хорошо. </div>\n",
    "\n",
    "<div class=\"alert alert-block alert-warning\">\n",
    "<b>🔁Комментарий ревьюера:</b> Некритичное замечание; если таких замечаний меньше трех — проект может быть принят без их отработки.</div>\n",
    "\n",
    "<div class=\"alert alert-block alert-danger\">\n",
    "<b>❌Комментарий ревьюера:</b> Грубая ошибка, необходимо исправить, иначе проект не будет принят.\n",
    "</div>\n",
    "\n",
    "Давай работать над проектом в диалоге: если ты что-то меняешь в проекте или отвечаешь на мои комментарии — пиши об этом. Мне будет легче отследить изменения, если ты выделишь свои комментарии:\n",
    "Например так:\n",
    "<div class=\"alert alert-block alert-info\">\n",
    "<b>🔄Комментарий студента:</b> \n",
    "Hello World! ✔\n",
    "</div>\n",
    "\n",
    "Или можешь использовать эту галочку ✔ в моих комментариях, если писать особо нечего.\n",
    "\n",
    "<div class=\"alert alert-block alert-warning\">\n",
    "<b>Общее впечатление:</b> \n",
    "    \n",
    "- Ты проделал большую работу :)\n",
    "- У меня есть несколько замечаний, исправив которые ты сделаешь проект лучше.\n",
    "- Пробегись по моим комментариям, исправь недочёты и всё будет отлично :)\n",
    "    \n",
    "</div>\n",
    "\n"
   ]
  },
  {
   "cell_type": "markdown",
   "id": "8b828877",
   "metadata": {},
   "source": [
    "--------------------"
   ]
  },
  {
   "cell_type": "markdown",
   "id": "9cc8600d",
   "metadata": {},
   "source": [
    "# Исследование сервиса аренды самокатов GoFast"
   ]
  },
  {
   "cell_type": "markdown",
   "id": "3a498a2f",
   "metadata": {},
   "source": [
    "В данном проекте нашей задачей является обработка 3 дата-фреймов от сервиса аренды самокатов, визуализировать данные, проверить наличие явных дубликатов и пропусков, доабавить новые столбцы, поменять тип данных, там где жто необходимо. Следующим шагом нужно оьъединить все дата-фреймы в один, посчитать выручку, проверить гипотезы и сделать общий вывод.\n",
    "\n",
    "Цели проекта: \n",
    "-Выявить и ипсравить ошибки в данных\n",
    "-Выявить какая категория пользователей приносит больше доход\n",
    "-Выдвинуть и проверить несколько гипотез\n"
   ]
  },
  {
   "cell_type": "markdown",
   "id": "c6976849",
   "metadata": {},
   "source": [
    "<div class=\"alert alert-block alert-success\">\n",
    "<b>✅Комментарий ревьюера 3:</b> Отлично, исправлено!👍  </div>"
   ]
  },
  {
   "cell_type": "code",
   "execution_count": 1,
   "id": "f72dea27",
   "metadata": {},
   "outputs": [],
   "source": [
    "import pandas as pd\n",
    "import seaborn as sns\n",
    "import matplotlib.pyplot as plt\n",
    "import numpy as np\n",
    "from datetime import datetime\n",
    "from scipy import stats as st\n"
   ]
  },
  {
   "cell_type": "markdown",
   "id": "1719e3a2",
   "metadata": {},
   "source": [
    "<div class=\"alert alert-block alert-success\">\n",
    "<b>✅Комментарий ревьюера:</b> Правильно, что импортируешь все библиотеки в отдельной ячейке!  </div>"
   ]
  },
  {
   "cell_type": "markdown",
   "id": "f51aed86",
   "metadata": {},
   "source": [
    "#### Шаг 1. Загрузка данных"
   ]
  },
  {
   "cell_type": "code",
   "execution_count": 2,
   "id": "fb643906",
   "metadata": {},
   "outputs": [
    {
     "data": {
      "text/html": [
       "<div>\n",
       "<style scoped>\n",
       "    .dataframe tbody tr th:only-of-type {\n",
       "        vertical-align: middle;\n",
       "    }\n",
       "\n",
       "    .dataframe tbody tr th {\n",
       "        vertical-align: top;\n",
       "    }\n",
       "\n",
       "    .dataframe thead th {\n",
       "        text-align: right;\n",
       "    }\n",
       "</style>\n",
       "<table border=\"1\" class=\"dataframe\">\n",
       "  <thead>\n",
       "    <tr style=\"text-align: right;\">\n",
       "      <th></th>\n",
       "      <th>user_id</th>\n",
       "      <th>name</th>\n",
       "      <th>age</th>\n",
       "      <th>city</th>\n",
       "      <th>subscription_type</th>\n",
       "    </tr>\n",
       "  </thead>\n",
       "  <tbody>\n",
       "    <tr>\n",
       "      <th>0</th>\n",
       "      <td>1</td>\n",
       "      <td>Кира</td>\n",
       "      <td>22</td>\n",
       "      <td>Тюмень</td>\n",
       "      <td>ultra</td>\n",
       "    </tr>\n",
       "    <tr>\n",
       "      <th>1</th>\n",
       "      <td>2</td>\n",
       "      <td>Станислав</td>\n",
       "      <td>31</td>\n",
       "      <td>Омск</td>\n",
       "      <td>ultra</td>\n",
       "    </tr>\n",
       "    <tr>\n",
       "      <th>2</th>\n",
       "      <td>3</td>\n",
       "      <td>Алексей</td>\n",
       "      <td>20</td>\n",
       "      <td>Москва</td>\n",
       "      <td>ultra</td>\n",
       "    </tr>\n",
       "    <tr>\n",
       "      <th>3</th>\n",
       "      <td>4</td>\n",
       "      <td>Константин</td>\n",
       "      <td>26</td>\n",
       "      <td>Ростов-на-Дону</td>\n",
       "      <td>ultra</td>\n",
       "    </tr>\n",
       "    <tr>\n",
       "      <th>4</th>\n",
       "      <td>5</td>\n",
       "      <td>Адель</td>\n",
       "      <td>28</td>\n",
       "      <td>Омск</td>\n",
       "      <td>ultra</td>\n",
       "    </tr>\n",
       "    <tr>\n",
       "      <th>...</th>\n",
       "      <td>...</td>\n",
       "      <td>...</td>\n",
       "      <td>...</td>\n",
       "      <td>...</td>\n",
       "      <td>...</td>\n",
       "    </tr>\n",
       "    <tr>\n",
       "      <th>1560</th>\n",
       "      <td>829</td>\n",
       "      <td>Федор</td>\n",
       "      <td>29</td>\n",
       "      <td>Пятигорск</td>\n",
       "      <td>free</td>\n",
       "    </tr>\n",
       "    <tr>\n",
       "      <th>1561</th>\n",
       "      <td>809</td>\n",
       "      <td>Юрий</td>\n",
       "      <td>26</td>\n",
       "      <td>Сочи</td>\n",
       "      <td>free</td>\n",
       "    </tr>\n",
       "    <tr>\n",
       "      <th>1562</th>\n",
       "      <td>307</td>\n",
       "      <td>Ясмина</td>\n",
       "      <td>19</td>\n",
       "      <td>Краснодар</td>\n",
       "      <td>ultra</td>\n",
       "    </tr>\n",
       "    <tr>\n",
       "      <th>1563</th>\n",
       "      <td>47</td>\n",
       "      <td>Юрий</td>\n",
       "      <td>28</td>\n",
       "      <td>Тюмень</td>\n",
       "      <td>ultra</td>\n",
       "    </tr>\n",
       "    <tr>\n",
       "      <th>1564</th>\n",
       "      <td>1045</td>\n",
       "      <td>Артемий</td>\n",
       "      <td>28</td>\n",
       "      <td>Ростов-на-Дону</td>\n",
       "      <td>free</td>\n",
       "    </tr>\n",
       "  </tbody>\n",
       "</table>\n",
       "<p>1565 rows × 5 columns</p>\n",
       "</div>"
      ],
      "text/plain": [
       "      user_id        name  age            city subscription_type\n",
       "0           1        Кира   22          Тюмень             ultra\n",
       "1           2   Станислав   31            Омск             ultra\n",
       "2           3     Алексей   20          Москва             ultra\n",
       "3           4  Константин   26  Ростов-на-Дону             ultra\n",
       "4           5       Адель   28            Омск             ultra\n",
       "...       ...         ...  ...             ...               ...\n",
       "1560      829       Федор   29       Пятигорск              free\n",
       "1561      809        Юрий   26            Сочи              free\n",
       "1562      307      Ясмина   19       Краснодар             ultra\n",
       "1563       47        Юрий   28          Тюмень             ultra\n",
       "1564     1045     Артемий   28  Ростов-на-Дону              free\n",
       "\n",
       "[1565 rows x 5 columns]"
      ]
     },
     "metadata": {},
     "output_type": "display_data"
    },
    {
     "name": "stdout",
     "output_type": "stream",
     "text": [
      "<class 'pandas.core.frame.DataFrame'>\n",
      "RangeIndex: 1565 entries, 0 to 1564\n",
      "Data columns (total 5 columns):\n",
      " #   Column             Non-Null Count  Dtype \n",
      "---  ------             --------------  ----- \n",
      " 0   user_id            1565 non-null   int64 \n",
      " 1   name               1565 non-null   object\n",
      " 2   age                1565 non-null   int64 \n",
      " 3   city               1565 non-null   object\n",
      " 4   subscription_type  1565 non-null   object\n",
      "dtypes: int64(2), object(3)\n",
      "memory usage: 61.3+ KB\n"
     ]
    },
    {
     "data": {
      "text/plain": [
       "array([[<AxesSubplot:title={'center':'user_id'}>,\n",
       "        <AxesSubplot:title={'center':'age'}>]], dtype=object)"
      ]
     },
     "execution_count": 2,
     "metadata": {},
     "output_type": "execute_result"
    },
    {
     "data": {
      "image/png": "[encoded data removed]",
      "text/plain": [
       "<Figure size 360x360 with 2 Axes>"
      ]
     },
     "metadata": {
      "needs_background": "light"
     },
     "output_type": "display_data"
    }
   ],
   "source": [
    "\n",
    "users = pd.read_csv('/datasets/users_go.csv')\n",
    "rides = pd.read_csv('/datasets/rides_go.csv')\n",
    "subscriptions = pd.read_csv('/datasets/subscriptions_go.csv')\n",
    "display(users)\n",
    "users.info()\n",
    "users.hist(figsize=(5, 5))\n"
   ]
  },
  {
   "cell_type": "code",
   "execution_count": 3,
   "id": "cd69b1c2",
   "metadata": {},
   "outputs": [
    {
     "data": {
      "text/html": [
       "<div>\n",
       "<style scoped>\n",
       "    .dataframe tbody tr th:only-of-type {\n",
       "        vertical-align: middle;\n",
       "    }\n",
       "\n",
       "    .dataframe tbody tr th {\n",
       "        vertical-align: top;\n",
       "    }\n",
       "\n",
       "    .dataframe thead th {\n",
       "        text-align: right;\n",
       "    }\n",
       "</style>\n",
       "<table border=\"1\" class=\"dataframe\">\n",
       "  <thead>\n",
       "    <tr style=\"text-align: right;\">\n",
       "      <th></th>\n",
       "      <th>subscription_type</th>\n",
       "      <th>minute_price</th>\n",
       "      <th>start_ride_price</th>\n",
       "      <th>subscription_fee</th>\n",
       "    </tr>\n",
       "  </thead>\n",
       "  <tbody>\n",
       "    <tr>\n",
       "      <th>0</th>\n",
       "      <td>free</td>\n",
       "      <td>8</td>\n",
       "      <td>50</td>\n",
       "      <td>0</td>\n",
       "    </tr>\n",
       "    <tr>\n",
       "      <th>1</th>\n",
       "      <td>ultra</td>\n",
       "      <td>6</td>\n",
       "      <td>0</td>\n",
       "      <td>199</td>\n",
       "    </tr>\n",
       "  </tbody>\n",
       "</table>\n",
       "</div>"
      ],
      "text/plain": [
       "  subscription_type  minute_price  start_ride_price  subscription_fee\n",
       "0              free             8                50                 0\n",
       "1             ultra             6                 0               199"
      ]
     },
     "metadata": {},
     "output_type": "display_data"
    },
    {
     "data": {
      "text/plain": [
       "array([[<AxesSubplot:title={'center':'minute_price'}>,\n",
       "        <AxesSubplot:title={'center':'start_ride_price'}>],\n",
       "       [<AxesSubplot:title={'center':'subscription_fee'}>,\n",
       "        <AxesSubplot:>]], dtype=object)"
      ]
     },
     "execution_count": 3,
     "metadata": {},
     "output_type": "execute_result"
    },
    {
     "data": {
      "image/png": "[encoded data removed]",
      "text/plain": [
       "<Figure size 360x360 with 4 Axes>"
      ]
     },
     "metadata": {
      "needs_background": "light"
     },
     "output_type": "display_data"
    }
   ],
   "source": [
    "display(subscriptions.head())\n",
    "subscriptions.hist(figsize=(5, 5))"
   ]
  },
  {
   "cell_type": "markdown",
   "id": "d22e7bcb",
   "metadata": {},
   "source": [
    "<div class=\"alert alert-block alert-warning\">\n",
    "<b>🔁Комментарий ревьюера 2:</b> \n",
    "    \n",
    "Выводить датафрейм (или его части) на экран лучше в табличном виде (без использования функции `print()`), так будет гораздо понятнее и нагляднее. Можно использовать функцию `display()`. \n",
    "\n",
    "</div>"
   ]
  },
  {
   "cell_type": "markdown",
   "id": "408134f1",
   "metadata": {},
   "source": [
    "<div class=\"alert alert-block alert-success\">\n",
    "<b>✅Комментарий ревьюера 3:</b> Отлично, исправлено!👍  </div>"
   ]
  },
  {
   "cell_type": "code",
   "execution_count": 4,
   "id": "074b6f71",
   "metadata": {},
   "outputs": [
    {
     "data": {
      "text/html": [
       "<div>\n",
       "<style scoped>\n",
       "    .dataframe tbody tr th:only-of-type {\n",
       "        vertical-align: middle;\n",
       "    }\n",
       "\n",
       "    .dataframe tbody tr th {\n",
       "        vertical-align: top;\n",
       "    }\n",
       "\n",
       "    .dataframe thead th {\n",
       "        text-align: right;\n",
       "    }\n",
       "</style>\n",
       "<table border=\"1\" class=\"dataframe\">\n",
       "  <thead>\n",
       "    <tr style=\"text-align: right;\">\n",
       "      <th></th>\n",
       "      <th>user_id</th>\n",
       "      <th>distance</th>\n",
       "      <th>duration</th>\n",
       "      <th>date</th>\n",
       "    </tr>\n",
       "  </thead>\n",
       "  <tbody>\n",
       "    <tr>\n",
       "      <th>0</th>\n",
       "      <td>1</td>\n",
       "      <td>4409.919140</td>\n",
       "      <td>25.599769</td>\n",
       "      <td>2021-01-01</td>\n",
       "    </tr>\n",
       "    <tr>\n",
       "      <th>1</th>\n",
       "      <td>1</td>\n",
       "      <td>2617.592153</td>\n",
       "      <td>15.816871</td>\n",
       "      <td>2021-01-18</td>\n",
       "    </tr>\n",
       "    <tr>\n",
       "      <th>2</th>\n",
       "      <td>1</td>\n",
       "      <td>754.159807</td>\n",
       "      <td>6.232113</td>\n",
       "      <td>2021-04-20</td>\n",
       "    </tr>\n",
       "    <tr>\n",
       "      <th>3</th>\n",
       "      <td>1</td>\n",
       "      <td>2694.783254</td>\n",
       "      <td>18.511000</td>\n",
       "      <td>2021-08-11</td>\n",
       "    </tr>\n",
       "    <tr>\n",
       "      <th>4</th>\n",
       "      <td>1</td>\n",
       "      <td>4028.687306</td>\n",
       "      <td>26.265803</td>\n",
       "      <td>2021-08-28</td>\n",
       "    </tr>\n",
       "  </tbody>\n",
       "</table>\n",
       "</div>"
      ],
      "text/plain": [
       "   user_id     distance   duration        date\n",
       "0        1  4409.919140  25.599769  2021-01-01\n",
       "1        1  2617.592153  15.816871  2021-01-18\n",
       "2        1   754.159807   6.232113  2021-04-20\n",
       "3        1  2694.783254  18.511000  2021-08-11\n",
       "4        1  4028.687306  26.265803  2021-08-28"
      ]
     },
     "metadata": {},
     "output_type": "display_data"
    },
    {
     "name": "stdout",
     "output_type": "stream",
     "text": [
      "<class 'pandas.core.frame.DataFrame'>\n",
      "RangeIndex: 18068 entries, 0 to 18067\n",
      "Data columns (total 4 columns):\n",
      " #   Column    Non-Null Count  Dtype  \n",
      "---  ------    --------------  -----  \n",
      " 0   user_id   18068 non-null  int64  \n",
      " 1   distance  18068 non-null  float64\n",
      " 2   duration  18068 non-null  float64\n",
      " 3   date      18068 non-null  object \n",
      "dtypes: float64(2), int64(1), object(1)\n",
      "memory usage: 564.8+ KB\n"
     ]
    },
    {
     "data": {
      "text/plain": [
       "array([[<AxesSubplot:title={'center':'user_id'}>,\n",
       "        <AxesSubplot:title={'center':'distance'}>],\n",
       "       [<AxesSubplot:title={'center':'duration'}>, <AxesSubplot:>]],\n",
       "      dtype=object)"
      ]
     },
     "execution_count": 4,
     "metadata": {},
     "output_type": "execute_result"
    },
    {
     "data": {
      "image/png": "[encoded data removed]",
      "text/plain": [
       "<Figure size 360x360 with 4 Axes>"
      ]
     },
     "metadata": {
      "needs_background": "light"
     },
     "output_type": "display_data"
    }
   ],
   "source": [
    "display(rides.head())\n",
    "rides.info()\n",
    "rides.hist(figsize=(5, 5))"
   ]
  },
  {
   "cell_type": "markdown",
   "id": "d1297f97",
   "metadata": {},
   "source": [
    "Данные расперделены нормально, аномалий не вижу. Предварительно средняя дистанция поездки находится в пределах от 2000 до 4000 метров. Средняя врмея поездки находится около 20 минут. С тарифами все сильно проще - существует всего два тарифа"
   ]
  },
  {
   "cell_type": "markdown",
   "id": "3ab15b10",
   "metadata": {},
   "source": [
    "<div class=\"alert alert-block alert-warning\">\n",
    "<b>🔁Комментарий ревьюера 3:</b>\n",
    "\n",
    "Также стоит отметить объем и полноту данных, корректность наименования столбцов и соответствие типов данных.</div>"
   ]
  },
  {
   "cell_type": "markdown",
   "id": "9c138d2b",
   "metadata": {},
   "source": [
    "#### Шаг 2. Предобработка данных"
   ]
  },
  {
   "cell_type": "code",
   "execution_count": 5,
   "id": "decc4eaf",
   "metadata": {},
   "outputs": [
    {
     "name": "stdout",
     "output_type": "stream",
     "text": [
      "2021-01-01 00:00:00\n",
      "2021-12-30 00:00:00\n"
     ]
    }
   ],
   "source": [
    "rides['date'] = pd.to_datetime(rides['date'],format = '%Y-%m-%d')\n",
    "\n",
    "rides['month'] = rides['date'].apply(lambda x: x.month)\n",
    "\n",
    "print(rides['date'].min())\n",
    "print(rides['date'].max())\n"
   ]
  },
  {
   "cell_type": "markdown",
   "id": "9c36f34d",
   "metadata": {},
   "source": [
    "все данные только за 2021 год, значит всего будет 12 месяцев"
   ]
  },
  {
   "cell_type": "markdown",
   "id": "c0579a7e",
   "metadata": {},
   "source": [
    "<div class=\"alert alert-block alert-warning\">\n",
    "<b>🔁Комментарий ревьюера:</b> \n",
    "\n",
    "Дополнительно лучше проверить данные за какой период у нас имеются, чтобы в дальнейшем не допустить ошибок при группировке по месяцам.</div>"
   ]
  },
  {
   "cell_type": "markdown",
   "id": "889b3a30",
   "metadata": {},
   "source": [
    "<div class=\"alert alert-block alert-success\">\n",
    "<b>✅Комментарий ревьюера 3:</b> Отлично, исправлено!👍  </div>"
   ]
  },
  {
   "cell_type": "code",
   "execution_count": 6,
   "id": "7fef02ec",
   "metadata": {},
   "outputs": [
    {
     "data": {
      "text/plain": [
       "user_id  distance     duration   date        month\n",
       "1        748.690645   15.041884  2021-11-22  11       1\n",
       "1105     3232.037291  19.120140  2021-02-24  2        1\n",
       "         4661.122393  21.159450  2021-03-25  3        1\n",
       "         4468.509613  12.937019  2021-11-28  11       1\n",
       "         4057.692285  21.695055  2021-06-05  6        1\n",
       "                                                     ..\n",
       "645      4040.109793  17.100274  2021-11-26  11       1\n",
       "646      2635.251399  11.081349  2021-09-06  9        1\n",
       "         2853.140708  23.699278  2021-01-28  1        1\n",
       "         3442.376310  22.753041  2021-03-17  3        1\n",
       "1534     4928.173852  22.560373  2021-09-13  9        1\n",
       "Length: 18068, dtype: int64"
      ]
     },
     "execution_count": 6,
     "metadata": {},
     "output_type": "execute_result"
    }
   ],
   "source": [
    "rides.value_counts()\n"
   ]
  },
  {
   "cell_type": "code",
   "execution_count": 7,
   "id": "1169ad5f",
   "metadata": {},
   "outputs": [
    {
     "data": {
      "text/plain": [
       "user_id     0\n",
       "distance    0\n",
       "duration    0\n",
       "date        0\n",
       "month       0\n",
       "dtype: int64"
      ]
     },
     "execution_count": 7,
     "metadata": {},
     "output_type": "execute_result"
    }
   ],
   "source": [
    "rides.isna().sum()\n"
   ]
  },
  {
   "cell_type": "code",
   "execution_count": 8,
   "id": "43b1fdf2",
   "metadata": {},
   "outputs": [
    {
     "data": {
      "text/plain": [
       "user_id     0\n",
       "distance    0\n",
       "duration    0\n",
       "date        0\n",
       "month       0\n",
       "dtype: int64"
      ]
     },
     "execution_count": 8,
     "metadata": {},
     "output_type": "execute_result"
    }
   ],
   "source": [
    "rides.isna().sum()"
   ]
  },
  {
   "cell_type": "markdown",
   "id": "719e8287",
   "metadata": {},
   "source": [
    "<div class=\"alert alert-block alert-warning\">\n",
    "<b>🔁Комментарий ревьюера 2:</b> \n",
    "    \n",
    "Код стоит разделять на отдельные ячейки. Как в выведенной на экран информации понять что какие строки означают?\n",
    "</div>"
   ]
  },
  {
   "cell_type": "markdown",
   "id": "7398f833",
   "metadata": {},
   "source": [
    "<div class=\"alert alert-block alert-success\">\n",
    "<b>✅Комментарий ревьюера 3:</b> Отлично, исправлено!👍  </div>"
   ]
  },
  {
   "cell_type": "markdown",
   "id": "29597eff",
   "metadata": {},
   "source": [
    "Пропущенных значений не наблюдаю,данные система считала самостоятельно"
   ]
  },
  {
   "cell_type": "markdown",
   "id": "1dc96954",
   "metadata": {},
   "source": [
    "<div class=\"alert alert-block alert-success\">\n",
    "<b>✅Комментарий ревьюера 2:</b> Отлично, исправлено!👍  </div>"
   ]
  },
  {
   "cell_type": "code",
   "execution_count": 9,
   "id": "3b276558",
   "metadata": {},
   "outputs": [
    {
     "name": "stdout",
     "output_type": "stream",
     "text": [
      "subscription_type  minute_price  start_ride_price  subscription_fee\n",
      "free               8             50                0                   1\n",
      "ultra              6             0                 199                 1\n",
      "dtype: int64\n",
      "subscription_type    0\n",
      "minute_price         0\n",
      "start_ride_price     0\n",
      "subscription_fee     0\n",
      "dtype: int64\n",
      "2\n"
     ]
    },
    {
     "data": {
      "text/html": [
       "<div>\n",
       "<style scoped>\n",
       "    .dataframe tbody tr th:only-of-type {\n",
       "        vertical-align: middle;\n",
       "    }\n",
       "\n",
       "    .dataframe tbody tr th {\n",
       "        vertical-align: top;\n",
       "    }\n",
       "\n",
       "    .dataframe thead th {\n",
       "        text-align: right;\n",
       "    }\n",
       "</style>\n",
       "<table border=\"1\" class=\"dataframe\">\n",
       "  <thead>\n",
       "    <tr style=\"text-align: right;\">\n",
       "      <th></th>\n",
       "      <th>subscription_type</th>\n",
       "      <th>minute_price</th>\n",
       "      <th>start_ride_price</th>\n",
       "      <th>subscription_fee</th>\n",
       "    </tr>\n",
       "  </thead>\n",
       "  <tbody>\n",
       "    <tr>\n",
       "      <th>0</th>\n",
       "      <td>free</td>\n",
       "      <td>8</td>\n",
       "      <td>50</td>\n",
       "      <td>0</td>\n",
       "    </tr>\n",
       "    <tr>\n",
       "      <th>1</th>\n",
       "      <td>ultra</td>\n",
       "      <td>6</td>\n",
       "      <td>0</td>\n",
       "      <td>199</td>\n",
       "    </tr>\n",
       "  </tbody>\n",
       "</table>\n",
       "</div>"
      ],
      "text/plain": [
       "  subscription_type  minute_price  start_ride_price  subscription_fee\n",
       "0              free             8                50                 0\n",
       "1             ultra             6                 0               199"
      ]
     },
     "execution_count": 9,
     "metadata": {},
     "output_type": "execute_result"
    }
   ],
   "source": [
    "print(subscriptions.value_counts())\n",
    "print(subscriptions.isna().sum())\n",
    "print(subscriptions.duplicated(subset=None).count())\n",
    "subscriptions\n"
   ]
  },
  {
   "cell_type": "markdown",
   "id": "17502535",
   "metadata": {},
   "source": [
    "данные автоматически собраны, проблем не вижу, всего 2 тарифа и цены зависят от них"
   ]
  },
  {
   "cell_type": "code",
   "execution_count": 10,
   "id": "a4e425fa",
   "metadata": {},
   "outputs": [
    {
     "name": "stdout",
     "output_type": "stream",
     "text": [
      "1       1\n",
      "1020    1\n",
      "1029    1\n",
      "1028    1\n",
      "1027    1\n",
      "       ..\n",
      "510     1\n",
      "509     1\n",
      "508     1\n",
      "507     1\n",
      "1534    1\n",
      "Name: user_id, Length: 1534, dtype: int64\n",
      "user_id              0\n",
      "name                 0\n",
      "age                  0\n",
      "city                 0\n",
      "subscription_type    0\n",
      "dtype: int64\n",
      "0\n"
     ]
    },
    {
     "data": {
      "text/html": [
       "<div>\n",
       "<style scoped>\n",
       "    .dataframe tbody tr th:only-of-type {\n",
       "        vertical-align: middle;\n",
       "    }\n",
       "\n",
       "    .dataframe tbody tr th {\n",
       "        vertical-align: top;\n",
       "    }\n",
       "\n",
       "    .dataframe thead th {\n",
       "        text-align: right;\n",
       "    }\n",
       "</style>\n",
       "<table border=\"1\" class=\"dataframe\">\n",
       "  <thead>\n",
       "    <tr style=\"text-align: right;\">\n",
       "      <th></th>\n",
       "      <th>user_id</th>\n",
       "      <th>name</th>\n",
       "      <th>age</th>\n",
       "      <th>city</th>\n",
       "      <th>subscription_type</th>\n",
       "    </tr>\n",
       "  </thead>\n",
       "  <tbody>\n",
       "    <tr>\n",
       "      <th>0</th>\n",
       "      <td>1</td>\n",
       "      <td>Кира</td>\n",
       "      <td>22</td>\n",
       "      <td>Тюмень</td>\n",
       "      <td>ultra</td>\n",
       "    </tr>\n",
       "    <tr>\n",
       "      <th>1</th>\n",
       "      <td>2</td>\n",
       "      <td>Станислав</td>\n",
       "      <td>31</td>\n",
       "      <td>Омск</td>\n",
       "      <td>ultra</td>\n",
       "    </tr>\n",
       "    <tr>\n",
       "      <th>2</th>\n",
       "      <td>3</td>\n",
       "      <td>Алексей</td>\n",
       "      <td>20</td>\n",
       "      <td>Москва</td>\n",
       "      <td>ultra</td>\n",
       "    </tr>\n",
       "    <tr>\n",
       "      <th>3</th>\n",
       "      <td>4</td>\n",
       "      <td>Константин</td>\n",
       "      <td>26</td>\n",
       "      <td>Ростов-на-Дону</td>\n",
       "      <td>ultra</td>\n",
       "    </tr>\n",
       "    <tr>\n",
       "      <th>4</th>\n",
       "      <td>5</td>\n",
       "      <td>Адель</td>\n",
       "      <td>28</td>\n",
       "      <td>Омск</td>\n",
       "      <td>ultra</td>\n",
       "    </tr>\n",
       "    <tr>\n",
       "      <th>...</th>\n",
       "      <td>...</td>\n",
       "      <td>...</td>\n",
       "      <td>...</td>\n",
       "      <td>...</td>\n",
       "      <td>...</td>\n",
       "    </tr>\n",
       "    <tr>\n",
       "      <th>1529</th>\n",
       "      <td>1530</td>\n",
       "      <td>Ростислав</td>\n",
       "      <td>29</td>\n",
       "      <td>Сочи</td>\n",
       "      <td>free</td>\n",
       "    </tr>\n",
       "    <tr>\n",
       "      <th>1530</th>\n",
       "      <td>1531</td>\n",
       "      <td>Никита</td>\n",
       "      <td>25</td>\n",
       "      <td>Пятигорск</td>\n",
       "      <td>free</td>\n",
       "    </tr>\n",
       "    <tr>\n",
       "      <th>1531</th>\n",
       "      <td>1532</td>\n",
       "      <td>Алексей</td>\n",
       "      <td>26</td>\n",
       "      <td>Тюмень</td>\n",
       "      <td>free</td>\n",
       "    </tr>\n",
       "    <tr>\n",
       "      <th>1532</th>\n",
       "      <td>1533</td>\n",
       "      <td>Степан</td>\n",
       "      <td>22</td>\n",
       "      <td>Краснодар</td>\n",
       "      <td>free</td>\n",
       "    </tr>\n",
       "    <tr>\n",
       "      <th>1533</th>\n",
       "      <td>1534</td>\n",
       "      <td>Альберт</td>\n",
       "      <td>25</td>\n",
       "      <td>Краснодар</td>\n",
       "      <td>free</td>\n",
       "    </tr>\n",
       "  </tbody>\n",
       "</table>\n",
       "<p>1534 rows × 5 columns</p>\n",
       "</div>"
      ],
      "text/plain": [
       "      user_id        name  age            city subscription_type\n",
       "0           1        Кира   22          Тюмень             ultra\n",
       "1           2   Станислав   31            Омск             ultra\n",
       "2           3     Алексей   20          Москва             ultra\n",
       "3           4  Константин   26  Ростов-на-Дону             ultra\n",
       "4           5       Адель   28            Омск             ultra\n",
       "...       ...         ...  ...             ...               ...\n",
       "1529     1530   Ростислав   29            Сочи              free\n",
       "1530     1531      Никита   25       Пятигорск              free\n",
       "1531     1532     Алексей   26          Тюмень              free\n",
       "1532     1533      Степан   22       Краснодар              free\n",
       "1533     1534     Альберт   25       Краснодар              free\n",
       "\n",
       "[1534 rows x 5 columns]"
      ]
     },
     "execution_count": 10,
     "metadata": {},
     "output_type": "execute_result"
    }
   ],
   "source": [
    "users['user_id'].value_counts()\n",
    "users = users.drop_duplicates(subset=['user_id'], keep='first')\n",
    "print(users['user_id'].value_counts())\n",
    "print(users.isna().sum())\n",
    "print(subscriptions.duplicated(subset=None).sum())\n",
    "users"
   ]
  },
  {
   "cell_type": "markdown",
   "id": "3275a6e6",
   "metadata": {},
   "source": [
    "Удалили дубликаты в user_id"
   ]
  },
  {
   "cell_type": "markdown",
   "id": "fb6b9c9f",
   "metadata": {},
   "source": [
    "<div class=\"alert alert-block alert-success\">\n",
    "<b>✅Комментарий ревьюера 2:</b> Отлично, исправлено!👍  </div>"
   ]
  },
  {
   "cell_type": "markdown",
   "id": "39061726",
   "metadata": {},
   "source": [
    "Данные хорошие, какие-то из них заполняли пользователи, какие-то считала система. Дубликатов в данном случае прилично, много раз повторяются имена, города, возраст, но это не ошибка, все пользователи имеют уникальный user_id\n"
   ]
  },
  {
   "cell_type": "markdown",
   "id": "0f00ac7f",
   "metadata": {},
   "source": [
    "на этапе предобработки данных была проделена следуюшая работа:\n",
    "-Проверка на пропуски\n",
    "-Проверка на дубликаты\n",
    "-Удаление дубликатов"
   ]
  },
  {
   "cell_type": "markdown",
   "id": "d9e27dd9",
   "metadata": {},
   "source": [
    "<div class=\"alert alert-block alert-warning\">\n",
    "<b>🔁Комментарий ревьюера 2:</b> \n",
    "    \n",
    "Необходимо отметить, какая работа была проделана на этапе предобработки данных.\n",
    "</div>"
   ]
  },
  {
   "cell_type": "markdown",
   "id": "e0b44f81",
   "metadata": {},
   "source": [
    "<div class=\"alert alert-block alert-success\">\n",
    "<b>✅Комментарий ревьюера 3:</b> Отлично, исправлено!👍  </div>"
   ]
  },
  {
   "cell_type": "markdown",
   "id": "cc323d82",
   "metadata": {},
   "source": [
    "#### Шаг 3. Исследовательский анализ данных"
   ]
  },
  {
   "cell_type": "code",
   "execution_count": 11,
   "id": "e70b69a3",
   "metadata": {},
   "outputs": [
    {
     "data": {
      "text/plain": [
       "Text(0.5, 1.0, 'встречаемость городов')"
      ]
     },
     "execution_count": 11,
     "metadata": {},
     "output_type": "execute_result"
    },
    {
     "data": {
      "image/png": "[encoded data removed]",
      "text/plain": [
       "<Figure size 432x288 with 1 Axes>"
      ]
     },
     "metadata": {
      "needs_background": "light"
     },
     "output_type": "display_data"
    }
   ],
   "source": [
    "users['city'].value_counts().plot.barh()\n",
    "plt.xlabel('количество поездок',)\n",
    "plt.ylabel('город')\n",
    "plt.title('встречаемость городов')\n"
   ]
  },
  {
   "cell_type": "markdown",
   "id": "64abe7d7",
   "metadata": {},
   "source": [
    "<div class=\"alert alert-block alert-success\">\n",
    "<b>✅Комментарий ревьюера 5:</b> Отлично, исправлено!👍  </div>"
   ]
  },
  {
   "cell_type": "markdown",
   "id": "1e33c889",
   "metadata": {
    "scrolled": true
   },
   "source": [
    "UPD: все названия графиков теперь тоже подписаны"
   ]
  },
  {
   "cell_type": "markdown",
   "id": "6b0a8a89",
   "metadata": {},
   "source": [
    "Самый частовсречаемый город - Пятигорск, самый невстречаемый - Москва"
   ]
  },
  {
   "cell_type": "code",
   "execution_count": 12,
   "id": "0e8b4d34",
   "metadata": {},
   "outputs": [
    {
     "name": "stdout",
     "output_type": "stream",
     "text": [
      "54.43285528031291\n",
      "45.56714471968709\n",
      "0.837125748502994\n"
     ]
    },
    {
     "data": {
      "image/png": "[encoded data removed]",
      "text/plain": [
       "<Figure size 432x288 with 1 Axes>"
      ]
     },
     "metadata": {
      "needs_background": "light"
     },
     "output_type": "display_data"
    }
   ],
   "source": [
    "len1 = users[users['subscription_type'] == 'ultra']\n",
    "len2 = users[users['subscription_type'] == 'free']\n",
    "print(len2.shape[0]/users.shape[0]*100)\n",
    "print(len1.shape[0]/users.shape[0]*100)\n",
    "print(len1.shape[0]/len2.shape[0])\n",
    "\n",
    "freqs = users['subscription_type'].value_counts()\n",
    "ax = freqs.plot.bar()\n",
    "plt.xlabel('тарифы')\n",
    "plt.ylabel('количество пользователей')\n",
    "plt.title('тарифы по количеству пользователей')\n",
    "plt.show()\n",
    "\n",
    "\n"
   ]
  },
  {
   "cell_type": "markdown",
   "id": "9fb16307",
   "metadata": {},
   "source": [
    "<div class=\"alert alert-block alert-warning\">\n",
    "<b>🔁Комментарий ревьюера 2:</b>\n",
    "\n",
    "Тут все-таки отлично подошла бы круговая диаграмма с отображением на ней соотношения групп пользователей в %</div>"
   ]
  },
  {
   "cell_type": "markdown",
   "id": "f10a310b",
   "metadata": {},
   "source": [
    "54% пользователя имеют подписку, а 46% пользователей нет\n",
    "соотношение пользовалетей с подпиской к пользователем без = 0.85"
   ]
  },
  {
   "cell_type": "markdown",
   "id": "026f1ed3",
   "metadata": {},
   "source": [
    "<div class=\"alert alert-block alert-success\">\n",
    "<b>✅Комментарий ревьюера 2:</b> Отлично, исправлено!👍  </div>"
   ]
  },
  {
   "cell_type": "code",
   "execution_count": 13,
   "id": "17e3d373",
   "metadata": {},
   "outputs": [
    {
     "name": "stdout",
     "output_type": "stream",
     "text": [
      "count    1534.000000\n",
      "mean       24.903520\n",
      "std         4.572367\n",
      "min        12.000000\n",
      "25%        22.000000\n",
      "50%        25.000000\n",
      "75%        28.000000\n",
      "max        43.000000\n",
      "Name: age, dtype: float64\n"
     ]
    },
    {
     "data": {
      "text/plain": [
       "Text(0, 0.5, 'количество пользователей')"
      ]
     },
     "execution_count": 13,
     "metadata": {},
     "output_type": "execute_result"
    },
    {
     "data": {
      "image/png": "[encoded data removed]",
      "text/plain": [
       "<Figure size 360x360 with 1 Axes>"
      ]
     },
     "metadata": {
      "needs_background": "light"
     },
     "output_type": "display_data"
    }
   ],
   "source": [
    "print(users['age'].describe())\n",
    "users['age'].hist(figsize=(5, 5))\n",
    "plt.title('гистограмма возраста пользователей')\n",
    "plt.xlabel('возраст пользователей',)\n",
    "plt.ylabel('количество пользователей')\n"
   ]
  },
  {
   "cell_type": "markdown",
   "id": "c0ac4d99",
   "metadata": {},
   "source": [
    "<div class=\"alert alert-block alert-success\">\n",
    "<b>✅Комментарий ревьюера 3:</b> Отлично, исправлено!👍  </div>"
   ]
  },
  {
   "cell_type": "markdown",
   "id": "9339af4c",
   "metadata": {},
   "source": [
    "<div class=\"alert alert-block alert-warning\">\n",
    "<b>🔁Комментарий ревьюера:</b>\n",
    "\n",
    "В качестве дополнительного инструмента для анализа можно использовать `describe()`</div>"
   ]
  },
  {
   "cell_type": "markdown",
   "id": "053be5b7",
   "metadata": {},
   "source": [
    "<div class=\"alert alert-block alert-success\">\n",
    "<b>✅Комментарий ревьюера 2:</b> Отлично, исправлено!👍  </div>"
   ]
  },
  {
   "cell_type": "markdown",
   "id": "7f6c41f4",
   "metadata": {},
   "source": [
    "самый часто-встречаемый возраст у пользователей это от 22 до 27 лет\n",
    "среднее по возрасту - 24 года"
   ]
  },
  {
   "cell_type": "code",
   "execution_count": 14,
   "id": "0befa87a",
   "metadata": {},
   "outputs": [
    {
     "name": "stdout",
     "output_type": "stream",
     "text": [
      "count    18068.000000\n",
      "mean      3070.659976\n",
      "std       1116.831209\n",
      "min          0.855683\n",
      "25%       2543.226360\n",
      "50%       3133.609994\n",
      "75%       3776.222735\n",
      "max       7211.007745\n",
      "Name: distance, dtype: float64\n"
     ]
    },
    {
     "data": {
      "text/plain": [
       "Text(0.5, 1.0, 'гистограмма дистанции поездок')"
      ]
     },
     "execution_count": 14,
     "metadata": {},
     "output_type": "execute_result"
    },
    {
     "data": {
      "image/png": "[encoded data removed]",
      "text/plain": [
       "<Figure size 360x360 with 1 Axes>"
      ]
     },
     "metadata": {
      "needs_background": "light"
     },
     "output_type": "display_data"
    }
   ],
   "source": [
    "print(rides['distance'].describe())\n",
    "rides['distance'].hist(bins=100,figsize=(5, 5))\n",
    "plt.xlabel('дистанция поездки')\n",
    "plt.ylabel('количество поездок')\n",
    "plt.title('гистограмма дистанции поездок')"
   ]
  },
  {
   "cell_type": "markdown",
   "id": "d4ecdeb9",
   "metadata": {},
   "source": [
    "<div class=\"alert alert-block alert-warning\">\n",
    "<b>🔁Комментарий ревьюера 2:</b>\n",
    "\n",
    "Как ты думаешь, чем можно объяснить два пиковых значения на распределении?</div>"
   ]
  },
  {
   "cell_type": "markdown",
   "id": "c3caf6fc",
   "metadata": {},
   "source": [
    "разные типы поездок, разные типы\n",
    "например, на первой люди ездят возможно до метро, либо к них плохо получается и они завершают аренду, а на второй просто катаются"
   ]
  },
  {
   "cell_type": "markdown",
   "id": "56dd9e4c",
   "metadata": {},
   "source": [
    "<div class=\"alert alert-block alert-success\">\n",
    "<b>✅Комментарий ревьюера 3:</b> Отлично, исправлено!👍 Согласен </div>"
   ]
  },
  {
   "cell_type": "markdown",
   "id": "4bb4d289",
   "metadata": {},
   "source": [
    "<div class=\"alert alert-block alert-warning\">\n",
    "<b>🔁Комментарий ревьюера:</b>\n",
    "\n",
    "Стоит увеличить значение параметра bins для более точного построения распределения.</div>"
   ]
  },
  {
   "cell_type": "markdown",
   "id": "a9c320f8",
   "metadata": {},
   "source": [
    "<div class=\"alert alert-block alert-success\">\n",
    "<b>✅Комментарий ревьюера 2:</b> Отлично, исправлено!👍  </div>"
   ]
  },
  {
   "cell_type": "markdown",
   "id": "60f6fb63",
   "metadata": {},
   "source": [
    "Самые частые поездки по расстоянию находятся в диапазоне от 2800 до 3500 метров\n",
    "средняя поездка - 3070м"
   ]
  },
  {
   "cell_type": "code",
   "execution_count": 15,
   "id": "2eeff060",
   "metadata": {},
   "outputs": [
    {
     "name": "stdout",
     "output_type": "stream",
     "text": [
      "count    18068.000000\n",
      "mean        17.805011\n",
      "std          6.091051\n",
      "min          0.500000\n",
      "25%         13.597563\n",
      "50%         17.678395\n",
      "75%         21.724800\n",
      "max         40.823963\n",
      "Name: duration, dtype: float64\n"
     ]
    },
    {
     "data": {
      "text/plain": [
       "Text(0.5, 1.0, 'гистограмма продолжительности поездок')"
      ]
     },
     "execution_count": 15,
     "metadata": {},
     "output_type": "execute_result"
    },
    {
     "data": {
      "image/png": "[encoded data removed]",
      "text/plain": [
       "<Figure size 360x360 with 1 Axes>"
      ]
     },
     "metadata": {
      "needs_background": "light"
     },
     "output_type": "display_data"
    }
   ],
   "source": [
    "rides['duration'].hist(bins=100,figsize=(5, 5))\n",
    "print(rides['duration'].describe())\n",
    "plt.xlabel('продолжительность поездки',)\n",
    "plt.ylabel('количество поездок')\n",
    "plt.title('гистограмма продолжительности поездок')"
   ]
  },
  {
   "cell_type": "markdown",
   "id": "f64c99f2",
   "metadata": {},
   "source": [
    "<div class=\"alert alert-block alert-success\">\n",
    "<b>✅Комментарий ревьюера 3:</b> Отлично, исправлено!👍  </div>"
   ]
  },
  {
   "cell_type": "markdown",
   "id": "c2a5e0be",
   "metadata": {},
   "source": [
    "<div class=\"alert alert-block alert-warning\">\n",
    "<b>🔁Комментарий ревьюера:</b>\n",
    "\n",
    "Давай все-таки увеличим значение параметра bins. Тогда мы сможем заметить странный пик около 0. Строки с этими поездками и их параметры стоит рассмотреть подробнее на предмет аномалий.</div>"
   ]
  },
  {
   "cell_type": "markdown",
   "id": "b9b8ba49",
   "metadata": {},
   "source": [
    "<div class=\"alert alert-block alert-success\">\n",
    "<b>✅Комментарий ревьюера 3:</b> Отлично, исправлено!👍  </div>"
   ]
  },
  {
   "cell_type": "markdown",
   "id": "ea53ff56",
   "metadata": {},
   "source": [
    "Больше всего поездок длились от 13 до 21 минуты\n",
    "увеличив количество bins мы действительно можем заметить старнный пик на значениях 1 минута, это говорит о том, что пользователь на старте передумал ехать на самокате"
   ]
  },
  {
   "cell_type": "markdown",
   "id": "5ba08c9d",
   "metadata": {},
   "source": [
    "<div class=\"alert alert-block alert-warning\">\n",
    "<b>🔁Комментарий ревьюера 2:</b>\n",
    "\n",
    "Следует все-таки посмотреть на эти поездки подробнее.</div>"
   ]
  },
  {
   "cell_type": "markdown",
   "id": "cc09c449",
   "metadata": {},
   "source": [
    "Методом describe получили среднее значение в 17.8\n",
    "первым и третьем квартилем подтвердили основноый диапазон значений: 13.6 и 21.7"
   ]
  },
  {
   "cell_type": "markdown",
   "id": "355ddaa7",
   "metadata": {},
   "source": [
    "#### Шаг 4. Объединение данных"
   ]
  },
  {
   "cell_type": "code",
   "execution_count": 16,
   "id": "88cd9bcd",
   "metadata": {},
   "outputs": [
    {
     "name": "stdout",
     "output_type": "stream",
     "text": [
      "1534\n",
      "18068\n",
      "18068\n"
     ]
    },
    {
     "data": {
      "text/html": [
       "<div>\n",
       "<style scoped>\n",
       "    .dataframe tbody tr th:only-of-type {\n",
       "        vertical-align: middle;\n",
       "    }\n",
       "\n",
       "    .dataframe tbody tr th {\n",
       "        vertical-align: top;\n",
       "    }\n",
       "\n",
       "    .dataframe thead th {\n",
       "        text-align: right;\n",
       "    }\n",
       "</style>\n",
       "<table border=\"1\" class=\"dataframe\">\n",
       "  <thead>\n",
       "    <tr style=\"text-align: right;\">\n",
       "      <th></th>\n",
       "      <th>user_id</th>\n",
       "      <th>name</th>\n",
       "      <th>age</th>\n",
       "      <th>city</th>\n",
       "      <th>subscription_type</th>\n",
       "      <th>distance</th>\n",
       "      <th>duration</th>\n",
       "      <th>date</th>\n",
       "      <th>month</th>\n",
       "      <th>minute_price</th>\n",
       "      <th>start_ride_price</th>\n",
       "      <th>subscription_fee</th>\n",
       "    </tr>\n",
       "  </thead>\n",
       "  <tbody>\n",
       "    <tr>\n",
       "      <th>0</th>\n",
       "      <td>1</td>\n",
       "      <td>Кира</td>\n",
       "      <td>22</td>\n",
       "      <td>Тюмень</td>\n",
       "      <td>ultra</td>\n",
       "      <td>4409.919140</td>\n",
       "      <td>25.599769</td>\n",
       "      <td>2021-01-01</td>\n",
       "      <td>1</td>\n",
       "      <td>6</td>\n",
       "      <td>0</td>\n",
       "      <td>199</td>\n",
       "    </tr>\n",
       "    <tr>\n",
       "      <th>1</th>\n",
       "      <td>1</td>\n",
       "      <td>Кира</td>\n",
       "      <td>22</td>\n",
       "      <td>Тюмень</td>\n",
       "      <td>ultra</td>\n",
       "      <td>2617.592153</td>\n",
       "      <td>15.816871</td>\n",
       "      <td>2021-01-18</td>\n",
       "      <td>1</td>\n",
       "      <td>6</td>\n",
       "      <td>0</td>\n",
       "      <td>199</td>\n",
       "    </tr>\n",
       "    <tr>\n",
       "      <th>2</th>\n",
       "      <td>1</td>\n",
       "      <td>Кира</td>\n",
       "      <td>22</td>\n",
       "      <td>Тюмень</td>\n",
       "      <td>ultra</td>\n",
       "      <td>754.159807</td>\n",
       "      <td>6.232113</td>\n",
       "      <td>2021-04-20</td>\n",
       "      <td>4</td>\n",
       "      <td>6</td>\n",
       "      <td>0</td>\n",
       "      <td>199</td>\n",
       "    </tr>\n",
       "    <tr>\n",
       "      <th>3</th>\n",
       "      <td>1</td>\n",
       "      <td>Кира</td>\n",
       "      <td>22</td>\n",
       "      <td>Тюмень</td>\n",
       "      <td>ultra</td>\n",
       "      <td>2694.783254</td>\n",
       "      <td>18.511000</td>\n",
       "      <td>2021-08-11</td>\n",
       "      <td>8</td>\n",
       "      <td>6</td>\n",
       "      <td>0</td>\n",
       "      <td>199</td>\n",
       "    </tr>\n",
       "    <tr>\n",
       "      <th>4</th>\n",
       "      <td>1</td>\n",
       "      <td>Кира</td>\n",
       "      <td>22</td>\n",
       "      <td>Тюмень</td>\n",
       "      <td>ultra</td>\n",
       "      <td>4028.687306</td>\n",
       "      <td>26.265803</td>\n",
       "      <td>2021-08-28</td>\n",
       "      <td>8</td>\n",
       "      <td>6</td>\n",
       "      <td>0</td>\n",
       "      <td>199</td>\n",
       "    </tr>\n",
       "    <tr>\n",
       "      <th>...</th>\n",
       "      <td>...</td>\n",
       "      <td>...</td>\n",
       "      <td>...</td>\n",
       "      <td>...</td>\n",
       "      <td>...</td>\n",
       "      <td>...</td>\n",
       "      <td>...</td>\n",
       "      <td>...</td>\n",
       "      <td>...</td>\n",
       "      <td>...</td>\n",
       "      <td>...</td>\n",
       "      <td>...</td>\n",
       "    </tr>\n",
       "    <tr>\n",
       "      <th>18063</th>\n",
       "      <td>1534</td>\n",
       "      <td>Альберт</td>\n",
       "      <td>25</td>\n",
       "      <td>Краснодар</td>\n",
       "      <td>free</td>\n",
       "      <td>3781.098080</td>\n",
       "      <td>19.822962</td>\n",
       "      <td>2021-11-04</td>\n",
       "      <td>11</td>\n",
       "      <td>8</td>\n",
       "      <td>50</td>\n",
       "      <td>0</td>\n",
       "    </tr>\n",
       "    <tr>\n",
       "      <th>18064</th>\n",
       "      <td>1534</td>\n",
       "      <td>Альберт</td>\n",
       "      <td>25</td>\n",
       "      <td>Краснодар</td>\n",
       "      <td>free</td>\n",
       "      <td>2840.423057</td>\n",
       "      <td>21.409799</td>\n",
       "      <td>2021-11-16</td>\n",
       "      <td>11</td>\n",
       "      <td>8</td>\n",
       "      <td>50</td>\n",
       "      <td>0</td>\n",
       "    </tr>\n",
       "    <tr>\n",
       "      <th>18065</th>\n",
       "      <td>1534</td>\n",
       "      <td>Альберт</td>\n",
       "      <td>25</td>\n",
       "      <td>Краснодар</td>\n",
       "      <td>free</td>\n",
       "      <td>3826.185507</td>\n",
       "      <td>18.435051</td>\n",
       "      <td>2021-11-18</td>\n",
       "      <td>11</td>\n",
       "      <td>8</td>\n",
       "      <td>50</td>\n",
       "      <td>0</td>\n",
       "    </tr>\n",
       "    <tr>\n",
       "      <th>18066</th>\n",
       "      <td>1534</td>\n",
       "      <td>Альберт</td>\n",
       "      <td>25</td>\n",
       "      <td>Краснодар</td>\n",
       "      <td>free</td>\n",
       "      <td>2902.308661</td>\n",
       "      <td>16.674362</td>\n",
       "      <td>2021-11-27</td>\n",
       "      <td>11</td>\n",
       "      <td>8</td>\n",
       "      <td>50</td>\n",
       "      <td>0</td>\n",
       "    </tr>\n",
       "    <tr>\n",
       "      <th>18067</th>\n",
       "      <td>1534</td>\n",
       "      <td>Альберт</td>\n",
       "      <td>25</td>\n",
       "      <td>Краснодар</td>\n",
       "      <td>free</td>\n",
       "      <td>2371.711192</td>\n",
       "      <td>15.893917</td>\n",
       "      <td>2021-12-29</td>\n",
       "      <td>12</td>\n",
       "      <td>8</td>\n",
       "      <td>50</td>\n",
       "      <td>0</td>\n",
       "    </tr>\n",
       "  </tbody>\n",
       "</table>\n",
       "<p>18068 rows × 12 columns</p>\n",
       "</div>"
      ],
      "text/plain": [
       "       user_id     name  age       city subscription_type     distance  \\\n",
       "0            1     Кира   22     Тюмень             ultra  4409.919140   \n",
       "1            1     Кира   22     Тюмень             ultra  2617.592153   \n",
       "2            1     Кира   22     Тюмень             ultra   754.159807   \n",
       "3            1     Кира   22     Тюмень             ultra  2694.783254   \n",
       "4            1     Кира   22     Тюмень             ultra  4028.687306   \n",
       "...        ...      ...  ...        ...               ...          ...   \n",
       "18063     1534  Альберт   25  Краснодар              free  3781.098080   \n",
       "18064     1534  Альберт   25  Краснодар              free  2840.423057   \n",
       "18065     1534  Альберт   25  Краснодар              free  3826.185507   \n",
       "18066     1534  Альберт   25  Краснодар              free  2902.308661   \n",
       "18067     1534  Альберт   25  Краснодар              free  2371.711192   \n",
       "\n",
       "        duration       date  month  minute_price  start_ride_price  \\\n",
       "0      25.599769 2021-01-01      1             6                 0   \n",
       "1      15.816871 2021-01-18      1             6                 0   \n",
       "2       6.232113 2021-04-20      4             6                 0   \n",
       "3      18.511000 2021-08-11      8             6                 0   \n",
       "4      26.265803 2021-08-28      8             6                 0   \n",
       "...          ...        ...    ...           ...               ...   \n",
       "18063  19.822962 2021-11-04     11             8                50   \n",
       "18064  21.409799 2021-11-16     11             8                50   \n",
       "18065  18.435051 2021-11-18     11             8                50   \n",
       "18066  16.674362 2021-11-27     11             8                50   \n",
       "18067  15.893917 2021-12-29     12             8                50   \n",
       "\n",
       "       subscription_fee  \n",
       "0                   199  \n",
       "1                   199  \n",
       "2                   199  \n",
       "3                   199  \n",
       "4                   199  \n",
       "...                 ...  \n",
       "18063                 0  \n",
       "18064                 0  \n",
       "18065                 0  \n",
       "18066                 0  \n",
       "18067                 0  \n",
       "\n",
       "[18068 rows x 12 columns]"
      ]
     },
     "execution_count": 16,
     "metadata": {},
     "output_type": "execute_result"
    }
   ],
   "source": [
    "df = users.merge(rides, on='user_id')\n",
    "data = df.merge(subscriptions, on='subscription_type')\n",
    "data_sub = data[data['subscription_type'] == 'ultra']\n",
    "data_without_sub = data[data['subscription_type'] == 'free']\n",
    "data.dtypes\n",
    "print(len(users))\n",
    "print(len(rides))\n",
    "print(len(data))\n",
    "data"
   ]
  },
  {
   "cell_type": "markdown",
   "id": "10ef6f7d",
   "metadata": {},
   "source": [
    "Количество строк осталось прежним, мы счиатем итоговый датафрейм Data по количеству строк ride, лишнего не прибавили"
   ]
  },
  {
   "cell_type": "markdown",
   "id": "8828fb21",
   "metadata": {},
   "source": [
    "<div class=\"alert alert-block alert-success\">\n",
    "<b>✅Комментарий ревьюера 3:</b> Отлично, исправлено!👍  </div>"
   ]
  },
  {
   "cell_type": "markdown",
   "id": "bf330009",
   "metadata": {},
   "source": [
    "<div class=\"alert alert-block alert-success\">\n",
    "<b>✅Комментарий ревьюера 3:</b> Отлично, исправлено!👍  </div>"
   ]
  },
  {
   "cell_type": "code",
   "execution_count": 17,
   "id": "1cab83e7",
   "metadata": {},
   "outputs": [
    {
     "data": {
      "text/plain": [
       "Text(0.5, 1.0, 'длительность поездок с подпиской и без')"
      ]
     },
     "execution_count": 17,
     "metadata": {},
     "output_type": "execute_result"
    },
    {
     "data": {
      "image/png": "[encoded data removed]",
      "text/plain": [
       "<Figure size 432x288 with 1 Axes>"
      ]
     },
     "metadata": {
      "needs_background": "light"
     },
     "output_type": "display_data"
    }
   ],
   "source": [
    "data_without_sub['duration'].hist()\n",
    "data_sub['duration'].hist()\n",
    "plt.xlabel('длительность поездки')\n",
    "plt.ylabel('количество поездок')\n",
    "plt.title('длительность поездок с подпиской и без')"
   ]
  },
  {
   "cell_type": "code",
   "execution_count": 18,
   "id": "7f5d9096",
   "metadata": {},
   "outputs": [
    {
     "data": {
      "text/plain": [
       "Text(0.5, 1.0, 'дистанция поездок с подпиской и без')"
      ]
     },
     "execution_count": 18,
     "metadata": {},
     "output_type": "execute_result"
    },
    {
     "data": {
      "image/png": "[encoded data removed]",
      "text/plain": [
       "<Figure size 432x288 with 1 Axes>"
      ]
     },
     "metadata": {
      "needs_background": "light"
     },
     "output_type": "display_data"
    }
   ],
   "source": [
    "\n",
    "data_without_sub['distance'].hist()  \n",
    "data_sub['distance'].hist()  \n",
    "plt.xlabel('дистанция поездки')\n",
    "plt.ylabel('количество поездок')\n",
    "plt.title('дистанция поездок с подпиской и без')"
   ]
  },
  {
   "cell_type": "markdown",
   "id": "acee052b",
   "metadata": {},
   "source": [
    "<div class=\"alert alert-block alert-warning\">\n",
    "<b>🔁Комментарий ревьюера 2:</b> \n",
    "\n",
    "У этих распределений тоже следует увеличить значение параметра bins</div>"
   ]
  },
  {
   "cell_type": "markdown",
   "id": "9588cf12",
   "metadata": {},
   "source": [
    "<div class=\"alert alert-block alert-warning\">\n",
    "<b>🔁Комментарий ревьюера:</b> \n",
    "\n",
    "Распределения для обеих групп пользователей можно объединить для наглядности, наложив их друг на друга.</div>"
   ]
  },
  {
   "cell_type": "markdown",
   "id": "170da04d",
   "metadata": {},
   "source": [
    "<div class=\"alert alert-block alert-success\">\n",
    "<b>✅Комментарий ревьюера 2:</b> Отлично, исправлено!👍  </div>"
   ]
  },
  {
   "cell_type": "markdown",
   "id": "cf6f2c90",
   "metadata": {},
   "source": [
    "<div class=\"alert alert-block alert-success\">\n",
    "<b>✅Комментарий ревьюера 3:</b> Отлично, исправлено!👍  </div>"
   ]
  },
  {
   "cell_type": "markdown",
   "id": "7cfa7ea4",
   "metadata": {},
   "source": [
    "Поездки с подпиской длиннее, чем без\n",
    "поездки с подпиской дольше, чем без, но разница совсем не большая"
   ]
  },
  {
   "cell_type": "markdown",
   "id": "cde4dc74",
   "metadata": {},
   "source": [
    "#### Шаг 5. Подсчёт выручки"
   ]
  },
  {
   "cell_type": "code",
   "execution_count": 19,
   "id": "5c8bfd21",
   "metadata": {},
   "outputs": [
    {
     "name": "stderr",
     "output_type": "stream",
     "text": [
      "/tmp/ipykernel_230/2952385532.py:2: FutureWarning: Indexing with multiple keys (implicitly converted to a tuple of keys) will be deprecated, use a list instead.\n",
      "  data_grouped = data.groupby(['user_id', 'month'])['duration','distance'].sum()\n"
     ]
    },
    {
     "data": {
      "text/html": [
       "<div>\n",
       "<style scoped>\n",
       "    .dataframe tbody tr th:only-of-type {\n",
       "        vertical-align: middle;\n",
       "    }\n",
       "\n",
       "    .dataframe tbody tr th {\n",
       "        vertical-align: top;\n",
       "    }\n",
       "\n",
       "    .dataframe thead th {\n",
       "        text-align: right;\n",
       "    }\n",
       "</style>\n",
       "<table border=\"1\" class=\"dataframe\">\n",
       "  <thead>\n",
       "    <tr style=\"text-align: right;\">\n",
       "      <th></th>\n",
       "      <th>duration</th>\n",
       "      <th>distance</th>\n",
       "      <th>amount</th>\n",
       "      <th>minute_price</th>\n",
       "      <th>start_ride_price</th>\n",
       "      <th>subscription_fee</th>\n",
       "      <th>subscription_type</th>\n",
       "    </tr>\n",
       "    <tr>\n",
       "      <th>user_id</th>\n",
       "      <th></th>\n",
       "      <th></th>\n",
       "      <th></th>\n",
       "      <th></th>\n",
       "      <th></th>\n",
       "      <th></th>\n",
       "      <th></th>\n",
       "    </tr>\n",
       "  </thead>\n",
       "  <tbody>\n",
       "    <tr>\n",
       "      <th>1</th>\n",
       "      <td>42.0</td>\n",
       "      <td>7027.511294</td>\n",
       "      <td>2</td>\n",
       "      <td>6</td>\n",
       "      <td>0</td>\n",
       "      <td>199</td>\n",
       "      <td>ultra</td>\n",
       "    </tr>\n",
       "    <tr>\n",
       "      <th>1</th>\n",
       "      <td>7.0</td>\n",
       "      <td>754.159807</td>\n",
       "      <td>1</td>\n",
       "      <td>6</td>\n",
       "      <td>0</td>\n",
       "      <td>199</td>\n",
       "      <td>ultra</td>\n",
       "    </tr>\n",
       "    <tr>\n",
       "      <th>1</th>\n",
       "      <td>46.0</td>\n",
       "      <td>6723.470560</td>\n",
       "      <td>2</td>\n",
       "      <td>6</td>\n",
       "      <td>0</td>\n",
       "      <td>199</td>\n",
       "      <td>ultra</td>\n",
       "    </tr>\n",
       "    <tr>\n",
       "      <th>1</th>\n",
       "      <td>32.0</td>\n",
       "      <td>5809.911100</td>\n",
       "      <td>2</td>\n",
       "      <td>6</td>\n",
       "      <td>0</td>\n",
       "      <td>199</td>\n",
       "      <td>ultra</td>\n",
       "    </tr>\n",
       "    <tr>\n",
       "      <th>1</th>\n",
       "      <td>56.0</td>\n",
       "      <td>7003.499363</td>\n",
       "      <td>3</td>\n",
       "      <td>6</td>\n",
       "      <td>0</td>\n",
       "      <td>199</td>\n",
       "      <td>ultra</td>\n",
       "    </tr>\n",
       "    <tr>\n",
       "      <th>...</th>\n",
       "      <td>...</td>\n",
       "      <td>...</td>\n",
       "      <td>...</td>\n",
       "      <td>...</td>\n",
       "      <td>...</td>\n",
       "      <td>...</td>\n",
       "      <td>...</td>\n",
       "    </tr>\n",
       "    <tr>\n",
       "      <th>1534</th>\n",
       "      <td>26.0</td>\n",
       "      <td>3409.468534</td>\n",
       "      <td>2</td>\n",
       "      <td>8</td>\n",
       "      <td>50</td>\n",
       "      <td>0</td>\n",
       "      <td>free</td>\n",
       "    </tr>\n",
       "    <tr>\n",
       "      <th>1534</th>\n",
       "      <td>48.0</td>\n",
       "      <td>7622.453034</td>\n",
       "      <td>2</td>\n",
       "      <td>8</td>\n",
       "      <td>50</td>\n",
       "      <td>0</td>\n",
       "      <td>free</td>\n",
       "    </tr>\n",
       "    <tr>\n",
       "      <th>1534</th>\n",
       "      <td>23.0</td>\n",
       "      <td>4928.173852</td>\n",
       "      <td>1</td>\n",
       "      <td>8</td>\n",
       "      <td>50</td>\n",
       "      <td>0</td>\n",
       "      <td>free</td>\n",
       "    </tr>\n",
       "    <tr>\n",
       "      <th>1534</th>\n",
       "      <td>78.0</td>\n",
       "      <td>13350.015305</td>\n",
       "      <td>4</td>\n",
       "      <td>8</td>\n",
       "      <td>50</td>\n",
       "      <td>0</td>\n",
       "      <td>free</td>\n",
       "    </tr>\n",
       "    <tr>\n",
       "      <th>1534</th>\n",
       "      <td>16.0</td>\n",
       "      <td>2371.711192</td>\n",
       "      <td>1</td>\n",
       "      <td>8</td>\n",
       "      <td>50</td>\n",
       "      <td>0</td>\n",
       "      <td>free</td>\n",
       "    </tr>\n",
       "  </tbody>\n",
       "</table>\n",
       "<p>11331 rows × 7 columns</p>\n",
       "</div>"
      ],
      "text/plain": [
       "         duration      distance  amount  minute_price  start_ride_price  \\\n",
       "user_id                                                                   \n",
       "1            42.0   7027.511294       2             6                 0   \n",
       "1             7.0    754.159807       1             6                 0   \n",
       "1            46.0   6723.470560       2             6                 0   \n",
       "1            32.0   5809.911100       2             6                 0   \n",
       "1            56.0   7003.499363       3             6                 0   \n",
       "...           ...           ...     ...           ...               ...   \n",
       "1534         26.0   3409.468534       2             8                50   \n",
       "1534         48.0   7622.453034       2             8                50   \n",
       "1534         23.0   4928.173852       1             8                50   \n",
       "1534         78.0  13350.015305       4             8                50   \n",
       "1534         16.0   2371.711192       1             8                50   \n",
       "\n",
       "         subscription_fee subscription_type  \n",
       "user_id                                      \n",
       "1                     199             ultra  \n",
       "1                     199             ultra  \n",
       "1                     199             ultra  \n",
       "1                     199             ultra  \n",
       "1                     199             ultra  \n",
       "...                   ...               ...  \n",
       "1534                    0              free  \n",
       "1534                    0              free  \n",
       "1534                    0              free  \n",
       "1534                    0              free  \n",
       "1534                    0              free  \n",
       "\n",
       "[11331 rows x 7 columns]"
      ]
     },
     "execution_count": 19,
     "metadata": {},
     "output_type": "execute_result"
    }
   ],
   "source": [
    "\n",
    "data['duration'] = np.ceil(data['duration']) \n",
    "data_grouped = data.groupby(['user_id', 'month'])['duration','distance'].sum()\n",
    "data_grouped['amount'] = data.pivot_table(index=('user_id','month'), values='distance', aggfunc='count')\n",
    "data_group = data.pivot_table(index='user_id', values=('subscription_type','minute_price','start_ride_price','subscription_fee'),aggfunc='first')\n",
    "data_grouped = data_grouped.merge(data_group,on='user_id')\n",
    "data_grouped"
   ]
  },
  {
   "cell_type": "markdown",
   "id": "9f138aed",
   "metadata": {},
   "source": [
    "сгруппировали данные по месяцу и пользователю, посчитали сумму времени и дистнации для каждого пользователя"
   ]
  },
  {
   "cell_type": "code",
   "execution_count": 20,
   "id": "5e1da3d2",
   "metadata": {},
   "outputs": [
    {
     "data": {
      "text/html": [
       "<div>\n",
       "<style scoped>\n",
       "    .dataframe tbody tr th:only-of-type {\n",
       "        vertical-align: middle;\n",
       "    }\n",
       "\n",
       "    .dataframe tbody tr th {\n",
       "        vertical-align: top;\n",
       "    }\n",
       "\n",
       "    .dataframe thead th {\n",
       "        text-align: right;\n",
       "    }\n",
       "</style>\n",
       "<table border=\"1\" class=\"dataframe\">\n",
       "  <thead>\n",
       "    <tr style=\"text-align: right;\">\n",
       "      <th></th>\n",
       "      <th>duration</th>\n",
       "      <th>distance</th>\n",
       "      <th>amount</th>\n",
       "      <th>minute_price</th>\n",
       "      <th>start_ride_price</th>\n",
       "      <th>subscription_fee</th>\n",
       "      <th>subscription_type</th>\n",
       "      <th>money_from_user</th>\n",
       "    </tr>\n",
       "    <tr>\n",
       "      <th>user_id</th>\n",
       "      <th></th>\n",
       "      <th></th>\n",
       "      <th></th>\n",
       "      <th></th>\n",
       "      <th></th>\n",
       "      <th></th>\n",
       "      <th></th>\n",
       "      <th></th>\n",
       "    </tr>\n",
       "  </thead>\n",
       "  <tbody>\n",
       "    <tr>\n",
       "      <th>1</th>\n",
       "      <td>42.0</td>\n",
       "      <td>7027.511294</td>\n",
       "      <td>2</td>\n",
       "      <td>6</td>\n",
       "      <td>0</td>\n",
       "      <td>199</td>\n",
       "      <td>ultra</td>\n",
       "      <td>451.0</td>\n",
       "    </tr>\n",
       "    <tr>\n",
       "      <th>1</th>\n",
       "      <td>7.0</td>\n",
       "      <td>754.159807</td>\n",
       "      <td>1</td>\n",
       "      <td>6</td>\n",
       "      <td>0</td>\n",
       "      <td>199</td>\n",
       "      <td>ultra</td>\n",
       "      <td>241.0</td>\n",
       "    </tr>\n",
       "    <tr>\n",
       "      <th>1</th>\n",
       "      <td>46.0</td>\n",
       "      <td>6723.470560</td>\n",
       "      <td>2</td>\n",
       "      <td>6</td>\n",
       "      <td>0</td>\n",
       "      <td>199</td>\n",
       "      <td>ultra</td>\n",
       "      <td>475.0</td>\n",
       "    </tr>\n",
       "    <tr>\n",
       "      <th>1</th>\n",
       "      <td>32.0</td>\n",
       "      <td>5809.911100</td>\n",
       "      <td>2</td>\n",
       "      <td>6</td>\n",
       "      <td>0</td>\n",
       "      <td>199</td>\n",
       "      <td>ultra</td>\n",
       "      <td>391.0</td>\n",
       "    </tr>\n",
       "    <tr>\n",
       "      <th>1</th>\n",
       "      <td>56.0</td>\n",
       "      <td>7003.499363</td>\n",
       "      <td>3</td>\n",
       "      <td>6</td>\n",
       "      <td>0</td>\n",
       "      <td>199</td>\n",
       "      <td>ultra</td>\n",
       "      <td>535.0</td>\n",
       "    </tr>\n",
       "    <tr>\n",
       "      <th>...</th>\n",
       "      <td>...</td>\n",
       "      <td>...</td>\n",
       "      <td>...</td>\n",
       "      <td>...</td>\n",
       "      <td>...</td>\n",
       "      <td>...</td>\n",
       "      <td>...</td>\n",
       "      <td>...</td>\n",
       "    </tr>\n",
       "    <tr>\n",
       "      <th>1534</th>\n",
       "      <td>26.0</td>\n",
       "      <td>3409.468534</td>\n",
       "      <td>2</td>\n",
       "      <td>8</td>\n",
       "      <td>50</td>\n",
       "      <td>0</td>\n",
       "      <td>free</td>\n",
       "      <td>308.0</td>\n",
       "    </tr>\n",
       "    <tr>\n",
       "      <th>1534</th>\n",
       "      <td>48.0</td>\n",
       "      <td>7622.453034</td>\n",
       "      <td>2</td>\n",
       "      <td>8</td>\n",
       "      <td>50</td>\n",
       "      <td>0</td>\n",
       "      <td>free</td>\n",
       "      <td>484.0</td>\n",
       "    </tr>\n",
       "    <tr>\n",
       "      <th>1534</th>\n",
       "      <td>23.0</td>\n",
       "      <td>4928.173852</td>\n",
       "      <td>1</td>\n",
       "      <td>8</td>\n",
       "      <td>50</td>\n",
       "      <td>0</td>\n",
       "      <td>free</td>\n",
       "      <td>234.0</td>\n",
       "    </tr>\n",
       "    <tr>\n",
       "      <th>1534</th>\n",
       "      <td>78.0</td>\n",
       "      <td>13350.015305</td>\n",
       "      <td>4</td>\n",
       "      <td>8</td>\n",
       "      <td>50</td>\n",
       "      <td>0</td>\n",
       "      <td>free</td>\n",
       "      <td>824.0</td>\n",
       "    </tr>\n",
       "    <tr>\n",
       "      <th>1534</th>\n",
       "      <td>16.0</td>\n",
       "      <td>2371.711192</td>\n",
       "      <td>1</td>\n",
       "      <td>8</td>\n",
       "      <td>50</td>\n",
       "      <td>0</td>\n",
       "      <td>free</td>\n",
       "      <td>178.0</td>\n",
       "    </tr>\n",
       "  </tbody>\n",
       "</table>\n",
       "<p>11331 rows × 8 columns</p>\n",
       "</div>"
      ],
      "text/plain": [
       "         duration      distance  amount  minute_price  start_ride_price  \\\n",
       "user_id                                                                   \n",
       "1            42.0   7027.511294       2             6                 0   \n",
       "1             7.0    754.159807       1             6                 0   \n",
       "1            46.0   6723.470560       2             6                 0   \n",
       "1            32.0   5809.911100       2             6                 0   \n",
       "1            56.0   7003.499363       3             6                 0   \n",
       "...           ...           ...     ...           ...               ...   \n",
       "1534         26.0   3409.468534       2             8                50   \n",
       "1534         48.0   7622.453034       2             8                50   \n",
       "1534         23.0   4928.173852       1             8                50   \n",
       "1534         78.0  13350.015305       4             8                50   \n",
       "1534         16.0   2371.711192       1             8                50   \n",
       "\n",
       "         subscription_fee subscription_type  money_from_user  \n",
       "user_id                                                       \n",
       "1                     199             ultra            451.0  \n",
       "1                     199             ultra            241.0  \n",
       "1                     199             ultra            475.0  \n",
       "1                     199             ultra            391.0  \n",
       "1                     199             ultra            535.0  \n",
       "...                   ...               ...              ...  \n",
       "1534                    0              free            308.0  \n",
       "1534                    0              free            484.0  \n",
       "1534                    0              free            234.0  \n",
       "1534                    0              free            824.0  \n",
       "1534                    0              free            178.0  \n",
       "\n",
       "[11331 rows x 8 columns]"
      ]
     },
     "execution_count": 20,
     "metadata": {},
     "output_type": "execute_result"
    }
   ],
   "source": [
    "\n",
    "data_grouped['money_from_user'] = data_grouped['start_ride_price'] * data_grouped['amount'] + data_grouped['duration'] * data_grouped['minute_price'] + data_grouped['subscription_fee']\n",
    "data_grouped"
   ]
  },
  {
   "cell_type": "markdown",
   "id": "56794170",
   "metadata": {},
   "source": [
    "<div class=\"alert alert-block alert-success\">\n",
    "<b>✅Комментарий ревьюера 3:</b> Выручка рассчитана верно👍  </div>"
   ]
  },
  {
   "cell_type": "markdown",
   "id": "09750cf5",
   "metadata": {},
   "source": [
    "Посчитали полученные деньги от пользователей помесячно"
   ]
  },
  {
   "cell_type": "markdown",
   "id": "48958177",
   "metadata": {},
   "source": [
    "<div class=\"alert alert-block alert-success\">\n",
    "<b>✅Комментарий ревьюера 3:</b> Отлично, исправлено!👍  </div>"
   ]
  },
  {
   "cell_type": "markdown",
   "id": "5cdab77e",
   "metadata": {},
   "source": [
    "#### Шаг 6. Проверка гипотез"
   ]
  },
  {
   "cell_type": "markdown",
   "id": "09a31221",
   "metadata": {},
   "source": [
    "<div class=\"alert alert-block alert-success\">\n",
    "<b>✅Комментарий ревьюера 3:</b> Отлично, исправлено!👍  </div>"
   ]
  },
  {
   "cell_type": "markdown",
   "id": "0a6df14c",
   "metadata": {},
   "source": [
    "6.1 Важно понять, тратят ли пользователи с подпиской больше времени на поездки? Если да, то пользователи с подпиской могут быть «выгоднее» для компании.\n",
    "\n",
    "Нулевая гипотеза: Пользователи с подпиской и без тратят одинаково времени на поездки. \n",
    "Альтернативная гипотеза - Пользователи с подпиской тратят больше времени на поездку \n",
    "\n",
    "Установим уровень статистической значимости alpha 0.05, если p-value будет меньше чем alpha - значит нулевая гипотеза не подтвердится и будет принята альтернативная\n",
    "\n",
    "\n"
   ]
  },
  {
   "cell_type": "markdown",
   "id": "6cfe4164",
   "metadata": {},
   "source": [
    "<div class=\"alert alert-block alert-success\">\n",
    "<b>✅Комментарий ревьюера 6:</b> Отлично, исправлено!👍  </div>"
   ]
  },
  {
   "cell_type": "markdown",
   "id": "15365fbf",
   "metadata": {},
   "source": [
    "Обработал комментарий, теперь нулевая гипотеза = равенство"
   ]
  },
  {
   "cell_type": "markdown",
   "id": "1ed4f98a",
   "metadata": {},
   "source": [
    "<div class=\"alert alert-block alert-success\">\n",
    "<b>✅Комментарий ревьюера 6:</b> Отлично, исправлено!👍  </div>"
   ]
  },
  {
   "cell_type": "markdown",
   "id": "097128be",
   "metadata": {},
   "source": [
    " исправлено"
   ]
  },
  {
   "cell_type": "markdown",
   "id": "447f54d2",
   "metadata": {},
   "source": [
    "<div class=\"alert alert-block alert-success\">\n",
    "<b>✅Комментарий ревьюера 6:</b> Отлично, исправлено!👍  </div>"
   ]
  },
  {
   "cell_type": "markdown",
   "id": "b670ca09",
   "metadata": {},
   "source": [
    "обработан"
   ]
  },
  {
   "cell_type": "code",
   "execution_count": 21,
   "id": "70a9afd0",
   "metadata": {},
   "outputs": [
    {
     "name": "stdout",
     "output_type": "stream",
     "text": [
      "count    6500.000000\n",
      "mean       18.541985\n",
      "std         5.572048\n",
      "min         3.760353\n",
      "25%        14.524654\n",
      "50%        18.178153\n",
      "75%        21.884129\n",
      "max        40.823963\n",
      "Name: duration, dtype: float64\n",
      "count    11568.000000\n",
      "mean        17.390909\n",
      "std          6.326803\n",
      "min          0.500000\n",
      "25%         12.958437\n",
      "50%         17.326890\n",
      "75%         21.594071\n",
      "max         34.948498\n",
      "Name: duration, dtype: float64\n",
      "p-value: 1.2804098316645618e-34\n",
      "Отвергаем нулевую гипотезу\n"
     ]
    }
   ],
   "source": [
    "print(data_sub['duration'].describe())\n",
    "print(data_without_sub['duration'].describe())\n",
    "\n",
    "alpha = 0.05\n",
    "\n",
    "results = st.ttest_ind(data_sub['duration'],data_without_sub['duration'], alternative='greater')\n",
    "\n",
    "print(f'p-value: {results.pvalue}')\n",
    "\n",
    "# проверяем p-value\n",
    "if results.pvalue < alpha:\n",
    "    print('Отвергаем нулевую гипотезу')\n",
    "else:\n",
    "    print('Подтверждаем нулевую гипотезу') \n"
   ]
  },
  {
   "cell_type": "markdown",
   "id": "82807986",
   "metadata": {},
   "source": [
    "Нулевая гипотеза о равентсве не подтверлась, а альтернативная да"
   ]
  },
  {
   "cell_type": "markdown",
   "id": "10df7040",
   "metadata": {},
   "source": [
    "<div class=\"alert alert-block alert-success\">\n",
    "<b>✅Комментарий ревьюера 4:</b> Отлично, исправлено!👍  </div>"
   ]
  },
  {
   "cell_type": "markdown",
   "id": "a2953710",
   "metadata": {},
   "source": []
  },
  {
   "cell_type": "markdown",
   "id": "c8f30cce",
   "metadata": {},
   "source": [
    "<div class=\"alert alert-block alert-success\">\n",
    "<b>✅Комментарий ревьюера 3:</b> Отлично, исправлено!👍  </div>"
   ]
  },
  {
   "cell_type": "markdown",
   "id": "54f2e2c2",
   "metadata": {},
   "source": [
    "6.2 Расстояние одной поездки в 3130 метров — оптимальное с точки зрения износа самоката. Можно ли сказать, что среднее расстояние, которое проезжают пользователи с подпиской за одну поездку, не превышает 3130 метров? Проверьте гипотезу и сделайте выводы.\n",
    "\n",
    "Нулевая гипотеза - среднее расстояние за одну поездку больше 3130 метров\n",
    "\n",
    "Альтернативная гипотеза - среднее расстояние за одну поездку меньше 3130 метров \n",
    "\n",
    "Установим уровень статистической значимости alpha 0.05, если p-value будет меньше чем, alpha значит нулевая гипотеза не подтвердится, и будет принята альтернативная\n",
    "\n"
   ]
  },
  {
   "cell_type": "markdown",
   "id": "e6233bec",
   "metadata": {
    "id": "5766e785"
   },
   "source": [
    "<div class=\"alert alert-block alert-danger\">\n",
    "<b>❌Комментарий ревьюера 3:</b> \n",
    "    \n",
    "Тут тоже необходимо сформулировать нулевую  и альтернативную гипотезы.</div>"
   ]
  },
  {
   "cell_type": "markdown",
   "id": "1e61b6c0",
   "metadata": {},
   "source": [
    "<div class=\"alert alert-block alert-success\">\n",
    "<b>✅Комментарий ревьюера 4:</b> Отлично, исправлено!👍  </div>"
   ]
  },
  {
   "cell_type": "code",
   "execution_count": 22,
   "id": "4d9c27a4",
   "metadata": {
    "scrolled": true
   },
   "outputs": [
    {
     "name": "stdout",
     "output_type": "stream",
     "text": [
      "p-значение: 0.9195368847849785\n",
      "Подтверждаем нулевую гипотезу\n",
      "3148.6372291760854\n"
     ]
    }
   ],
   "source": [
    "interested_value = 3130\n",
    "\n",
    "alpha = 0.05\n",
    "\n",
    "results = st.ttest_1samp(data_sub['distance'], interested_value, alternative = 'greater')\n",
    "\n",
    "print('p-значение:', results.pvalue) \n",
    "\n",
    "if results.pvalue < alpha:\n",
    "    print('Отвергаем нулевую гипотезу')\n",
    "else:\n",
    "    print('Подтверждаем нулевую гипотезу') \n",
    "    \n",
    "print(data_sub['distance'].median())\n",
    "    "
   ]
  },
  {
   "cell_type": "markdown",
   "id": "69e27952",
   "metadata": {},
   "source": [
    "<div class=\"alert alert-block alert-success\">\n",
    "<b>✅Комментарий ревьюера 6:</b> Отлично, исправлено!👍  </div>"
   ]
  },
  {
   "cell_type": "markdown",
   "id": "5a9d88d0",
   "metadata": {},
   "source": [
    "Нулевая гипотеза подтвердилась, альернативная - нет"
   ]
  },
  {
   "cell_type": "markdown",
   "id": "28ed536e",
   "metadata": {},
   "source": [
    "<div class=\"alert alert-block alert-warning\">\n",
    "<b>🔁Комментарий ревьюера 8:</b> \n",
    "    \n",
    "В выводах всегда должен содержаться явный ответ на поставленный в задании вопрос. Можно ли сказать, что среднее расстояние, которое проезжают пользователи с подпиской за одну поездку, не превышает 3130 метров?     </div>"
   ]
  },
  {
   "cell_type": "markdown",
   "id": "e501f264",
   "metadata": {},
   "source": [
    "Исправлено"
   ]
  },
  {
   "cell_type": "markdown",
   "id": "704d20c0",
   "metadata": {},
   "source": [
    "6.3 Проверьте гипотезу о том, будет ли помесячная выручка от пользователей с подпиской по месяцам выше, чем выручка от пользователей без подписки. Сделайте вывод."
   ]
  },
  {
   "cell_type": "markdown",
   "id": "beffd87b",
   "metadata": {},
   "source": [
    "Нулевая гипотеза формулируется на основании равенства по аналогии с 6.1, \n",
    "Нулевая гипотеза - Помесячные вырукчи пользователей с подпиской и без равны\n",
    "Альтернативная гипотеза - Помесячные вырукча от пользователей с подпиской по месяцам выше\n",
    "\n",
    "Установим уровень статистической значимости alpha 0.05, если p-value будет меньше чем, alpha значит нулевая гипотеза не подтвердится, и будет принята альтернативная\n",
    "\n"
   ]
  },
  {
   "cell_type": "markdown",
   "id": "40f53700",
   "metadata": {},
   "source": [
    "<div class=\"alert alert-block alert-success\">\n",
    "<b>✅Комментарий ревьюера 6:</b> Отлично, исправлено!👍  </div>"
   ]
  },
  {
   "cell_type": "markdown",
   "id": "3474d856",
   "metadata": {},
   "source": [
    "<div class=\"alert alert-block alert-success\">\n",
    "<b>✅Комментарий ревьюера 6:</b> Отлично, исправлено!👍  </div>"
   ]
  },
  {
   "cell_type": "code",
   "execution_count": 23,
   "id": "ccacc450",
   "metadata": {},
   "outputs": [
    {
     "data": {
      "text/html": [
       "<div>\n",
       "<style scoped>\n",
       "    .dataframe tbody tr th:only-of-type {\n",
       "        vertical-align: middle;\n",
       "    }\n",
       "\n",
       "    .dataframe tbody tr th {\n",
       "        vertical-align: top;\n",
       "    }\n",
       "\n",
       "    .dataframe thead th {\n",
       "        text-align: right;\n",
       "    }\n",
       "</style>\n",
       "<table border=\"1\" class=\"dataframe\">\n",
       "  <thead>\n",
       "    <tr style=\"text-align: right;\">\n",
       "      <th></th>\n",
       "      <th>duration</th>\n",
       "      <th>distance</th>\n",
       "      <th>amount</th>\n",
       "      <th>minute_price</th>\n",
       "      <th>start_ride_price</th>\n",
       "      <th>subscription_fee</th>\n",
       "      <th>subscription_type</th>\n",
       "      <th>money_from_user</th>\n",
       "    </tr>\n",
       "    <tr>\n",
       "      <th>user_id</th>\n",
       "      <th></th>\n",
       "      <th></th>\n",
       "      <th></th>\n",
       "      <th></th>\n",
       "      <th></th>\n",
       "      <th></th>\n",
       "      <th></th>\n",
       "      <th></th>\n",
       "    </tr>\n",
       "  </thead>\n",
       "  <tbody>\n",
       "    <tr>\n",
       "      <th>1</th>\n",
       "      <td>42.0</td>\n",
       "      <td>7027.511294</td>\n",
       "      <td>2</td>\n",
       "      <td>6</td>\n",
       "      <td>0</td>\n",
       "      <td>199</td>\n",
       "      <td>ultra</td>\n",
       "      <td>451.0</td>\n",
       "    </tr>\n",
       "    <tr>\n",
       "      <th>1</th>\n",
       "      <td>7.0</td>\n",
       "      <td>754.159807</td>\n",
       "      <td>1</td>\n",
       "      <td>6</td>\n",
       "      <td>0</td>\n",
       "      <td>199</td>\n",
       "      <td>ultra</td>\n",
       "      <td>241.0</td>\n",
       "    </tr>\n",
       "    <tr>\n",
       "      <th>1</th>\n",
       "      <td>46.0</td>\n",
       "      <td>6723.470560</td>\n",
       "      <td>2</td>\n",
       "      <td>6</td>\n",
       "      <td>0</td>\n",
       "      <td>199</td>\n",
       "      <td>ultra</td>\n",
       "      <td>475.0</td>\n",
       "    </tr>\n",
       "    <tr>\n",
       "      <th>1</th>\n",
       "      <td>32.0</td>\n",
       "      <td>5809.911100</td>\n",
       "      <td>2</td>\n",
       "      <td>6</td>\n",
       "      <td>0</td>\n",
       "      <td>199</td>\n",
       "      <td>ultra</td>\n",
       "      <td>391.0</td>\n",
       "    </tr>\n",
       "    <tr>\n",
       "      <th>1</th>\n",
       "      <td>56.0</td>\n",
       "      <td>7003.499363</td>\n",
       "      <td>3</td>\n",
       "      <td>6</td>\n",
       "      <td>0</td>\n",
       "      <td>199</td>\n",
       "      <td>ultra</td>\n",
       "      <td>535.0</td>\n",
       "    </tr>\n",
       "    <tr>\n",
       "      <th>...</th>\n",
       "      <td>...</td>\n",
       "      <td>...</td>\n",
       "      <td>...</td>\n",
       "      <td>...</td>\n",
       "      <td>...</td>\n",
       "      <td>...</td>\n",
       "      <td>...</td>\n",
       "      <td>...</td>\n",
       "    </tr>\n",
       "    <tr>\n",
       "      <th>699</th>\n",
       "      <td>17.0</td>\n",
       "      <td>4072.797406</td>\n",
       "      <td>1</td>\n",
       "      <td>6</td>\n",
       "      <td>0</td>\n",
       "      <td>199</td>\n",
       "      <td>ultra</td>\n",
       "      <td>301.0</td>\n",
       "    </tr>\n",
       "    <tr>\n",
       "      <th>699</th>\n",
       "      <td>45.0</td>\n",
       "      <td>7018.324143</td>\n",
       "      <td>2</td>\n",
       "      <td>6</td>\n",
       "      <td>0</td>\n",
       "      <td>199</td>\n",
       "      <td>ultra</td>\n",
       "      <td>469.0</td>\n",
       "    </tr>\n",
       "    <tr>\n",
       "      <th>699</th>\n",
       "      <td>31.0</td>\n",
       "      <td>6364.861911</td>\n",
       "      <td>2</td>\n",
       "      <td>6</td>\n",
       "      <td>0</td>\n",
       "      <td>199</td>\n",
       "      <td>ultra</td>\n",
       "      <td>385.0</td>\n",
       "    </tr>\n",
       "    <tr>\n",
       "      <th>699</th>\n",
       "      <td>16.0</td>\n",
       "      <td>4707.845501</td>\n",
       "      <td>1</td>\n",
       "      <td>6</td>\n",
       "      <td>0</td>\n",
       "      <td>199</td>\n",
       "      <td>ultra</td>\n",
       "      <td>295.0</td>\n",
       "    </tr>\n",
       "    <tr>\n",
       "      <th>699</th>\n",
       "      <td>26.0</td>\n",
       "      <td>3202.890770</td>\n",
       "      <td>1</td>\n",
       "      <td>6</td>\n",
       "      <td>0</td>\n",
       "      <td>199</td>\n",
       "      <td>ultra</td>\n",
       "      <td>355.0</td>\n",
       "    </tr>\n",
       "  </tbody>\n",
       "</table>\n",
       "<p>4533 rows × 8 columns</p>\n",
       "</div>"
      ],
      "text/plain": [
       "         duration     distance  amount  minute_price  start_ride_price  \\\n",
       "user_id                                                                  \n",
       "1            42.0  7027.511294       2             6                 0   \n",
       "1             7.0   754.159807       1             6                 0   \n",
       "1            46.0  6723.470560       2             6                 0   \n",
       "1            32.0  5809.911100       2             6                 0   \n",
       "1            56.0  7003.499363       3             6                 0   \n",
       "...           ...          ...     ...           ...               ...   \n",
       "699          17.0  4072.797406       1             6                 0   \n",
       "699          45.0  7018.324143       2             6                 0   \n",
       "699          31.0  6364.861911       2             6                 0   \n",
       "699          16.0  4707.845501       1             6                 0   \n",
       "699          26.0  3202.890770       1             6                 0   \n",
       "\n",
       "         subscription_fee subscription_type  money_from_user  \n",
       "user_id                                                       \n",
       "1                     199             ultra            451.0  \n",
       "1                     199             ultra            241.0  \n",
       "1                     199             ultra            475.0  \n",
       "1                     199             ultra            391.0  \n",
       "1                     199             ultra            535.0  \n",
       "...                   ...               ...              ...  \n",
       "699                   199             ultra            301.0  \n",
       "699                   199             ultra            469.0  \n",
       "699                   199             ultra            385.0  \n",
       "699                   199             ultra            295.0  \n",
       "699                   199             ultra            355.0  \n",
       "\n",
       "[4533 rows x 8 columns]"
      ]
     },
     "execution_count": 23,
     "metadata": {},
     "output_type": "execute_result"
    }
   ],
   "source": [
    "data_grouped_sub = data_grouped[data_grouped['subscription_type']=='ultra']\n",
    "data_grouped_sub['money_from_user'].describe()\n",
    "data_grouped_sub "
   ]
  },
  {
   "cell_type": "code",
   "execution_count": 24,
   "id": "50eaa232",
   "metadata": {},
   "outputs": [
    {
     "data": {
      "text/html": [
       "<div>\n",
       "<style scoped>\n",
       "    .dataframe tbody tr th:only-of-type {\n",
       "        vertical-align: middle;\n",
       "    }\n",
       "\n",
       "    .dataframe tbody tr th {\n",
       "        vertical-align: top;\n",
       "    }\n",
       "\n",
       "    .dataframe thead th {\n",
       "        text-align: right;\n",
       "    }\n",
       "</style>\n",
       "<table border=\"1\" class=\"dataframe\">\n",
       "  <thead>\n",
       "    <tr style=\"text-align: right;\">\n",
       "      <th></th>\n",
       "      <th>duration</th>\n",
       "      <th>distance</th>\n",
       "      <th>amount</th>\n",
       "      <th>minute_price</th>\n",
       "      <th>start_ride_price</th>\n",
       "      <th>subscription_fee</th>\n",
       "      <th>subscription_type</th>\n",
       "      <th>money_from_user</th>\n",
       "    </tr>\n",
       "    <tr>\n",
       "      <th>user_id</th>\n",
       "      <th></th>\n",
       "      <th></th>\n",
       "      <th></th>\n",
       "      <th></th>\n",
       "      <th></th>\n",
       "      <th></th>\n",
       "      <th></th>\n",
       "      <th></th>\n",
       "    </tr>\n",
       "  </thead>\n",
       "  <tbody>\n",
       "    <tr>\n",
       "      <th>700</th>\n",
       "      <td>15.0</td>\n",
       "      <td>2515.690719</td>\n",
       "      <td>1</td>\n",
       "      <td>8</td>\n",
       "      <td>50</td>\n",
       "      <td>0</td>\n",
       "      <td>free</td>\n",
       "      <td>170.0</td>\n",
       "    </tr>\n",
       "    <tr>\n",
       "      <th>700</th>\n",
       "      <td>89.0</td>\n",
       "      <td>13446.659764</td>\n",
       "      <td>5</td>\n",
       "      <td>8</td>\n",
       "      <td>50</td>\n",
       "      <td>0</td>\n",
       "      <td>free</td>\n",
       "      <td>962.0</td>\n",
       "    </tr>\n",
       "    <tr>\n",
       "      <th>700</th>\n",
       "      <td>19.0</td>\n",
       "      <td>3798.334905</td>\n",
       "      <td>1</td>\n",
       "      <td>8</td>\n",
       "      <td>50</td>\n",
       "      <td>0</td>\n",
       "      <td>free</td>\n",
       "      <td>202.0</td>\n",
       "    </tr>\n",
       "    <tr>\n",
       "      <th>700</th>\n",
       "      <td>16.0</td>\n",
       "      <td>2984.551206</td>\n",
       "      <td>1</td>\n",
       "      <td>8</td>\n",
       "      <td>50</td>\n",
       "      <td>0</td>\n",
       "      <td>free</td>\n",
       "      <td>178.0</td>\n",
       "    </tr>\n",
       "    <tr>\n",
       "      <th>700</th>\n",
       "      <td>29.0</td>\n",
       "      <td>5927.650988</td>\n",
       "      <td>2</td>\n",
       "      <td>8</td>\n",
       "      <td>50</td>\n",
       "      <td>0</td>\n",
       "      <td>free</td>\n",
       "      <td>332.0</td>\n",
       "    </tr>\n",
       "    <tr>\n",
       "      <th>...</th>\n",
       "      <td>...</td>\n",
       "      <td>...</td>\n",
       "      <td>...</td>\n",
       "      <td>...</td>\n",
       "      <td>...</td>\n",
       "      <td>...</td>\n",
       "      <td>...</td>\n",
       "      <td>...</td>\n",
       "    </tr>\n",
       "    <tr>\n",
       "      <th>1534</th>\n",
       "      <td>26.0</td>\n",
       "      <td>3409.468534</td>\n",
       "      <td>2</td>\n",
       "      <td>8</td>\n",
       "      <td>50</td>\n",
       "      <td>0</td>\n",
       "      <td>free</td>\n",
       "      <td>308.0</td>\n",
       "    </tr>\n",
       "    <tr>\n",
       "      <th>1534</th>\n",
       "      <td>48.0</td>\n",
       "      <td>7622.453034</td>\n",
       "      <td>2</td>\n",
       "      <td>8</td>\n",
       "      <td>50</td>\n",
       "      <td>0</td>\n",
       "      <td>free</td>\n",
       "      <td>484.0</td>\n",
       "    </tr>\n",
       "    <tr>\n",
       "      <th>1534</th>\n",
       "      <td>23.0</td>\n",
       "      <td>4928.173852</td>\n",
       "      <td>1</td>\n",
       "      <td>8</td>\n",
       "      <td>50</td>\n",
       "      <td>0</td>\n",
       "      <td>free</td>\n",
       "      <td>234.0</td>\n",
       "    </tr>\n",
       "    <tr>\n",
       "      <th>1534</th>\n",
       "      <td>78.0</td>\n",
       "      <td>13350.015305</td>\n",
       "      <td>4</td>\n",
       "      <td>8</td>\n",
       "      <td>50</td>\n",
       "      <td>0</td>\n",
       "      <td>free</td>\n",
       "      <td>824.0</td>\n",
       "    </tr>\n",
       "    <tr>\n",
       "      <th>1534</th>\n",
       "      <td>16.0</td>\n",
       "      <td>2371.711192</td>\n",
       "      <td>1</td>\n",
       "      <td>8</td>\n",
       "      <td>50</td>\n",
       "      <td>0</td>\n",
       "      <td>free</td>\n",
       "      <td>178.0</td>\n",
       "    </tr>\n",
       "  </tbody>\n",
       "</table>\n",
       "<p>6798 rows × 8 columns</p>\n",
       "</div>"
      ],
      "text/plain": [
       "         duration      distance  amount  minute_price  start_ride_price  \\\n",
       "user_id                                                                   \n",
       "700          15.0   2515.690719       1             8                50   \n",
       "700          89.0  13446.659764       5             8                50   \n",
       "700          19.0   3798.334905       1             8                50   \n",
       "700          16.0   2984.551206       1             8                50   \n",
       "700          29.0   5927.650988       2             8                50   \n",
       "...           ...           ...     ...           ...               ...   \n",
       "1534         26.0   3409.468534       2             8                50   \n",
       "1534         48.0   7622.453034       2             8                50   \n",
       "1534         23.0   4928.173852       1             8                50   \n",
       "1534         78.0  13350.015305       4             8                50   \n",
       "1534         16.0   2371.711192       1             8                50   \n",
       "\n",
       "         subscription_fee subscription_type  money_from_user  \n",
       "user_id                                                       \n",
       "700                     0              free            170.0  \n",
       "700                     0              free            962.0  \n",
       "700                     0              free            202.0  \n",
       "700                     0              free            178.0  \n",
       "700                     0              free            332.0  \n",
       "...                   ...               ...              ...  \n",
       "1534                    0              free            308.0  \n",
       "1534                    0              free            484.0  \n",
       "1534                    0              free            234.0  \n",
       "1534                    0              free            824.0  \n",
       "1534                    0              free            178.0  \n",
       "\n",
       "[6798 rows x 8 columns]"
      ]
     },
     "execution_count": 24,
     "metadata": {},
     "output_type": "execute_result"
    }
   ],
   "source": [
    "\n",
    "data_grouped_without_sub = data_grouped[data_grouped['subscription_type']=='free']\n",
    "data_grouped_without_sub['money_from_user'].describe()\n",
    "data_grouped_without_sub "
   ]
  },
  {
   "cell_type": "code",
   "execution_count": 25,
   "id": "113212fd",
   "metadata": {},
   "outputs": [
    {
     "name": "stdout",
     "output_type": "stream",
     "text": [
      "p-value: 1.8850394384715216e-31\n",
      "Отвергаем нулевую гипотезу\n"
     ]
    }
   ],
   "source": [
    "alpha = 0.05\n",
    "\n",
    "results = st.ttest_ind(data_grouped_sub['money_from_user'],data_grouped_without_sub['money_from_user'], alternative='greater')\n",
    "\n",
    "print(f'p-value: {results.pvalue}')\n",
    "\n",
    "# проверяем p-value\n",
    "if results.pvalue < alpha:\n",
    "    print('Отвергаем нулевую гипотезу')\n",
    "else:\n",
    "    print('Нет оснований отвергнуть нулевую гипотезу')"
   ]
  },
  {
   "cell_type": "markdown",
   "id": "ef0ec18c",
   "metadata": {},
   "source": [
    "<div class=\"alert alert-block alert-success\">\n",
    "<b>✅Комментарий ревьюера 6:</b> Отлично, исправлено!👍  </div>"
   ]
  },
  {
   "cell_type": "markdown",
   "id": "2f0bca5b",
   "metadata": {},
   "source": [
    "Нулевая гипотеза не подтвердилась, помесячная выручка от пользователей с подпиской выше, чем без"
   ]
  },
  {
   "cell_type": "markdown",
   "id": "7b8dedfb",
   "metadata": {},
   "source": [
    "<div class=\"alert alert-block alert-success\">\n",
    "<b>✅Комментарий ревьюера 6:</b> Отлично, исправлено!👍  </div>"
   ]
  },
  {
   "cell_type": "markdown",
   "id": "6003bfad",
   "metadata": {},
   "source": [
    "6.4 Представьте такую ситуацию: техническая команда сервиса обновила сервера, с которыми взаимодействует мобильное приложение. Она надеется, что из-за этого количество обращений в техподдержку значимо снизилось. Некоторый файл содержит для каждого пользователя данные о количестве обращений до обновления и после него. Какой тест вам понадобился бы для проверки этой гипотезы?\n"
   ]
  },
  {
   "cell_type": "code",
   "execution_count": 26,
   "id": "423c8a49",
   "metadata": {},
   "outputs": [
    {
     "name": "stdout",
     "output_type": "stream",
     "text": [
      "p-значение: 0.2628408443109411\n",
      "Не получилось отвергнуть нулевую гипотезу\n"
     ]
    }
   ],
   "source": [
    "before = [152,154,160,130]\n",
    "\n",
    "after =  [153,157,148,170]\n",
    "\n",
    "results = st.ttest_rel(before, after, alternative = 'less')\n",
    "\n",
    "print('p-значение:', results.pvalue)\n",
    "\n",
    "if results.pvalue < alpha:\n",
    "    print('Отвергаем нулевую гипотезу')\n",
    "else:\n",
    "    print('Не получилось отвергнуть нулевую гипотезу')"
   ]
  },
  {
   "cell_type": "markdown",
   "id": "29adf701",
   "metadata": {},
   "source": [
    "Чтобы проверить гипотезу о равенстве среднего генеральной совокупности для зависимых (парных) выборок в Python, нужон будет применить метод scipy.stats.ttest_rel()\n",
    "\n",
    "Выше привел прмиер кода, данные придуманы, чтобы показать нужный метод "
   ]
  },
  {
   "cell_type": "markdown",
   "id": "e4b1c90a",
   "metadata": {},
   "source": [
    "<div class=\"alert alert-block alert-warning\">\n",
    "<b>🔁Комментарий ревьюера 3:</b>\n",
    "\n",
    "Метод выбран верный\n",
    "\n",
    "Но обрати внимание, что гипотеза тоже односторонняя, поэтому необходимо указывать значение для параметра alternative.</div>"
   ]
  },
  {
   "cell_type": "markdown",
   "id": "7a1ee567",
   "metadata": {},
   "source": [
    "<div class=\"alert alert-block alert-success\">\n",
    "<b>✅Комментарий ревьюера 6:</b> Отлично, исправлено!👍  </div>"
   ]
  },
  {
   "cell_type": "markdown",
   "id": "6b1ba15f",
   "metadata": {},
   "source": [
    "#### Шаг 7. Распределения"
   ]
  },
  {
   "cell_type": "markdown",
   "id": "d842b9ed",
   "metadata": {},
   "source": [
    "<div class=\"alert alert-block alert-warning\">\n",
    "<b>🔁Комментарий ревьюера:</b>\n",
    "\n",
    "Все библиотеки лучше импортировать в самом начале проекта, в отдельной ячейке. Если в процессе работы появилась необходимость добавить библиотеку, то ее можно дописать в эту ячейку и исполнить.</div>"
   ]
  },
  {
   "cell_type": "code",
   "execution_count": 27,
   "id": "8d4213ef",
   "metadata": {
    "scrolled": true
   },
   "outputs": [
    {
     "data": {
      "text/plain": [
       "<BarContainer object of 1001 artists>"
      ]
     },
     "execution_count": 27,
     "metadata": {},
     "output_type": "execute_result"
    },
    {
     "data": {
      "image/png": "[encoded data removed]",
      "text/plain": [
       "<Figure size 432x288 with 1 Axes>"
      ]
     },
     "metadata": {
      "needs_background": "light"
     },
     "output_type": "display_data"
    }
   ],
   "source": [
    "from matplotlib import pyplot as pltl\n",
    "from scipy.stats import binom\n",
    "\n",
    "n = 1000 # количество попыток\n",
    "p = 0.1 # вероятность успеха\n",
    "\n",
    "distr = []\n",
    "\n",
    "for k in range(0, n + 1):\n",
    "    current_value = binom.cdf(k, n, p)\n",
    "    distr.append(current_value)\n",
    "    \n",
    "plt.bar(range(0, n + 1), distr)"
   ]
  },
  {
   "cell_type": "markdown",
   "id": "d05ce4f2",
   "metadata": {},
   "source": [
    "через binom.cdf() получили следующее"
   ]
  },
  {
   "cell_type": "markdown",
   "id": "15c8478f",
   "metadata": {},
   "source": [
    "<div class=\"alert alert-block alert-warning\">\n",
    "<b>🔁Комментарий ревьюера 3:</b> \n",
    "    \n",
    "\n",
    "Сколько промокодов потребуется и какая будет вероятность невыполнения плана?\n",
    "\n",
    "P.S. метод binom.cdf() нам как раз и считает эту вероятность.</div>"
   ]
  },
  {
   "cell_type": "markdown",
   "id": "c71ec797",
   "metadata": {},
   "source": [
    "<div class=\"alert alert-block alert-warning\">\n",
    "<b>🔁Комментарий ревьюера:</b> \n",
    "    \n",
    "\n",
    "Дело в том, что ты считаешь факториал от числа 2000, потом делишь его еще на произведение факториалов, в результате получается очень большое число, которое не умещается в тип данных float.\n",
    "    \n",
    "В этом задании стоит использовать биномиальное распределение, подбирая подходящее значение параметра n (количество промокодов) в цикле для заданного параметра p = 0.1 (вероятность успеха) с помощью метода binom.cdf()  и сравнивая результат с заданной вероятностью невыполнить план.</div>"
   ]
  },
  {
   "cell_type": "code",
   "execution_count": 28,
   "id": "6b34625b",
   "metadata": {},
   "outputs": [
    {
     "name": "stdout",
     "output_type": "stream",
     "text": [
      "0.15371708296369768\n"
     ]
    }
   ],
   "source": [
    "from math import sqrt\n",
    "from scipy import stats as st\n",
    "\n",
    "# задаём параметры биномиального распределения\n",
    "n = 1000000\n",
    "p = 0.4\n",
    "\n",
    "\n",
    "# зададим мат.ожидание и ст.отклонение нормального распределения равными\n",
    "# мат.ожиданию и ст.отклонению биномиального распределения\n",
    "mu = n * p\n",
    "sigma = sqrt(n * p * (1 - p))\n",
    "\n",
    "# задаём нормальное распределение\n",
    "distr = st.norm(mu, sigma) \n",
    "\n",
    "# считаем вероятность хвоста слева от 43 тысяч\n",
    "result = distr.cdf(399500)\n",
    "print(result)\n",
    "\n"
   ]
  },
  {
   "cell_type": "markdown",
   "id": "f6b16331",
   "metadata": {},
   "source": [
    "Вероятность получить меньше 399.5 тыс открытиый баннерра равна 15.3%"
   ]
  },
  {
   "cell_type": "markdown",
   "id": "cb9632c9",
   "metadata": {},
   "source": [
    "<div class=\"alert alert-block alert-success\">\n",
    "<b>✅Комментарий ревьюера:</b> \n",
    "\n",
    "Тут результат верный.</div>"
   ]
  },
  {
   "cell_type": "markdown",
   "id": "916ea9ef",
   "metadata": {},
   "source": [
    "ОБЩИЙ ВЫВОД:\n",
    "\n",
    "В данном проекте мы обработали 3 дата-фреймов от сервиса аренды самокатов, визуализировали данные, проверяли наличие явных дубликатов и пропусков, доабавили новые столбцы, поменяли тип данных, там где это необходимо. \n",
    "После объединили все дата-фреймы в один, сгруппировали данные из него, посчитали данные по месяцам, далее сформлировали и проверили 4 нулевых гипотезы\n",
    "\n",
    "Главные выводы:\n",
    "-Пользователи с подпиской являются более выгодными для данного сервиса аренды самокатов, они больше тратят денег в месяц, но их как группа меньше, чем тех, кто без подписки\n",
    "-средняя поездка пользователей составляет 3145 метров, что почти укладывается в оптимальные 3130\n",
    "\n",
    "\n",
    "Аналитические выводы: \n",
    "\n",
    "54% пользователя имеют подписку, а 46% пользователей нет\n",
    "Самый встречаемые город - Пятигорск, самый невстречаемый - Москва\n",
    "основная масса пользователей находится в промежутке от 22 до 27 лет, на этом можно основывать ЦА под маркетинг\n",
    "\n",
    "\n",
    "Рекомендации:\n",
    "Я могу посоветовать ранжировать стоимость поездки в зависимосии от городов, а также развивать программу привлечения месячных подписок, данная категоряи людей выгоднее для сервиса, потому что фиксированно 199 рублей, как минимум, мы получим всегда"
   ]
  },
  {
   "cell_type": "markdown",
   "id": "fe44b64e",
   "metadata": {},
   "source": [
    "<div class=\"alert alert-block alert-warning\">\n",
    "<b>🔁Комментарий ревьюера 3:</b>\n",
    "\n",
    "Не хватает результатов по исследовательскому анализу.\n",
    "\n",
    "**Хочу обратить твое внимание на то, что после исправления замечаний в некоторых пунктах исследования могут измениться результаты, поэтому нужно будет подкорректировать выводы.**</div>"
   ]
  },
  {
   "cell_type": "markdown",
   "id": "c636856c",
   "metadata": {},
   "source": [
    "<div class=\"alert alert-block alert-success\">\n",
    "<b>✅Комментарий ревьюера 4:</b> Отлично, исправлено!👍  </div>"
   ]
  },
  {
   "cell_type": "code",
   "execution_count": null,
   "id": "ca7294a2",
   "metadata": {},
   "outputs": [],
   "source": []
  }
 ],
 "metadata": {
  "ExecuteTimeLog": [
   {
    "duration": 93,
    "start_time": "2023-12-04T18:00:53.840Z"
   },
   {
    "duration": 427,
    "start_time": "2023-12-04T18:01:08.530Z"
   },
   {
    "duration": 78,
    "start_time": "2023-12-04T18:01:10.267Z"
   },
   {
    "duration": 912,
    "start_time": "2023-12-04T18:03:03.164Z"
   },
   {
    "duration": 198,
    "start_time": "2023-12-04T18:03:07.391Z"
   },
   {
    "duration": 71,
    "start_time": "2023-12-04T18:03:29.196Z"
   },
   {
    "duration": 13,
    "start_time": "2023-12-04T18:04:52.370Z"
   },
   {
    "duration": 71,
    "start_time": "2023-12-04T18:04:58.674Z"
   },
   {
    "duration": 9,
    "start_time": "2023-12-04T18:05:39.297Z"
   },
   {
    "duration": 79,
    "start_time": "2023-12-04T18:06:31.683Z"
   },
   {
    "duration": 500,
    "start_time": "2023-12-04T18:06:36.170Z"
   },
   {
    "duration": 294,
    "start_time": "2023-12-04T18:06:47.492Z"
   },
   {
    "duration": 118,
    "start_time": "2023-12-04T18:07:05.845Z"
   },
   {
    "duration": 299,
    "start_time": "2023-12-04T18:07:20.345Z"
   },
   {
    "duration": 305,
    "start_time": "2023-12-04T18:07:43.500Z"
   },
   {
    "duration": 8,
    "start_time": "2023-12-04T18:09:05.145Z"
   },
   {
    "duration": 12,
    "start_time": "2023-12-04T18:09:20.202Z"
   },
   {
    "duration": 95,
    "start_time": "2023-12-04T18:09:24.905Z"
   },
   {
    "duration": 17,
    "start_time": "2023-12-04T18:10:02.805Z"
   },
   {
    "duration": 63,
    "start_time": "2023-12-04T18:10:12.740Z"
   },
   {
    "duration": 70,
    "start_time": "2023-12-04T18:10:21.979Z"
   },
   {
    "duration": 11,
    "start_time": "2023-12-04T18:11:46.546Z"
   },
   {
    "duration": 6,
    "start_time": "2023-12-04T18:16:01.209Z"
   },
   {
    "duration": 22,
    "start_time": "2023-12-04T18:17:16.900Z"
   },
   {
    "duration": 11,
    "start_time": "2023-12-04T18:17:34.787Z"
   },
   {
    "duration": 7,
    "start_time": "2023-12-04T18:17:45.653Z"
   },
   {
    "duration": 13,
    "start_time": "2023-12-04T18:18:04.140Z"
   },
   {
    "duration": 6,
    "start_time": "2023-12-04T18:21:29.973Z"
   },
   {
    "duration": 9,
    "start_time": "2023-12-04T18:22:41.574Z"
   },
   {
    "duration": 5,
    "start_time": "2023-12-04T18:22:46.608Z"
   },
   {
    "duration": 5,
    "start_time": "2023-12-04T18:23:01.997Z"
   },
   {
    "duration": 5,
    "start_time": "2023-12-04T18:23:07.249Z"
   },
   {
    "duration": 6,
    "start_time": "2023-12-04T18:23:15.972Z"
   },
   {
    "duration": 10,
    "start_time": "2023-12-04T18:25:18.655Z"
   },
   {
    "duration": 7,
    "start_time": "2023-12-04T18:25:26.699Z"
   },
   {
    "duration": 5,
    "start_time": "2023-12-04T18:26:00.439Z"
   },
   {
    "duration": 6,
    "start_time": "2023-12-04T18:26:03.296Z"
   },
   {
    "duration": 5,
    "start_time": "2023-12-04T18:26:08.101Z"
   },
   {
    "duration": 21,
    "start_time": "2023-12-04T18:44:52.990Z"
   },
   {
    "duration": 372,
    "start_time": "2023-12-04T18:45:12.899Z"
   },
   {
    "duration": 13,
    "start_time": "2023-12-04T18:49:19.215Z"
   },
   {
    "duration": 22,
    "start_time": "2023-12-04T18:49:44.439Z"
   },
   {
    "duration": 17,
    "start_time": "2023-12-04T18:50:20.519Z"
   },
   {
    "duration": 18,
    "start_time": "2023-12-04T18:50:27.043Z"
   },
   {
    "duration": 21,
    "start_time": "2023-12-04T18:51:22.929Z"
   },
   {
    "duration": 292,
    "start_time": "2023-12-04T18:52:20.629Z"
   },
   {
    "duration": 31,
    "start_time": "2023-12-04T19:01:02.832Z"
   },
   {
    "duration": 12,
    "start_time": "2023-12-04T19:01:47.223Z"
   },
   {
    "duration": 610,
    "start_time": "2023-12-04T19:06:07.302Z"
   },
   {
    "duration": 31,
    "start_time": "2023-12-04T19:08:56.922Z"
   },
   {
    "duration": 21,
    "start_time": "2023-12-04T19:09:16.679Z"
   },
   {
    "duration": 34,
    "start_time": "2023-12-04T19:09:33.388Z"
   },
   {
    "duration": 33,
    "start_time": "2023-12-04T19:10:28.034Z"
   },
   {
    "duration": 663,
    "start_time": "2023-12-04T19:11:24.239Z"
   },
   {
    "duration": 163,
    "start_time": "2023-12-04T19:12:37.247Z"
   },
   {
    "duration": 120,
    "start_time": "2023-12-04T19:12:50.326Z"
   },
   {
    "duration": 132,
    "start_time": "2023-12-04T19:13:11.975Z"
   },
   {
    "duration": 117,
    "start_time": "2023-12-04T19:13:30.777Z"
   },
   {
    "duration": 280,
    "start_time": "2023-12-04T19:17:28.695Z"
   },
   {
    "duration": 10,
    "start_time": "2023-12-04T19:17:40.068Z"
   },
   {
    "duration": 120,
    "start_time": "2023-12-04T19:17:46.367Z"
   },
   {
    "duration": 149,
    "start_time": "2023-12-04T19:17:54.602Z"
   },
   {
    "duration": 128,
    "start_time": "2023-12-04T19:18:00.194Z"
   },
   {
    "duration": 1213,
    "start_time": "2023-12-04T19:18:49.494Z"
   },
   {
    "duration": 6,
    "start_time": "2023-12-04T19:19:11.935Z"
   },
   {
    "duration": 25,
    "start_time": "2023-12-04T19:19:28.314Z"
   },
   {
    "duration": 17,
    "start_time": "2023-12-04T19:19:58.527Z"
   },
   {
    "duration": 64,
    "start_time": "2023-12-04T19:20:18.569Z"
   },
   {
    "duration": 17,
    "start_time": "2023-12-04T19:20:30.196Z"
   },
   {
    "duration": 10,
    "start_time": "2023-12-04T19:21:12.734Z"
   },
   {
    "duration": 11,
    "start_time": "2023-12-04T19:21:30.741Z"
   },
   {
    "duration": 15,
    "start_time": "2023-12-04T19:22:38.851Z"
   },
   {
    "duration": 27,
    "start_time": "2023-12-04T19:22:43.874Z"
   },
   {
    "duration": 26,
    "start_time": "2023-12-04T19:23:05.760Z"
   },
   {
    "duration": 10,
    "start_time": "2023-12-04T19:23:46.814Z"
   },
   {
    "duration": 10,
    "start_time": "2023-12-04T19:24:55.821Z"
   },
   {
    "duration": 28,
    "start_time": "2023-12-04T19:25:00.609Z"
   },
   {
    "duration": 6,
    "start_time": "2023-12-04T19:28:01.271Z"
   },
   {
    "duration": 9,
    "start_time": "2023-12-04T19:29:14.702Z"
   },
   {
    "duration": 21,
    "start_time": "2023-12-04T19:29:30.065Z"
   },
   {
    "duration": 34,
    "start_time": "2023-12-04T19:29:51.370Z"
   },
   {
    "duration": 26,
    "start_time": "2023-12-04T19:31:01.648Z"
   },
   {
    "duration": 3,
    "start_time": "2023-12-04T19:31:14.580Z"
   },
   {
    "duration": 5,
    "start_time": "2023-12-04T19:31:44.849Z"
   },
   {
    "duration": 14,
    "start_time": "2023-12-04T19:35:05.186Z"
   },
   {
    "duration": 5,
    "start_time": "2023-12-04T19:36:00.333Z"
   },
   {
    "duration": 14,
    "start_time": "2023-12-04T19:36:05.109Z"
   },
   {
    "duration": 6,
    "start_time": "2023-12-04T19:37:20.327Z"
   },
   {
    "duration": 7,
    "start_time": "2023-12-04T19:37:42.628Z"
   },
   {
    "duration": 7,
    "start_time": "2023-12-04T19:38:21.660Z"
   },
   {
    "duration": 134,
    "start_time": "2023-12-04T19:40:15.536Z"
   },
   {
    "duration": 128,
    "start_time": "2023-12-04T19:41:39.485Z"
   },
   {
    "duration": 125,
    "start_time": "2023-12-04T19:43:06.123Z"
   },
   {
    "duration": 9,
    "start_time": "2023-12-04T19:50:12.830Z"
   },
   {
    "duration": 11,
    "start_time": "2023-12-04T19:50:19.941Z"
   },
   {
    "duration": 12,
    "start_time": "2023-12-04T19:50:48.833Z"
   },
   {
    "duration": 6,
    "start_time": "2023-12-04T19:54:14.498Z"
   },
   {
    "duration": 102,
    "start_time": "2023-12-04T20:23:31.721Z"
   },
   {
    "duration": 16,
    "start_time": "2023-12-04T20:23:40.859Z"
   },
   {
    "duration": 21,
    "start_time": "2023-12-04T20:24:13.746Z"
   },
   {
    "duration": 26,
    "start_time": "2023-12-04T20:30:56.647Z"
   },
   {
    "duration": 32,
    "start_time": "2023-12-04T20:31:21.645Z"
   },
   {
    "duration": 20,
    "start_time": "2023-12-04T20:32:24.789Z"
   },
   {
    "duration": 80,
    "start_time": "2023-12-04T20:32:45.186Z"
   },
   {
    "duration": 29,
    "start_time": "2023-12-04T20:33:02.927Z"
   },
   {
    "duration": 21,
    "start_time": "2023-12-04T20:33:24.361Z"
   },
   {
    "duration": 47,
    "start_time": "2023-12-05T09:47:49.016Z"
   },
   {
    "duration": 1379,
    "start_time": "2023-12-05T09:47:56.165Z"
   },
   {
    "duration": 532,
    "start_time": "2023-12-05T09:47:58.263Z"
   },
   {
    "duration": 281,
    "start_time": "2023-12-05T09:48:02.273Z"
   },
   {
    "duration": 300,
    "start_time": "2023-12-05T09:48:04.891Z"
   },
   {
    "duration": 66,
    "start_time": "2023-12-05T09:48:08.130Z"
   },
   {
    "duration": 7,
    "start_time": "2023-12-05T09:48:11.347Z"
   },
   {
    "duration": 12,
    "start_time": "2023-12-05T09:48:14.275Z"
   },
   {
    "duration": 114,
    "start_time": "2023-12-05T09:48:17.501Z"
   },
   {
    "duration": 6,
    "start_time": "2023-12-05T09:48:25.999Z"
   },
   {
    "duration": 8,
    "start_time": "2023-12-05T09:48:32.053Z"
   },
   {
    "duration": 137,
    "start_time": "2023-12-05T09:48:36.235Z"
   },
   {
    "duration": 133,
    "start_time": "2023-12-05T09:48:43.441Z"
   },
   {
    "duration": 206,
    "start_time": "2023-12-05T09:48:50.191Z"
   },
   {
    "duration": 35,
    "start_time": "2023-12-05T09:48:55.406Z"
   },
   {
    "duration": 121,
    "start_time": "2023-12-05T09:48:58.703Z"
   },
   {
    "duration": 126,
    "start_time": "2023-12-05T09:49:00.566Z"
   },
   {
    "duration": 121,
    "start_time": "2023-12-05T09:49:02.959Z"
   },
   {
    "duration": 17,
    "start_time": "2023-12-05T09:49:12.891Z"
   },
   {
    "duration": 156,
    "start_time": "2023-12-05T09:49:16.056Z"
   },
   {
    "duration": 5,
    "start_time": "2023-12-05T09:50:22.530Z"
   },
   {
    "duration": 5,
    "start_time": "2023-12-05T09:50:44.180Z"
   },
   {
    "duration": 5,
    "start_time": "2023-12-05T09:51:07.118Z"
   },
   {
    "duration": 16,
    "start_time": "2023-12-05T09:56:21.948Z"
   },
   {
    "duration": 124,
    "start_time": "2023-12-05T09:56:26.972Z"
   },
   {
    "duration": 121,
    "start_time": "2023-12-05T09:57:02.715Z"
   },
   {
    "duration": 4,
    "start_time": "2023-12-05T09:57:09.724Z"
   },
   {
    "duration": 129,
    "start_time": "2023-12-05T09:57:13.198Z"
   },
   {
    "duration": 126,
    "start_time": "2023-12-05T09:57:27.057Z"
   },
   {
    "duration": 138,
    "start_time": "2023-12-05T09:57:44.971Z"
   },
   {
    "duration": 4,
    "start_time": "2023-12-05T10:00:59.825Z"
   },
   {
    "duration": 9,
    "start_time": "2023-12-05T10:01:09.016Z"
   },
   {
    "duration": 117,
    "start_time": "2023-12-05T10:05:41.483Z"
   },
   {
    "duration": 14,
    "start_time": "2023-12-05T10:43:53.612Z"
   },
   {
    "duration": 9,
    "start_time": "2023-12-05T10:44:14.318Z"
   },
   {
    "duration": 3,
    "start_time": "2023-12-05T10:44:17.708Z"
   },
   {
    "duration": 3,
    "start_time": "2023-12-05T10:50:11.650Z"
   },
   {
    "duration": 217,
    "start_time": "2023-12-05T10:50:26.123Z"
   },
   {
    "duration": 9,
    "start_time": "2023-12-05T10:50:30.393Z"
   },
   {
    "duration": 66,
    "start_time": "2023-12-05T11:11:42.453Z"
   },
   {
    "duration": 69,
    "start_time": "2023-12-05T11:11:47.584Z"
   },
   {
    "duration": 1379,
    "start_time": "2023-12-05T11:12:06.343Z"
   },
   {
    "duration": 225,
    "start_time": "2023-12-05T11:12:29.110Z"
   },
   {
    "duration": 1030,
    "start_time": "2023-12-05T11:14:23.817Z"
   },
   {
    "duration": 44,
    "start_time": "2023-12-05T11:14:35.754Z"
   },
   {
    "duration": 1446,
    "start_time": "2023-12-05T11:14:46.980Z"
   },
   {
    "duration": 39,
    "start_time": "2023-12-05T11:15:04.685Z"
   },
   {
    "duration": 1526,
    "start_time": "2023-12-05T11:16:53.292Z"
   },
   {
    "duration": 74,
    "start_time": "2023-12-05T11:17:29.343Z"
   },
   {
    "duration": 1396,
    "start_time": "2023-12-05T11:17:39.277Z"
   },
   {
    "duration": 64,
    "start_time": "2023-12-05T11:20:17.208Z"
   },
   {
    "duration": 6,
    "start_time": "2023-12-05T11:23:26.328Z"
   },
   {
    "duration": 16,
    "start_time": "2023-12-05T11:25:14.907Z"
   },
   {
    "duration": 11,
    "start_time": "2023-12-05T11:25:28.952Z"
   },
   {
    "duration": 5,
    "start_time": "2023-12-05T11:25:47.242Z"
   },
   {
    "duration": 1280,
    "start_time": "2023-12-05T13:52:21.240Z"
   },
   {
    "duration": 395,
    "start_time": "2023-12-05T13:52:22.522Z"
   },
   {
    "duration": 247,
    "start_time": "2023-12-05T13:52:22.919Z"
   },
   {
    "duration": 250,
    "start_time": "2023-12-05T13:52:23.169Z"
   },
   {
    "duration": 62,
    "start_time": "2023-12-05T13:52:23.421Z"
   },
   {
    "duration": 19,
    "start_time": "2023-12-05T13:52:23.484Z"
   },
   {
    "duration": 10,
    "start_time": "2023-12-05T13:52:23.504Z"
   },
   {
    "duration": 25,
    "start_time": "2023-12-05T13:52:23.515Z"
   },
   {
    "duration": 16,
    "start_time": "2023-12-05T13:52:23.541Z"
   },
   {
    "duration": 62,
    "start_time": "2023-12-05T13:52:23.559Z"
   },
   {
    "duration": 127,
    "start_time": "2023-12-05T13:52:23.622Z"
   },
   {
    "duration": 108,
    "start_time": "2023-12-05T13:52:23.750Z"
   },
   {
    "duration": 167,
    "start_time": "2023-12-05T13:52:23.859Z"
   },
   {
    "duration": 43,
    "start_time": "2023-12-05T13:52:24.028Z"
   },
   {
    "duration": 115,
    "start_time": "2023-12-05T13:52:24.072Z"
   },
   {
    "duration": 107,
    "start_time": "2023-12-05T13:52:24.188Z"
   },
   {
    "duration": 116,
    "start_time": "2023-12-05T13:52:24.296Z"
   },
   {
    "duration": 105,
    "start_time": "2023-12-05T13:52:24.413Z"
   },
   {
    "duration": 3,
    "start_time": "2023-12-05T13:52:24.519Z"
   },
   {
    "duration": 81,
    "start_time": "2023-12-05T13:52:24.523Z"
   },
   {
    "duration": 0,
    "start_time": "2023-12-05T13:52:24.605Z"
   },
   {
    "duration": 0,
    "start_time": "2023-12-05T13:52:24.606Z"
   },
   {
    "duration": 0,
    "start_time": "2023-12-05T13:52:24.607Z"
   },
   {
    "duration": 0,
    "start_time": "2023-12-05T13:52:24.608Z"
   },
   {
    "duration": 0,
    "start_time": "2023-12-05T13:52:24.609Z"
   },
   {
    "duration": 1110,
    "start_time": "2023-12-05T13:52:41.139Z"
   },
   {
    "duration": 273,
    "start_time": "2023-12-05T13:52:42.250Z"
   },
   {
    "duration": 246,
    "start_time": "2023-12-05T13:52:42.525Z"
   },
   {
    "duration": 254,
    "start_time": "2023-12-05T13:52:42.773Z"
   },
   {
    "duration": 61,
    "start_time": "2023-12-05T13:52:43.028Z"
   },
   {
    "duration": 20,
    "start_time": "2023-12-05T13:52:43.091Z"
   },
   {
    "duration": 51,
    "start_time": "2023-12-05T13:52:43.112Z"
   },
   {
    "duration": 20,
    "start_time": "2023-12-05T13:52:43.164Z"
   },
   {
    "duration": 7,
    "start_time": "2023-12-05T13:52:43.185Z"
   },
   {
    "duration": 10,
    "start_time": "2023-12-05T13:52:43.194Z"
   },
   {
    "duration": 125,
    "start_time": "2023-12-05T13:52:43.205Z"
   },
   {
    "duration": 104,
    "start_time": "2023-12-05T13:52:43.331Z"
   },
   {
    "duration": 158,
    "start_time": "2023-12-05T13:52:43.436Z"
   },
   {
    "duration": 30,
    "start_time": "2023-12-05T13:52:43.595Z"
   },
   {
    "duration": 116,
    "start_time": "2023-12-05T13:52:43.626Z"
   },
   {
    "duration": 111,
    "start_time": "2023-12-05T13:52:43.744Z"
   },
   {
    "duration": 126,
    "start_time": "2023-12-05T13:52:43.857Z"
   },
   {
    "duration": 112,
    "start_time": "2023-12-05T13:52:43.984Z"
   },
   {
    "duration": 3,
    "start_time": "2023-12-05T13:52:44.098Z"
   },
   {
    "duration": 211,
    "start_time": "2023-12-05T13:52:44.102Z"
   },
   {
    "duration": 106,
    "start_time": "2023-12-05T13:52:44.314Z"
   },
   {
    "duration": 71,
    "start_time": "2023-12-05T13:52:44.421Z"
   },
   {
    "duration": 0,
    "start_time": "2023-12-05T13:52:44.494Z"
   },
   {
    "duration": 0,
    "start_time": "2023-12-05T13:52:44.495Z"
   },
   {
    "duration": 1107,
    "start_time": "2023-12-05T13:52:59.442Z"
   },
   {
    "duration": 267,
    "start_time": "2023-12-05T13:53:00.551Z"
   },
   {
    "duration": 258,
    "start_time": "2023-12-05T13:53:00.820Z"
   },
   {
    "duration": 264,
    "start_time": "2023-12-05T13:53:01.079Z"
   },
   {
    "duration": 65,
    "start_time": "2023-12-05T13:53:01.345Z"
   },
   {
    "duration": 19,
    "start_time": "2023-12-05T13:53:01.411Z"
   },
   {
    "duration": 42,
    "start_time": "2023-12-05T13:53:01.431Z"
   },
   {
    "duration": 22,
    "start_time": "2023-12-05T13:53:01.474Z"
   },
   {
    "duration": 15,
    "start_time": "2023-12-05T13:53:01.497Z"
   },
   {
    "duration": 34,
    "start_time": "2023-12-05T13:53:01.514Z"
   },
   {
    "duration": 132,
    "start_time": "2023-12-05T13:53:01.550Z"
   },
   {
    "duration": 116,
    "start_time": "2023-12-05T13:53:01.683Z"
   },
   {
    "duration": 171,
    "start_time": "2023-12-05T13:53:01.800Z"
   },
   {
    "duration": 42,
    "start_time": "2023-12-05T13:53:01.974Z"
   },
   {
    "duration": 129,
    "start_time": "2023-12-05T13:53:02.017Z"
   },
   {
    "duration": 108,
    "start_time": "2023-12-05T13:53:02.147Z"
   },
   {
    "duration": 127,
    "start_time": "2023-12-05T13:53:02.257Z"
   },
   {
    "duration": 125,
    "start_time": "2023-12-05T13:53:02.386Z"
   },
   {
    "duration": 3,
    "start_time": "2023-12-05T13:53:02.513Z"
   },
   {
    "duration": 216,
    "start_time": "2023-12-05T13:53:02.518Z"
   },
   {
    "duration": 96,
    "start_time": "2023-12-05T13:53:02.735Z"
   },
   {
    "duration": 167,
    "start_time": "2023-12-05T13:53:02.832Z"
   },
   {
    "duration": 0,
    "start_time": "2023-12-05T13:53:03.000Z"
   },
   {
    "duration": 5,
    "start_time": "2023-12-05T14:07:29.118Z"
   },
   {
    "duration": 1082,
    "start_time": "2023-12-05T14:08:33.973Z"
   },
   {
    "duration": 260,
    "start_time": "2023-12-05T14:08:35.057Z"
   },
   {
    "duration": 252,
    "start_time": "2023-12-05T14:08:35.319Z"
   },
   {
    "duration": 257,
    "start_time": "2023-12-05T14:08:35.573Z"
   },
   {
    "duration": 62,
    "start_time": "2023-12-05T14:08:35.832Z"
   },
   {
    "duration": 19,
    "start_time": "2023-12-05T14:08:35.895Z"
   },
   {
    "duration": 44,
    "start_time": "2023-12-05T14:08:35.915Z"
   },
   {
    "duration": 23,
    "start_time": "2023-12-05T14:08:35.961Z"
   },
   {
    "duration": 68,
    "start_time": "2023-12-05T14:08:35.985Z"
   },
   {
    "duration": 42,
    "start_time": "2023-12-05T14:08:36.054Z"
   },
   {
    "duration": 178,
    "start_time": "2023-12-05T14:08:36.098Z"
   },
   {
    "duration": 109,
    "start_time": "2023-12-05T14:08:36.277Z"
   },
   {
    "duration": 160,
    "start_time": "2023-12-05T14:08:36.388Z"
   },
   {
    "duration": 38,
    "start_time": "2023-12-05T14:08:36.551Z"
   },
   {
    "duration": 118,
    "start_time": "2023-12-05T14:08:36.590Z"
   },
   {
    "duration": 104,
    "start_time": "2023-12-05T14:08:36.709Z"
   },
   {
    "duration": 118,
    "start_time": "2023-12-05T14:08:36.814Z"
   },
   {
    "duration": 103,
    "start_time": "2023-12-05T14:08:36.934Z"
   },
   {
    "duration": 3,
    "start_time": "2023-12-05T14:08:37.038Z"
   },
   {
    "duration": 153,
    "start_time": "2023-12-05T14:08:37.042Z"
   },
   {
    "duration": 226,
    "start_time": "2023-12-05T14:08:37.196Z"
   },
   {
    "duration": 152,
    "start_time": "2023-12-05T14:08:37.423Z"
   },
   {
    "duration": 0,
    "start_time": "2023-12-05T14:08:37.576Z"
   },
   {
    "duration": 47,
    "start_time": "2023-12-05T16:14:43.808Z"
   },
   {
    "duration": 1397,
    "start_time": "2023-12-05T18:35:50.826Z"
   },
   {
    "duration": 441,
    "start_time": "2023-12-05T18:35:53.189Z"
   },
   {
    "duration": 300,
    "start_time": "2023-12-05T18:35:57.004Z"
   },
   {
    "duration": 315,
    "start_time": "2023-12-05T18:36:20.193Z"
   },
   {
    "duration": 317,
    "start_time": "2023-12-05T18:36:29.997Z"
   },
   {
    "duration": 309,
    "start_time": "2023-12-05T18:36:37.283Z"
   },
   {
    "duration": 377,
    "start_time": "2023-12-05T18:36:50.091Z"
   },
   {
    "duration": 292,
    "start_time": "2023-12-05T18:36:58.510Z"
   },
   {
    "duration": 313,
    "start_time": "2023-12-05T18:37:02.263Z"
   },
   {
    "duration": 69,
    "start_time": "2023-12-05T18:37:21.681Z"
   },
   {
    "duration": 6,
    "start_time": "2023-12-05T18:37:31.983Z"
   },
   {
    "duration": 8,
    "start_time": "2023-12-05T18:37:48.099Z"
   },
   {
    "duration": 109,
    "start_time": "2023-12-05T18:38:43.940Z"
   },
   {
    "duration": 9,
    "start_time": "2023-12-05T18:38:58.761Z"
   },
   {
    "duration": 13,
    "start_time": "2023-12-05T18:39:11.546Z"
   },
   {
    "duration": 10,
    "start_time": "2023-12-05T18:40:39.968Z"
   },
   {
    "duration": 12,
    "start_time": "2023-12-05T18:40:50.266Z"
   },
   {
    "duration": 10,
    "start_time": "2023-12-05T18:40:58.608Z"
   },
   {
    "duration": 18,
    "start_time": "2023-12-05T18:41:25.814Z"
   },
   {
    "duration": 19,
    "start_time": "2023-12-05T18:41:37.107Z"
   },
   {
    "duration": 14,
    "start_time": "2023-12-05T18:41:48.215Z"
   },
   {
    "duration": 10,
    "start_time": "2023-12-05T18:43:21.398Z"
   },
   {
    "duration": 10,
    "start_time": "2023-12-05T18:43:29.611Z"
   },
   {
    "duration": 9,
    "start_time": "2023-12-05T18:43:50.275Z"
   },
   {
    "duration": 21,
    "start_time": "2023-12-05T18:45:08.240Z"
   },
   {
    "duration": 26,
    "start_time": "2023-12-05T18:45:17.329Z"
   },
   {
    "duration": 24,
    "start_time": "2023-12-05T18:45:37.129Z"
   },
   {
    "duration": 26,
    "start_time": "2023-12-05T18:45:59.557Z"
   },
   {
    "duration": 29,
    "start_time": "2023-12-05T18:46:26.190Z"
   },
   {
    "duration": 28,
    "start_time": "2023-12-05T18:46:35.286Z"
   },
   {
    "duration": 27,
    "start_time": "2023-12-05T18:46:43.399Z"
   },
   {
    "duration": 7,
    "start_time": "2023-12-05T18:46:56.154Z"
   },
   {
    "duration": 27,
    "start_time": "2023-12-05T18:47:02.059Z"
   },
   {
    "duration": 9,
    "start_time": "2023-12-05T18:48:08.682Z"
   },
   {
    "duration": 9,
    "start_time": "2023-12-05T18:48:22.973Z"
   },
   {
    "duration": 96,
    "start_time": "2023-12-05T18:48:33.576Z"
   },
   {
    "duration": 8,
    "start_time": "2023-12-05T18:48:37.419Z"
   },
   {
    "duration": 1283,
    "start_time": "2023-12-05T18:48:55.482Z"
   },
   {
    "duration": 8,
    "start_time": "2023-12-05T18:49:09.375Z"
   },
   {
    "duration": 5,
    "start_time": "2023-12-05T18:50:12.114Z"
   },
   {
    "duration": 13,
    "start_time": "2023-12-05T19:00:53.038Z"
   },
   {
    "duration": 16,
    "start_time": "2023-12-05T19:03:37.603Z"
   },
   {
    "duration": 15,
    "start_time": "2023-12-05T19:04:11.417Z"
   },
   {
    "duration": 15,
    "start_time": "2023-12-05T19:04:24.178Z"
   },
   {
    "duration": 124,
    "start_time": "2023-12-05T19:04:44.681Z"
   },
   {
    "duration": 131,
    "start_time": "2023-12-05T19:04:57.624Z"
   },
   {
    "duration": 286,
    "start_time": "2023-12-05T19:08:12.359Z"
   },
   {
    "duration": 1369,
    "start_time": "2023-12-05T19:11:00.613Z"
   },
   {
    "duration": 332,
    "start_time": "2023-12-05T19:11:48.729Z"
   },
   {
    "duration": 253,
    "start_time": "2023-12-05T19:13:47.597Z"
   },
   {
    "duration": 142,
    "start_time": "2023-12-05T19:16:43.741Z"
   },
   {
    "duration": 153,
    "start_time": "2023-12-05T19:17:14.319Z"
   },
   {
    "duration": 256,
    "start_time": "2023-12-05T19:18:06.322Z"
   },
   {
    "duration": 146,
    "start_time": "2023-12-05T19:18:44.249Z"
   },
   {
    "duration": 148,
    "start_time": "2023-12-05T19:18:52.491Z"
   },
   {
    "duration": 269,
    "start_time": "2023-12-05T19:19:50.113Z"
   },
   {
    "duration": 357,
    "start_time": "2023-12-05T19:21:18.973Z"
   },
   {
    "duration": 112,
    "start_time": "2023-12-05T19:23:46.527Z"
   },
   {
    "duration": 115,
    "start_time": "2023-12-05T19:24:04.121Z"
   },
   {
    "duration": 112,
    "start_time": "2023-12-05T19:24:23.428Z"
   },
   {
    "duration": 110,
    "start_time": "2023-12-05T19:24:28.815Z"
   },
   {
    "duration": 113,
    "start_time": "2023-12-05T19:27:12.571Z"
   },
   {
    "duration": 14,
    "start_time": "2023-12-05T19:27:26.057Z"
   },
   {
    "duration": 13,
    "start_time": "2023-12-05T19:27:33.862Z"
   },
   {
    "duration": 14,
    "start_time": "2023-12-05T19:28:48.966Z"
   },
   {
    "duration": 14,
    "start_time": "2023-12-05T19:28:51.606Z"
   },
   {
    "duration": 110,
    "start_time": "2023-12-05T19:28:59.498Z"
   },
   {
    "duration": 9,
    "start_time": "2023-12-05T19:30:10.562Z"
   },
   {
    "duration": 17,
    "start_time": "2023-12-05T19:30:20.962Z"
   },
   {
    "duration": 18,
    "start_time": "2023-12-05T19:30:30.818Z"
   },
   {
    "duration": 20,
    "start_time": "2023-12-05T19:30:48.623Z"
   },
   {
    "duration": 23,
    "start_time": "2023-12-05T19:32:43.331Z"
   },
   {
    "duration": 18,
    "start_time": "2023-12-05T19:32:56.601Z"
   },
   {
    "duration": 20,
    "start_time": "2023-12-05T19:35:09.555Z"
   },
   {
    "duration": 23,
    "start_time": "2023-12-05T19:35:19.853Z"
   },
   {
    "duration": 21,
    "start_time": "2023-12-05T19:35:53.829Z"
   },
   {
    "duration": 115,
    "start_time": "2023-12-05T19:36:20.163Z"
   },
   {
    "duration": 147,
    "start_time": "2023-12-05T19:36:22.953Z"
   },
   {
    "duration": 123,
    "start_time": "2023-12-05T19:36:26.430Z"
   },
   {
    "duration": 270,
    "start_time": "2023-12-05T19:36:35.377Z"
   },
   {
    "duration": 374,
    "start_time": "2023-12-05T19:36:39.777Z"
   },
   {
    "duration": 152,
    "start_time": "2023-12-05T19:36:59.130Z"
   },
   {
    "duration": 260,
    "start_time": "2023-12-05T19:37:12.709Z"
   },
   {
    "duration": 8,
    "start_time": "2023-12-05T19:37:31.110Z"
   },
   {
    "duration": 7,
    "start_time": "2023-12-05T19:37:36.262Z"
   },
   {
    "duration": 38,
    "start_time": "2023-12-05T19:37:40.758Z"
   },
   {
    "duration": 143,
    "start_time": "2023-12-05T19:37:44.600Z"
   },
   {
    "duration": 127,
    "start_time": "2023-12-05T19:37:47.991Z"
   },
   {
    "duration": 154,
    "start_time": "2023-12-05T19:37:50.656Z"
   },
   {
    "duration": 132,
    "start_time": "2023-12-05T19:37:54.825Z"
   },
   {
    "duration": 154,
    "start_time": "2023-12-05T19:38:15.439Z"
   },
   {
    "duration": 140,
    "start_time": "2023-12-05T19:38:36.902Z"
   },
   {
    "duration": 154,
    "start_time": "2023-12-05T19:39:13.327Z"
   },
   {
    "duration": 164,
    "start_time": "2023-12-05T19:39:25.669Z"
   },
   {
    "duration": 19,
    "start_time": "2023-12-05T19:43:49.081Z"
   },
   {
    "duration": 12,
    "start_time": "2023-12-05T19:45:38.980Z"
   },
   {
    "duration": 15,
    "start_time": "2023-12-05T19:48:39.673Z"
   },
   {
    "duration": 12,
    "start_time": "2023-12-05T19:50:20.063Z"
   },
   {
    "duration": 13,
    "start_time": "2023-12-05T19:50:34.029Z"
   },
   {
    "duration": 20,
    "start_time": "2023-12-05T19:50:40.129Z"
   },
   {
    "duration": 1241,
    "start_time": "2023-12-05T19:54:34.025Z"
   },
   {
    "duration": 1276,
    "start_time": "2023-12-05T19:54:44.328Z"
   },
   {
    "duration": 74,
    "start_time": "2023-12-05T19:56:11.862Z"
   },
   {
    "duration": 12,
    "start_time": "2023-12-05T19:56:19.400Z"
   },
   {
    "duration": 20,
    "start_time": "2023-12-05T19:58:49.192Z"
   },
   {
    "duration": 18,
    "start_time": "2023-12-05T19:59:07.073Z"
   },
   {
    "duration": 26,
    "start_time": "2023-12-05T20:02:04.778Z"
   },
   {
    "duration": 10,
    "start_time": "2023-12-05T20:02:34.620Z"
   },
   {
    "duration": 14,
    "start_time": "2023-12-05T20:02:37.693Z"
   },
   {
    "duration": 20,
    "start_time": "2023-12-05T20:03:52.316Z"
   },
   {
    "duration": 160,
    "start_time": "2023-12-05T20:18:09.450Z"
   },
   {
    "duration": 2,
    "start_time": "2023-12-05T20:18:32.474Z"
   },
   {
    "duration": 156,
    "start_time": "2023-12-05T20:18:48.100Z"
   },
   {
    "duration": 298,
    "start_time": "2023-12-05T20:18:53.600Z"
   },
   {
    "duration": 165,
    "start_time": "2023-12-05T20:19:25.427Z"
   },
   {
    "duration": 3,
    "start_time": "2023-12-05T20:19:33.592Z"
   },
   {
    "duration": 162,
    "start_time": "2023-12-05T20:19:44.032Z"
   },
   {
    "duration": 148,
    "start_time": "2023-12-05T20:20:02.362Z"
   },
   {
    "duration": 147,
    "start_time": "2023-12-05T20:20:42.427Z"
   },
   {
    "duration": 148,
    "start_time": "2023-12-05T20:20:53.942Z"
   },
   {
    "duration": 158,
    "start_time": "2023-12-05T20:25:03.151Z"
   },
   {
    "duration": 156,
    "start_time": "2023-12-05T20:28:29.685Z"
   },
   {
    "duration": 155,
    "start_time": "2023-12-05T20:31:59.472Z"
   },
   {
    "duration": 162,
    "start_time": "2023-12-05T20:36:15.350Z"
   },
   {
    "duration": 172,
    "start_time": "2023-12-05T20:37:59.608Z"
   },
   {
    "duration": 158,
    "start_time": "2023-12-05T20:38:07.322Z"
   },
   {
    "duration": 160,
    "start_time": "2023-12-05T20:38:16.128Z"
   },
   {
    "duration": 1420,
    "start_time": "2023-12-06T09:24:09.217Z"
   },
   {
    "duration": 459,
    "start_time": "2023-12-06T09:24:11.597Z"
   },
   {
    "duration": 328,
    "start_time": "2023-12-06T09:24:23.524Z"
   },
   {
    "duration": 64,
    "start_time": "2023-12-06T09:24:33.314Z"
   },
   {
    "duration": 30,
    "start_time": "2023-12-06T09:24:36.301Z"
   },
   {
    "duration": 13,
    "start_time": "2023-12-06T09:24:39.531Z"
   },
   {
    "duration": 18,
    "start_time": "2023-12-06T09:24:42.684Z"
   },
   {
    "duration": 131,
    "start_time": "2023-12-06T09:24:47.811Z"
   },
   {
    "duration": 111,
    "start_time": "2023-12-06T09:24:52.689Z"
   },
   {
    "duration": 174,
    "start_time": "2023-12-06T09:24:57.392Z"
   },
   {
    "duration": 344,
    "start_time": "2023-12-06T09:25:01.839Z"
   },
   {
    "duration": 259,
    "start_time": "2023-12-06T09:25:05.587Z"
   },
   {
    "duration": 35,
    "start_time": "2023-12-06T09:25:10.573Z"
   },
   {
    "duration": 166,
    "start_time": "2023-12-06T09:25:17.791Z"
   },
   {
    "duration": 147,
    "start_time": "2023-12-06T09:25:20.460Z"
   },
   {
    "duration": 118,
    "start_time": "2023-12-06T09:27:38.664Z"
   },
   {
    "duration": 20,
    "start_time": "2023-12-06T09:27:55.085Z"
   },
   {
    "duration": 17,
    "start_time": "2023-12-06T09:28:02.604Z"
   },
   {
    "duration": 12,
    "start_time": "2023-12-06T09:28:07.768Z"
   },
   {
    "duration": 20,
    "start_time": "2023-12-06T09:29:02.717Z"
   },
   {
    "duration": 14,
    "start_time": "2023-12-06T09:30:38.899Z"
   },
   {
    "duration": 21,
    "start_time": "2023-12-06T09:30:51.394Z"
   },
   {
    "duration": 12,
    "start_time": "2023-12-06T09:31:52.564Z"
   },
   {
    "duration": 17,
    "start_time": "2023-12-06T09:32:05.760Z"
   },
   {
    "duration": 18,
    "start_time": "2023-12-06T09:32:22.788Z"
   },
   {
    "duration": 1285,
    "start_time": "2023-12-06T09:33:07.410Z"
   },
   {
    "duration": 23,
    "start_time": "2023-12-06T09:33:37.593Z"
   },
   {
    "duration": 18,
    "start_time": "2023-12-06T09:35:22.406Z"
   },
   {
    "duration": 38,
    "start_time": "2023-12-06T09:40:10.924Z"
   },
   {
    "duration": 43,
    "start_time": "2023-12-06T09:45:34.503Z"
   },
   {
    "duration": 34,
    "start_time": "2023-12-06T09:46:01.116Z"
   },
   {
    "duration": 16,
    "start_time": "2023-12-06T09:52:50.687Z"
   },
   {
    "duration": 13,
    "start_time": "2023-12-06T09:53:03.256Z"
   },
   {
    "duration": 14,
    "start_time": "2023-12-06T09:53:22.972Z"
   },
   {
    "duration": 18,
    "start_time": "2023-12-06T09:53:35.433Z"
   },
   {
    "duration": 20,
    "start_time": "2023-12-06T09:54:09.100Z"
   },
   {
    "duration": 18,
    "start_time": "2023-12-06T09:54:19.467Z"
   },
   {
    "duration": 24,
    "start_time": "2023-12-06T09:55:58.779Z"
   },
   {
    "duration": 30,
    "start_time": "2023-12-06T09:57:28.076Z"
   },
   {
    "duration": 73,
    "start_time": "2023-12-06T09:58:02.880Z"
   },
   {
    "duration": 37,
    "start_time": "2023-12-06T09:58:22.887Z"
   },
   {
    "duration": 89,
    "start_time": "2023-12-06T09:58:55.966Z"
   },
   {
    "duration": 21,
    "start_time": "2023-12-06T09:59:02.942Z"
   },
   {
    "duration": 26,
    "start_time": "2023-12-06T09:59:13.590Z"
   },
   {
    "duration": 17,
    "start_time": "2023-12-06T10:00:35.340Z"
   },
   {
    "duration": 22,
    "start_time": "2023-12-06T10:01:03.735Z"
   },
   {
    "duration": 28,
    "start_time": "2023-12-06T10:01:11.153Z"
   },
   {
    "duration": 25,
    "start_time": "2023-12-06T10:01:42.078Z"
   },
   {
    "duration": 27,
    "start_time": "2023-12-06T10:02:08.561Z"
   },
   {
    "duration": 32,
    "start_time": "2023-12-06T10:03:51.747Z"
   },
   {
    "duration": 33,
    "start_time": "2023-12-06T10:05:58.241Z"
   },
   {
    "duration": 35,
    "start_time": "2023-12-06T10:06:57.336Z"
   },
   {
    "duration": 46,
    "start_time": "2023-12-06T10:09:31.383Z"
   },
   {
    "duration": 31,
    "start_time": "2023-12-06T10:10:24.448Z"
   },
   {
    "duration": 23,
    "start_time": "2023-12-06T10:10:28.539Z"
   },
   {
    "duration": 28,
    "start_time": "2023-12-06T10:11:34.159Z"
   },
   {
    "duration": 31,
    "start_time": "2023-12-06T10:11:40.987Z"
   },
   {
    "duration": 32,
    "start_time": "2023-12-06T10:12:24.692Z"
   },
   {
    "duration": 106,
    "start_time": "2023-12-06T10:14:17.109Z"
   },
   {
    "duration": 50,
    "start_time": "2023-12-06T10:36:45.423Z"
   },
   {
    "duration": 27,
    "start_time": "2023-12-06T10:46:43.847Z"
   },
   {
    "duration": 85,
    "start_time": "2023-12-06T10:51:09.610Z"
   },
   {
    "duration": 12,
    "start_time": "2023-12-06T10:52:23.407Z"
   },
   {
    "duration": 5,
    "start_time": "2023-12-06T11:32:15.425Z"
   },
   {
    "duration": 14,
    "start_time": "2023-12-06T11:32:39.852Z"
   },
   {
    "duration": 138,
    "start_time": "2023-12-06T11:38:41.621Z"
   },
   {
    "duration": 12,
    "start_time": "2023-12-06T11:39:09.250Z"
   },
   {
    "duration": 11,
    "start_time": "2023-12-06T11:40:54.898Z"
   },
   {
    "duration": 6,
    "start_time": "2023-12-06T11:41:06.029Z"
   },
   {
    "duration": 6,
    "start_time": "2023-12-06T11:42:40.548Z"
   },
   {
    "duration": 10,
    "start_time": "2023-12-06T11:49:55.888Z"
   },
   {
    "duration": 6,
    "start_time": "2023-12-06T11:50:05.177Z"
   },
   {
    "duration": 5,
    "start_time": "2023-12-06T11:50:50.370Z"
   },
   {
    "duration": 10,
    "start_time": "2023-12-06T12:00:07.554Z"
   },
   {
    "duration": 3368,
    "start_time": "2023-12-06T12:00:31.096Z"
   },
   {
    "duration": 15885,
    "start_time": "2023-12-06T12:00:56.959Z"
   },
   {
    "duration": 2230,
    "start_time": "2023-12-06T12:02:04.757Z"
   },
   {
    "duration": 1489,
    "start_time": "2023-12-06T12:06:10.346Z"
   },
   {
    "duration": 1400,
    "start_time": "2023-12-06T12:08:19.778Z"
   },
   {
    "duration": 536,
    "start_time": "2023-12-06T12:08:39.718Z"
   },
   {
    "duration": 2298,
    "start_time": "2023-12-06T12:12:16.543Z"
   },
   {
    "duration": 279,
    "start_time": "2023-12-06T12:12:46.446Z"
   },
   {
    "duration": 1505,
    "start_time": "2023-12-06T12:12:57.863Z"
   },
   {
    "duration": 1760,
    "start_time": "2023-12-06T12:13:09.784Z"
   },
   {
    "duration": 2739,
    "start_time": "2023-12-06T12:13:21.629Z"
   },
   {
    "duration": 1409,
    "start_time": "2023-12-06T12:13:37.859Z"
   },
   {
    "duration": 40,
    "start_time": "2023-12-06T12:46:22.028Z"
   },
   {
    "duration": 1133,
    "start_time": "2023-12-06T15:12:57.768Z"
   },
   {
    "duration": 322,
    "start_time": "2023-12-06T15:12:58.903Z"
   },
   {
    "duration": 296,
    "start_time": "2023-12-06T15:12:59.227Z"
   },
   {
    "duration": 349,
    "start_time": "2023-12-06T15:12:59.525Z"
   },
   {
    "duration": 69,
    "start_time": "2023-12-06T15:12:59.876Z"
   },
   {
    "duration": 35,
    "start_time": "2023-12-06T15:12:59.946Z"
   },
   {
    "duration": 24,
    "start_time": "2023-12-06T15:12:59.983Z"
   },
   {
    "duration": 48,
    "start_time": "2023-12-06T15:13:00.009Z"
   },
   {
    "duration": 144,
    "start_time": "2023-12-06T15:13:00.058Z"
   },
   {
    "duration": 121,
    "start_time": "2023-12-06T15:13:00.203Z"
   },
   {
    "duration": 218,
    "start_time": "2023-12-06T15:13:00.326Z"
   },
   {
    "duration": 269,
    "start_time": "2023-12-06T15:13:00.546Z"
   },
   {
    "duration": 255,
    "start_time": "2023-12-06T15:13:00.816Z"
   },
   {
    "duration": 35,
    "start_time": "2023-12-06T15:13:01.074Z"
   },
   {
    "duration": 165,
    "start_time": "2023-12-06T15:13:01.110Z"
   },
   {
    "duration": 168,
    "start_time": "2023-12-06T15:13:01.277Z"
   },
   {
    "duration": 28,
    "start_time": "2023-12-06T15:13:01.447Z"
   },
   {
    "duration": 49,
    "start_time": "2023-12-06T15:13:01.477Z"
   },
   {
    "duration": 13,
    "start_time": "2023-12-06T15:13:01.527Z"
   },
   {
    "duration": 91,
    "start_time": "2023-12-06T15:13:01.541Z"
   },
   {
    "duration": 0,
    "start_time": "2023-12-06T15:13:01.634Z"
   },
   {
    "duration": 0,
    "start_time": "2023-12-06T15:13:01.635Z"
   },
   {
    "duration": 0,
    "start_time": "2023-12-06T15:13:01.636Z"
   },
   {
    "duration": 0,
    "start_time": "2023-12-06T15:13:01.637Z"
   },
   {
    "duration": 0,
    "start_time": "2023-12-06T15:13:01.638Z"
   },
   {
    "duration": 19,
    "start_time": "2023-12-06T15:26:45.795Z"
   },
   {
    "duration": 18,
    "start_time": "2023-12-06T15:29:16.703Z"
   },
   {
    "duration": 1131,
    "start_time": "2023-12-06T15:36:09.102Z"
   },
   {
    "duration": 305,
    "start_time": "2023-12-06T15:36:10.235Z"
   },
   {
    "duration": 298,
    "start_time": "2023-12-06T15:36:10.541Z"
   },
   {
    "duration": 310,
    "start_time": "2023-12-06T15:36:10.840Z"
   },
   {
    "duration": 70,
    "start_time": "2023-12-06T15:36:11.151Z"
   },
   {
    "duration": 28,
    "start_time": "2023-12-06T15:36:11.222Z"
   },
   {
    "duration": 13,
    "start_time": "2023-12-06T15:36:11.251Z"
   },
   {
    "duration": 45,
    "start_time": "2023-12-06T15:36:11.265Z"
   },
   {
    "duration": 123,
    "start_time": "2023-12-06T15:36:11.311Z"
   },
   {
    "duration": 114,
    "start_time": "2023-12-06T15:36:11.436Z"
   },
   {
    "duration": 245,
    "start_time": "2023-12-06T15:36:11.551Z"
   },
   {
    "duration": 263,
    "start_time": "2023-12-06T15:36:11.799Z"
   },
   {
    "duration": 252,
    "start_time": "2023-12-06T15:36:12.063Z"
   },
   {
    "duration": 25,
    "start_time": "2023-12-06T15:36:12.317Z"
   },
   {
    "duration": 161,
    "start_time": "2023-12-06T15:36:12.344Z"
   },
   {
    "duration": 163,
    "start_time": "2023-12-06T15:36:12.507Z"
   },
   {
    "duration": 35,
    "start_time": "2023-12-06T15:36:12.672Z"
   },
   {
    "duration": 34,
    "start_time": "2023-12-06T15:36:12.709Z"
   },
   {
    "duration": 13,
    "start_time": "2023-12-06T15:36:12.745Z"
   },
   {
    "duration": 65,
    "start_time": "2023-12-06T15:36:12.760Z"
   },
   {
    "duration": 0,
    "start_time": "2023-12-06T15:36:12.827Z"
   },
   {
    "duration": 1,
    "start_time": "2023-12-06T15:36:12.827Z"
   },
   {
    "duration": 0,
    "start_time": "2023-12-06T15:36:12.829Z"
   },
   {
    "duration": 0,
    "start_time": "2023-12-06T15:36:12.830Z"
   },
   {
    "duration": 0,
    "start_time": "2023-12-06T15:36:12.831Z"
   },
   {
    "duration": 48,
    "start_time": "2023-12-06T16:52:30.837Z"
   },
   {
    "duration": 1306,
    "start_time": "2023-12-06T16:52:33.581Z"
   },
   {
    "duration": 434,
    "start_time": "2023-12-06T16:52:35.763Z"
   },
   {
    "duration": 283,
    "start_time": "2023-12-06T16:52:39.228Z"
   },
   {
    "duration": 307,
    "start_time": "2023-12-06T16:52:52.185Z"
   },
   {
    "duration": 313,
    "start_time": "2023-12-06T16:53:25.464Z"
   },
   {
    "duration": 292,
    "start_time": "2023-12-06T16:54:02.699Z"
   },
   {
    "duration": 144,
    "start_time": "2023-12-06T16:56:04.263Z"
   },
   {
    "duration": 6,
    "start_time": "2023-12-06T16:56:34.196Z"
   },
   {
    "duration": 27,
    "start_time": "2023-12-06T16:56:38.190Z"
   },
   {
    "duration": 20,
    "start_time": "2023-12-06T16:57:03.718Z"
   },
   {
    "duration": 22,
    "start_time": "2023-12-06T16:57:10.039Z"
   },
   {
    "duration": 5,
    "start_time": "2023-12-06T16:57:19.375Z"
   },
   {
    "duration": 5,
    "start_time": "2023-12-06T16:57:37.071Z"
   },
   {
    "duration": 21,
    "start_time": "2023-12-06T16:57:44.022Z"
   },
   {
    "duration": 7,
    "start_time": "2023-12-06T16:57:49.201Z"
   },
   {
    "duration": 6,
    "start_time": "2023-12-06T16:57:55.057Z"
   },
   {
    "duration": 14,
    "start_time": "2023-12-06T16:58:04.839Z"
   },
   {
    "duration": 20,
    "start_time": "2023-12-06T16:58:07.573Z"
   },
   {
    "duration": 83,
    "start_time": "2023-12-06T17:06:04.144Z"
   },
   {
    "duration": 164,
    "start_time": "2023-12-06T17:06:39.451Z"
   },
   {
    "duration": 103,
    "start_time": "2023-12-06T17:07:13.193Z"
   },
   {
    "duration": 154,
    "start_time": "2023-12-06T17:07:30.761Z"
   },
   {
    "duration": 252,
    "start_time": "2023-12-06T17:07:34.637Z"
   },
   {
    "duration": 274,
    "start_time": "2023-12-06T17:07:39.026Z"
   },
   {
    "duration": 245,
    "start_time": "2023-12-06T17:08:18.675Z"
   },
   {
    "duration": 25,
    "start_time": "2023-12-06T17:09:58.795Z"
   },
   {
    "duration": 23,
    "start_time": "2023-12-06T17:10:44.131Z"
   },
   {
    "duration": 22,
    "start_time": "2023-12-06T17:11:01.363Z"
   },
   {
    "duration": 23,
    "start_time": "2023-12-06T17:11:18.578Z"
   },
   {
    "duration": 21,
    "start_time": "2023-12-06T17:11:37.780Z"
   },
   {
    "duration": 28,
    "start_time": "2023-12-06T17:11:45.007Z"
   },
   {
    "duration": 23,
    "start_time": "2023-12-06T17:11:55.213Z"
   },
   {
    "duration": 24,
    "start_time": "2023-12-06T17:12:39.124Z"
   },
   {
    "duration": 271,
    "start_time": "2023-12-06T17:13:37.542Z"
   },
   {
    "duration": 152,
    "start_time": "2023-12-06T17:13:39.973Z"
   },
   {
    "duration": 28,
    "start_time": "2023-12-06T17:13:52.058Z"
   },
   {
    "duration": 12,
    "start_time": "2023-12-06T17:15:30.971Z"
   },
   {
    "duration": 5,
    "start_time": "2023-12-06T17:16:15.121Z"
   },
   {
    "duration": 11,
    "start_time": "2023-12-06T17:17:07.522Z"
   },
   {
    "duration": 12,
    "start_time": "2023-12-06T17:19:43.236Z"
   },
   {
    "duration": 6,
    "start_time": "2023-12-06T17:19:55.785Z"
   },
   {
    "duration": 13,
    "start_time": "2023-12-06T17:19:59.139Z"
   },
   {
    "duration": 14,
    "start_time": "2023-12-06T17:20:01.369Z"
   },
   {
    "duration": 27,
    "start_time": "2023-12-06T17:21:59.393Z"
   },
   {
    "duration": 12,
    "start_time": "2023-12-06T17:28:52.789Z"
   },
   {
    "duration": 11,
    "start_time": "2023-12-06T17:28:58.200Z"
   },
   {
    "duration": 22,
    "start_time": "2023-12-06T17:29:59.030Z"
   },
   {
    "duration": 257,
    "start_time": "2023-12-06T17:30:04.560Z"
   },
   {
    "duration": 275,
    "start_time": "2023-12-06T17:30:06.961Z"
   },
   {
    "duration": 145,
    "start_time": "2023-12-06T17:30:10.501Z"
   },
   {
    "duration": 111,
    "start_time": "2023-12-06T17:30:13.994Z"
   },
   {
    "duration": 120,
    "start_time": "2023-12-06T17:30:18.035Z"
   },
   {
    "duration": 114,
    "start_time": "2023-12-06T17:31:44.539Z"
   },
   {
    "duration": 127,
    "start_time": "2023-12-06T17:32:29.577Z"
   },
   {
    "duration": 210,
    "start_time": "2023-12-06T17:32:32.858Z"
   },
   {
    "duration": 261,
    "start_time": "2023-12-06T17:32:45.851Z"
   },
   {
    "duration": 21,
    "start_time": "2023-12-06T17:32:50.941Z"
   },
   {
    "duration": 37,
    "start_time": "2023-12-06T17:33:00.548Z"
   },
   {
    "duration": 24,
    "start_time": "2023-12-06T17:34:33.172Z"
   },
   {
    "duration": 317,
    "start_time": "2023-12-06T17:36:24.974Z"
   },
   {
    "duration": 39,
    "start_time": "2023-12-06T17:38:01.394Z"
   },
   {
    "duration": 26,
    "start_time": "2023-12-06T17:38:15.276Z"
   },
   {
    "duration": 29,
    "start_time": "2023-12-06T17:42:24.855Z"
   },
   {
    "duration": 32,
    "start_time": "2023-12-06T17:42:49.675Z"
   },
   {
    "duration": 31,
    "start_time": "2023-12-06T17:43:26.426Z"
   },
   {
    "duration": 30,
    "start_time": "2023-12-06T17:44:34.228Z"
   },
   {
    "duration": 23,
    "start_time": "2023-12-06T17:44:53.465Z"
   },
   {
    "duration": 26,
    "start_time": "2023-12-06T17:44:58.618Z"
   },
   {
    "duration": 28,
    "start_time": "2023-12-06T17:45:05.295Z"
   },
   {
    "duration": 31,
    "start_time": "2023-12-06T17:45:30.113Z"
   },
   {
    "duration": 28,
    "start_time": "2023-12-06T17:46:14.158Z"
   },
   {
    "duration": 27,
    "start_time": "2023-12-06T17:46:21.084Z"
   },
   {
    "duration": 27,
    "start_time": "2023-12-06T17:46:31.299Z"
   },
   {
    "duration": 32,
    "start_time": "2023-12-06T17:47:22.369Z"
   },
   {
    "duration": 33,
    "start_time": "2023-12-06T17:47:28.226Z"
   },
   {
    "duration": 29,
    "start_time": "2023-12-06T17:48:20.561Z"
   },
   {
    "duration": 38,
    "start_time": "2023-12-06T17:49:04.416Z"
   },
   {
    "duration": 36,
    "start_time": "2023-12-06T17:49:12.809Z"
   },
   {
    "duration": 42,
    "start_time": "2023-12-06T17:49:52.237Z"
   },
   {
    "duration": 17,
    "start_time": "2023-12-06T17:50:12.792Z"
   },
   {
    "duration": 39,
    "start_time": "2023-12-06T17:50:47.031Z"
   },
   {
    "duration": 39,
    "start_time": "2023-12-06T17:51:10.673Z"
   },
   {
    "duration": 17,
    "start_time": "2023-12-06T17:51:28.006Z"
   },
   {
    "duration": 38,
    "start_time": "2023-12-06T17:51:37.305Z"
   },
   {
    "duration": 17,
    "start_time": "2023-12-06T17:51:59.496Z"
   },
   {
    "duration": 13,
    "start_time": "2023-12-06T17:54:02.753Z"
   },
   {
    "duration": 7,
    "start_time": "2023-12-06T17:54:19.708Z"
   },
   {
    "duration": 87,
    "start_time": "2023-12-06T17:56:23.640Z"
   },
   {
    "duration": 7,
    "start_time": "2023-12-06T17:56:44.586Z"
   },
   {
    "duration": 8,
    "start_time": "2023-12-06T17:57:01.535Z"
   },
   {
    "duration": 83,
    "start_time": "2023-12-06T17:57:51.888Z"
   },
   {
    "duration": 75,
    "start_time": "2023-12-06T17:58:09.396Z"
   },
   {
    "duration": 72,
    "start_time": "2023-12-06T17:58:18.592Z"
   },
   {
    "duration": 69,
    "start_time": "2023-12-06T17:58:42.277Z"
   },
   {
    "duration": 12,
    "start_time": "2023-12-06T17:58:52.217Z"
   },
   {
    "duration": 13,
    "start_time": "2023-12-06T17:59:14.450Z"
   },
   {
    "duration": 15,
    "start_time": "2023-12-06T17:59:28.076Z"
   },
   {
    "duration": 9,
    "start_time": "2023-12-06T18:00:05.855Z"
   },
   {
    "duration": 12,
    "start_time": "2023-12-06T18:00:19.170Z"
   },
   {
    "duration": 12,
    "start_time": "2023-12-06T18:00:35.347Z"
   },
   {
    "duration": 23,
    "start_time": "2023-12-06T18:02:53.139Z"
   },
   {
    "duration": 19,
    "start_time": "2023-12-06T18:03:18.852Z"
   },
   {
    "duration": 17,
    "start_time": "2023-12-06T18:03:43.285Z"
   },
   {
    "duration": 18,
    "start_time": "2023-12-06T18:04:13.301Z"
   },
   {
    "duration": 5,
    "start_time": "2023-12-06T18:05:16.259Z"
   },
   {
    "duration": 3,
    "start_time": "2023-12-06T18:10:20.834Z"
   },
   {
    "duration": 1184,
    "start_time": "2023-12-06T18:10:30.420Z"
   },
   {
    "duration": 318,
    "start_time": "2023-12-06T18:10:31.605Z"
   },
   {
    "duration": 312,
    "start_time": "2023-12-06T18:10:31.925Z"
   },
   {
    "duration": 330,
    "start_time": "2023-12-06T18:10:32.240Z"
   },
   {
    "duration": 63,
    "start_time": "2023-12-06T18:10:32.572Z"
   },
   {
    "duration": 35,
    "start_time": "2023-12-06T18:10:32.637Z"
   },
   {
    "duration": 6,
    "start_time": "2023-12-06T18:10:32.673Z"
   },
   {
    "duration": 15,
    "start_time": "2023-12-06T18:10:32.680Z"
   },
   {
    "duration": 41,
    "start_time": "2023-12-06T18:10:32.696Z"
   },
   {
    "duration": 38,
    "start_time": "2023-12-06T18:10:32.740Z"
   },
   {
    "duration": 89,
    "start_time": "2023-12-06T18:10:32.779Z"
   },
   {
    "duration": 0,
    "start_time": "2023-12-06T18:10:32.869Z"
   },
   {
    "duration": 0,
    "start_time": "2023-12-06T18:10:32.871Z"
   },
   {
    "duration": 0,
    "start_time": "2023-12-06T18:10:32.871Z"
   },
   {
    "duration": 0,
    "start_time": "2023-12-06T18:10:32.872Z"
   },
   {
    "duration": 0,
    "start_time": "2023-12-06T18:10:32.873Z"
   },
   {
    "duration": 0,
    "start_time": "2023-12-06T18:10:32.875Z"
   },
   {
    "duration": 0,
    "start_time": "2023-12-06T18:10:32.876Z"
   },
   {
    "duration": 0,
    "start_time": "2023-12-06T18:10:32.877Z"
   },
   {
    "duration": 0,
    "start_time": "2023-12-06T18:10:32.878Z"
   },
   {
    "duration": 0,
    "start_time": "2023-12-06T18:10:32.879Z"
   },
   {
    "duration": 0,
    "start_time": "2023-12-06T18:10:32.880Z"
   },
   {
    "duration": 0,
    "start_time": "2023-12-06T18:10:32.881Z"
   },
   {
    "duration": 0,
    "start_time": "2023-12-06T18:10:32.882Z"
   },
   {
    "duration": 0,
    "start_time": "2023-12-06T18:10:32.883Z"
   },
   {
    "duration": 0,
    "start_time": "2023-12-06T18:10:32.884Z"
   },
   {
    "duration": 0,
    "start_time": "2023-12-06T18:10:32.885Z"
   },
   {
    "duration": 0,
    "start_time": "2023-12-06T18:10:32.886Z"
   },
   {
    "duration": 0,
    "start_time": "2023-12-06T18:10:32.887Z"
   },
   {
    "duration": 0,
    "start_time": "2023-12-06T18:10:32.888Z"
   },
   {
    "duration": 0,
    "start_time": "2023-12-06T18:10:32.889Z"
   },
   {
    "duration": 3,
    "start_time": "2023-12-06T18:10:43.332Z"
   },
   {
    "duration": 309,
    "start_time": "2023-12-06T18:10:45.010Z"
   },
   {
    "duration": 344,
    "start_time": "2023-12-06T18:10:51.272Z"
   },
   {
    "duration": 314,
    "start_time": "2023-12-06T18:10:56.781Z"
   },
   {
    "duration": 116,
    "start_time": "2023-12-06T18:12:24.130Z"
   },
   {
    "duration": 137,
    "start_time": "2023-12-06T18:12:26.858Z"
   },
   {
    "duration": 20,
    "start_time": "2023-12-06T18:12:33.355Z"
   },
   {
    "duration": 14,
    "start_time": "2023-12-06T18:12:35.297Z"
   },
   {
    "duration": 63,
    "start_time": "2023-12-06T18:12:49.037Z"
   },
   {
    "duration": 24,
    "start_time": "2023-12-06T18:12:52.437Z"
   },
   {
    "duration": 6,
    "start_time": "2023-12-06T18:12:59.470Z"
   },
   {
    "duration": 7,
    "start_time": "2023-12-06T18:13:01.795Z"
   },
   {
    "duration": 134,
    "start_time": "2023-12-06T18:13:25.527Z"
   },
   {
    "duration": 62,
    "start_time": "2023-12-06T18:13:38.539Z"
   },
   {
    "duration": 151,
    "start_time": "2023-12-06T18:13:48.621Z"
   },
   {
    "duration": 59,
    "start_time": "2023-12-06T18:13:58.925Z"
   },
   {
    "duration": 22,
    "start_time": "2023-12-06T18:14:22.967Z"
   },
   {
    "duration": 6,
    "start_time": "2023-12-06T18:14:25.522Z"
   },
   {
    "duration": 6,
    "start_time": "2023-12-06T18:14:27.490Z"
   },
   {
    "duration": 13,
    "start_time": "2023-12-06T18:14:35.530Z"
   },
   {
    "duration": 19,
    "start_time": "2023-12-06T18:14:37.940Z"
   },
   {
    "duration": 77,
    "start_time": "2023-12-06T18:14:44.223Z"
   },
   {
    "duration": 125,
    "start_time": "2023-12-06T18:14:54.207Z"
   },
   {
    "duration": 196,
    "start_time": "2023-12-06T18:15:03.676Z"
   },
   {
    "duration": 146,
    "start_time": "2023-12-06T18:15:13.120Z"
   },
   {
    "duration": 161,
    "start_time": "2023-12-06T18:16:29.950Z"
   },
   {
    "duration": 254,
    "start_time": "2023-12-06T18:16:43.496Z"
   },
   {
    "duration": 269,
    "start_time": "2023-12-06T18:17:12.172Z"
   },
   {
    "duration": 260,
    "start_time": "2023-12-06T18:18:34.200Z"
   },
   {
    "duration": 249,
    "start_time": "2023-12-06T18:18:52.430Z"
   },
   {
    "duration": 39,
    "start_time": "2023-12-06T18:19:00.284Z"
   },
   {
    "duration": 253,
    "start_time": "2023-12-06T18:19:17.277Z"
   },
   {
    "duration": 146,
    "start_time": "2023-12-06T18:19:19.816Z"
   },
   {
    "duration": 158,
    "start_time": "2023-12-06T18:19:45.033Z"
   },
   {
    "duration": 179,
    "start_time": "2023-12-06T18:20:05.625Z"
   },
   {
    "duration": 41,
    "start_time": "2023-12-06T18:20:25.581Z"
   },
   {
    "duration": 18,
    "start_time": "2023-12-06T18:20:31.818Z"
   },
   {
    "duration": 38,
    "start_time": "2023-12-06T18:22:32.650Z"
   },
   {
    "duration": 12,
    "start_time": "2023-12-06T18:23:59.343Z"
   },
   {
    "duration": 7,
    "start_time": "2023-12-06T18:24:08.594Z"
   },
   {
    "duration": 1213,
    "start_time": "2023-12-06T18:24:23.455Z"
   },
   {
    "duration": 18,
    "start_time": "2023-12-06T18:24:54.549Z"
   },
   {
    "duration": 12,
    "start_time": "2023-12-06T18:25:05.551Z"
   },
   {
    "duration": 6,
    "start_time": "2023-12-06T18:25:14.043Z"
   },
   {
    "duration": 18,
    "start_time": "2023-12-06T18:25:30.033Z"
   },
   {
    "duration": 19,
    "start_time": "2023-12-06T18:25:42.355Z"
   },
   {
    "duration": 1227,
    "start_time": "2023-12-06T18:25:55.084Z"
   },
   {
    "duration": 5,
    "start_time": "2023-12-06T18:26:02.937Z"
   },
   {
    "duration": 4,
    "start_time": "2023-12-06T18:26:13.641Z"
   },
   {
    "duration": 1589,
    "start_time": "2023-12-06T18:26:22.929Z"
   },
   {
    "duration": 5,
    "start_time": "2023-12-06T18:27:06.924Z"
   },
   {
    "duration": 1406,
    "start_time": "2023-12-07T11:14:28.297Z"
   },
   {
    "duration": 584,
    "start_time": "2023-12-07T11:14:29.705Z"
   },
   {
    "duration": 333,
    "start_time": "2023-12-07T11:14:30.290Z"
   },
   {
    "duration": 346,
    "start_time": "2023-12-07T11:14:30.626Z"
   },
   {
    "duration": 63,
    "start_time": "2023-12-07T11:14:30.974Z"
   },
   {
    "duration": 40,
    "start_time": "2023-12-07T11:14:31.038Z"
   },
   {
    "duration": 44,
    "start_time": "2023-12-07T11:14:31.079Z"
   },
   {
    "duration": 51,
    "start_time": "2023-12-07T11:14:31.125Z"
   },
   {
    "duration": 71,
    "start_time": "2023-12-07T11:14:31.178Z"
   },
   {
    "duration": 80,
    "start_time": "2023-12-07T11:14:31.252Z"
   },
   {
    "duration": 177,
    "start_time": "2023-12-07T11:14:31.334Z"
   },
   {
    "duration": 134,
    "start_time": "2023-12-07T11:14:31.513Z"
   },
   {
    "duration": 251,
    "start_time": "2023-12-07T11:14:31.648Z"
   },
   {
    "duration": 298,
    "start_time": "2023-12-07T11:14:31.900Z"
   },
   {
    "duration": 321,
    "start_time": "2023-12-07T11:14:32.199Z"
   },
   {
    "duration": 58,
    "start_time": "2023-12-07T11:14:32.522Z"
   },
   {
    "duration": 0,
    "start_time": "2023-12-07T11:14:32.581Z"
   },
   {
    "duration": 0,
    "start_time": "2023-12-07T11:14:32.583Z"
   },
   {
    "duration": 0,
    "start_time": "2023-12-07T11:14:32.584Z"
   },
   {
    "duration": 0,
    "start_time": "2023-12-07T11:14:32.585Z"
   },
   {
    "duration": 0,
    "start_time": "2023-12-07T11:14:32.586Z"
   },
   {
    "duration": 0,
    "start_time": "2023-12-07T11:14:32.587Z"
   },
   {
    "duration": 0,
    "start_time": "2023-12-07T11:14:32.588Z"
   },
   {
    "duration": 0,
    "start_time": "2023-12-07T11:14:32.589Z"
   },
   {
    "duration": 0,
    "start_time": "2023-12-07T11:14:32.590Z"
   },
   {
    "duration": 0,
    "start_time": "2023-12-07T11:14:32.591Z"
   },
   {
    "duration": 0,
    "start_time": "2023-12-07T11:14:32.592Z"
   },
   {
    "duration": 0,
    "start_time": "2023-12-07T11:14:32.593Z"
   },
   {
    "duration": 0,
    "start_time": "2023-12-07T11:14:32.594Z"
   },
   {
    "duration": 1155,
    "start_time": "2023-12-07T11:18:04.197Z"
   },
   {
    "duration": 351,
    "start_time": "2023-12-07T11:18:05.354Z"
   },
   {
    "duration": 326,
    "start_time": "2023-12-07T11:18:05.707Z"
   },
   {
    "duration": 346,
    "start_time": "2023-12-07T11:18:06.035Z"
   },
   {
    "duration": 69,
    "start_time": "2023-12-07T11:18:06.382Z"
   },
   {
    "duration": 38,
    "start_time": "2023-12-07T11:18:06.453Z"
   },
   {
    "duration": 6,
    "start_time": "2023-12-07T11:18:06.493Z"
   },
   {
    "duration": 15,
    "start_time": "2023-12-07T11:18:06.500Z"
   },
   {
    "duration": 29,
    "start_time": "2023-12-07T11:18:06.517Z"
   },
   {
    "duration": 29,
    "start_time": "2023-12-07T11:18:06.548Z"
   },
   {
    "duration": 162,
    "start_time": "2023-12-07T11:18:06.578Z"
   },
   {
    "duration": 138,
    "start_time": "2023-12-07T11:18:06.742Z"
   },
   {
    "duration": 247,
    "start_time": "2023-12-07T11:18:06.881Z"
   },
   {
    "duration": 290,
    "start_time": "2023-12-07T11:18:07.130Z"
   },
   {
    "duration": 289,
    "start_time": "2023-12-07T11:18:07.421Z"
   },
   {
    "duration": 41,
    "start_time": "2023-12-07T11:18:07.711Z"
   },
   {
    "duration": 198,
    "start_time": "2023-12-07T11:18:07.754Z"
   },
   {
    "duration": 200,
    "start_time": "2023-12-07T11:18:07.954Z"
   },
   {
    "duration": 49,
    "start_time": "2023-12-07T11:18:08.156Z"
   },
   {
    "duration": 20,
    "start_time": "2023-12-07T11:18:08.206Z"
   },
   {
    "duration": 117,
    "start_time": "2023-12-07T11:18:08.227Z"
   },
   {
    "duration": 47,
    "start_time": "2023-12-07T11:18:08.346Z"
   },
   {
    "duration": 76,
    "start_time": "2023-12-07T11:18:08.396Z"
   },
   {
    "duration": 66,
    "start_time": "2023-12-07T11:18:08.474Z"
   },
   {
    "duration": 142,
    "start_time": "2023-12-07T11:18:08.542Z"
   },
   {
    "duration": 21,
    "start_time": "2023-12-07T11:18:08.686Z"
   },
   {
    "duration": 1618,
    "start_time": "2023-12-07T11:18:08.709Z"
   },
   {
    "duration": 6,
    "start_time": "2023-12-07T11:18:10.330Z"
   },
   {
    "duration": 7,
    "start_time": "2023-12-07T11:19:06.949Z"
   },
   {
    "duration": 1202,
    "start_time": "2023-12-07T11:26:48.441Z"
   },
   {
    "duration": 351,
    "start_time": "2023-12-07T11:26:49.646Z"
   },
   {
    "duration": 323,
    "start_time": "2023-12-07T11:26:49.999Z"
   },
   {
    "duration": 334,
    "start_time": "2023-12-07T11:26:50.324Z"
   },
   {
    "duration": 67,
    "start_time": "2023-12-07T11:26:50.660Z"
   },
   {
    "duration": 25,
    "start_time": "2023-12-07T11:26:50.729Z"
   },
   {
    "duration": 22,
    "start_time": "2023-12-07T11:26:50.756Z"
   },
   {
    "duration": 10,
    "start_time": "2023-12-07T11:26:50.780Z"
   },
   {
    "duration": 15,
    "start_time": "2023-12-07T11:26:50.792Z"
   },
   {
    "duration": 28,
    "start_time": "2023-12-07T11:26:50.810Z"
   },
   {
    "duration": 173,
    "start_time": "2023-12-07T11:26:50.840Z"
   },
   {
    "duration": 137,
    "start_time": "2023-12-07T11:26:51.015Z"
   },
   {
    "duration": 256,
    "start_time": "2023-12-07T11:26:51.154Z"
   },
   {
    "duration": 290,
    "start_time": "2023-12-07T11:26:51.411Z"
   },
   {
    "duration": 295,
    "start_time": "2023-12-07T11:26:51.703Z"
   },
   {
    "duration": 42,
    "start_time": "2023-12-07T11:26:51.999Z"
   },
   {
    "duration": 197,
    "start_time": "2023-12-07T11:26:52.042Z"
   },
   {
    "duration": 189,
    "start_time": "2023-12-07T11:26:52.241Z"
   },
   {
    "duration": 52,
    "start_time": "2023-12-07T11:26:52.431Z"
   },
   {
    "duration": 18,
    "start_time": "2023-12-07T11:26:52.485Z"
   },
   {
    "duration": 19,
    "start_time": "2023-12-07T11:26:52.504Z"
   },
   {
    "duration": 6,
    "start_time": "2023-12-07T11:26:52.525Z"
   },
   {
    "duration": 43,
    "start_time": "2023-12-07T11:26:52.532Z"
   },
   {
    "duration": 19,
    "start_time": "2023-12-07T11:26:52.576Z"
   },
   {
    "duration": 12,
    "start_time": "2023-12-07T11:26:52.597Z"
   },
   {
    "duration": 21,
    "start_time": "2023-12-07T11:26:52.610Z"
   },
   {
    "duration": 1617,
    "start_time": "2023-12-07T11:26:52.633Z"
   },
   {
    "duration": 6,
    "start_time": "2023-12-07T11:26:54.253Z"
   },
   {
    "duration": 49,
    "start_time": "2023-12-07T16:27:04.240Z"
   },
   {
    "duration": 1296,
    "start_time": "2023-12-07T16:27:27.507Z"
   },
   {
    "duration": 562,
    "start_time": "2023-12-07T16:27:28.806Z"
   },
   {
    "duration": 301,
    "start_time": "2023-12-07T16:27:29.369Z"
   },
   {
    "duration": 319,
    "start_time": "2023-12-07T16:27:29.672Z"
   },
   {
    "duration": 60,
    "start_time": "2023-12-07T16:27:29.993Z"
   },
   {
    "duration": 43,
    "start_time": "2023-12-07T16:27:30.055Z"
   },
   {
    "duration": 48,
    "start_time": "2023-12-07T16:27:30.100Z"
   },
   {
    "duration": 103,
    "start_time": "2023-12-07T16:27:30.150Z"
   },
   {
    "duration": 41,
    "start_time": "2023-12-07T16:27:30.254Z"
   },
   {
    "duration": 73,
    "start_time": "2023-12-07T16:27:30.298Z"
   },
   {
    "duration": 152,
    "start_time": "2023-12-07T16:27:30.373Z"
   },
   {
    "duration": 129,
    "start_time": "2023-12-07T16:27:30.527Z"
   },
   {
    "duration": 239,
    "start_time": "2023-12-07T16:27:30.658Z"
   },
   {
    "duration": 290,
    "start_time": "2023-12-07T16:27:30.899Z"
   },
   {
    "duration": 274,
    "start_time": "2023-12-07T16:27:31.190Z"
   },
   {
    "duration": 38,
    "start_time": "2023-12-07T16:27:31.467Z"
   },
   {
    "duration": 178,
    "start_time": "2023-12-07T16:27:31.507Z"
   },
   {
    "duration": 163,
    "start_time": "2023-12-07T16:27:31.687Z"
   },
   {
    "duration": 45,
    "start_time": "2023-12-07T16:27:31.852Z"
   },
   {
    "duration": 16,
    "start_time": "2023-12-07T16:27:31.898Z"
   },
   {
    "duration": 53,
    "start_time": "2023-12-07T16:27:31.916Z"
   },
   {
    "duration": 0,
    "start_time": "2023-12-07T16:27:31.971Z"
   },
   {
    "duration": 0,
    "start_time": "2023-12-07T16:27:31.972Z"
   },
   {
    "duration": 0,
    "start_time": "2023-12-07T16:27:31.973Z"
   },
   {
    "duration": 0,
    "start_time": "2023-12-07T16:27:31.974Z"
   },
   {
    "duration": 0,
    "start_time": "2023-12-07T16:27:31.975Z"
   },
   {
    "duration": 0,
    "start_time": "2023-12-07T16:27:31.976Z"
   },
   {
    "duration": 0,
    "start_time": "2023-12-07T16:27:31.977Z"
   },
   {
    "duration": 59,
    "start_time": "2023-12-07T16:29:42.288Z"
   },
   {
    "duration": 13,
    "start_time": "2023-12-07T16:29:52.964Z"
   },
   {
    "duration": 13,
    "start_time": "2023-12-07T16:30:28.976Z"
   },
   {
    "duration": 105,
    "start_time": "2023-12-07T16:39:31.938Z"
   },
   {
    "duration": 1151,
    "start_time": "2023-12-07T16:39:40.917Z"
   },
   {
    "duration": 342,
    "start_time": "2023-12-07T16:39:42.070Z"
   },
   {
    "duration": 325,
    "start_time": "2023-12-07T16:39:42.414Z"
   },
   {
    "duration": 343,
    "start_time": "2023-12-07T16:39:42.742Z"
   },
   {
    "duration": 60,
    "start_time": "2023-12-07T16:39:43.087Z"
   },
   {
    "duration": 37,
    "start_time": "2023-12-07T16:39:43.148Z"
   },
   {
    "duration": 7,
    "start_time": "2023-12-07T16:39:43.186Z"
   },
   {
    "duration": 13,
    "start_time": "2023-12-07T16:39:43.194Z"
   },
   {
    "duration": 26,
    "start_time": "2023-12-07T16:39:43.209Z"
   },
   {
    "duration": 31,
    "start_time": "2023-12-07T16:39:43.238Z"
   },
   {
    "duration": 146,
    "start_time": "2023-12-07T16:39:43.271Z"
   },
   {
    "duration": 127,
    "start_time": "2023-12-07T16:39:43.419Z"
   },
   {
    "duration": 246,
    "start_time": "2023-12-07T16:39:43.548Z"
   },
   {
    "duration": 295,
    "start_time": "2023-12-07T16:39:43.796Z"
   },
   {
    "duration": 277,
    "start_time": "2023-12-07T16:39:44.093Z"
   },
   {
    "duration": 39,
    "start_time": "2023-12-07T16:39:44.372Z"
   },
   {
    "duration": 181,
    "start_time": "2023-12-07T16:39:44.413Z"
   },
   {
    "duration": 186,
    "start_time": "2023-12-07T16:39:44.596Z"
   },
   {
    "duration": 42,
    "start_time": "2023-12-07T16:39:44.783Z"
   },
   {
    "duration": 18,
    "start_time": "2023-12-07T16:39:44.826Z"
   },
   {
    "duration": 29,
    "start_time": "2023-12-07T16:39:44.845Z"
   },
   {
    "duration": 12,
    "start_time": "2023-12-07T16:39:44.876Z"
   },
   {
    "duration": 19,
    "start_time": "2023-12-07T16:39:44.890Z"
   },
   {
    "duration": 18,
    "start_time": "2023-12-07T16:39:44.911Z"
   },
   {
    "duration": 5,
    "start_time": "2023-12-07T16:39:44.931Z"
   },
   {
    "duration": 35,
    "start_time": "2023-12-07T16:39:44.937Z"
   },
   {
    "duration": 1532,
    "start_time": "2023-12-07T16:39:44.973Z"
   },
   {
    "duration": 6,
    "start_time": "2023-12-07T16:39:46.508Z"
   },
   {
    "duration": 14,
    "start_time": "2023-12-07T16:47:30.291Z"
   },
   {
    "duration": 7,
    "start_time": "2023-12-07T16:48:35.021Z"
   },
   {
    "duration": 21,
    "start_time": "2023-12-07T16:51:22.143Z"
   },
   {
    "duration": 19,
    "start_time": "2023-12-07T16:51:31.514Z"
   },
   {
    "duration": 6,
    "start_time": "2023-12-07T16:51:34.573Z"
   },
   {
    "duration": 102,
    "start_time": "2023-12-07T16:52:49.604Z"
   },
   {
    "duration": 1615,
    "start_time": "2023-12-07T16:53:03.476Z"
   },
   {
    "duration": 5,
    "start_time": "2023-12-07T16:53:29.373Z"
   },
   {
    "duration": 1087,
    "start_time": "2023-12-08T07:59:31.829Z"
   },
   {
    "duration": 308,
    "start_time": "2023-12-08T07:59:32.917Z"
   },
   {
    "duration": 279,
    "start_time": "2023-12-08T07:59:33.226Z"
   },
   {
    "duration": 276,
    "start_time": "2023-12-08T07:59:33.507Z"
   },
   {
    "duration": 53,
    "start_time": "2023-12-08T07:59:33.785Z"
   },
   {
    "duration": 39,
    "start_time": "2023-12-08T07:59:33.840Z"
   },
   {
    "duration": 8,
    "start_time": "2023-12-08T07:59:33.881Z"
   },
   {
    "duration": 18,
    "start_time": "2023-12-08T07:59:33.890Z"
   },
   {
    "duration": 32,
    "start_time": "2023-12-08T07:59:33.909Z"
   },
   {
    "duration": 31,
    "start_time": "2023-12-08T07:59:33.944Z"
   },
   {
    "duration": 134,
    "start_time": "2023-12-08T07:59:33.981Z"
   },
   {
    "duration": 117,
    "start_time": "2023-12-08T07:59:34.116Z"
   },
   {
    "duration": 205,
    "start_time": "2023-12-08T07:59:34.234Z"
   },
   {
    "duration": 241,
    "start_time": "2023-12-08T07:59:34.441Z"
   },
   {
    "duration": 243,
    "start_time": "2023-12-08T07:59:34.684Z"
   },
   {
    "duration": 50,
    "start_time": "2023-12-08T07:59:34.928Z"
   },
   {
    "duration": 253,
    "start_time": "2023-12-08T07:59:34.980Z"
   },
   {
    "duration": 148,
    "start_time": "2023-12-08T07:59:35.234Z"
   },
   {
    "duration": 39,
    "start_time": "2023-12-08T07:59:35.385Z"
   },
   {
    "duration": 19,
    "start_time": "2023-12-08T07:59:35.425Z"
   },
   {
    "duration": 33,
    "start_time": "2023-12-08T07:59:35.446Z"
   },
   {
    "duration": 34,
    "start_time": "2023-12-08T07:59:35.481Z"
   },
   {
    "duration": 50,
    "start_time": "2023-12-08T07:59:35.517Z"
   },
   {
    "duration": 46,
    "start_time": "2023-12-08T07:59:35.568Z"
   },
   {
    "duration": 36,
    "start_time": "2023-12-08T07:59:35.615Z"
   },
   {
    "duration": 68,
    "start_time": "2023-12-08T07:59:35.652Z"
   },
   {
    "duration": 1237,
    "start_time": "2023-12-08T07:59:35.721Z"
   },
   {
    "duration": 19,
    "start_time": "2023-12-08T07:59:36.961Z"
   },
   {
    "duration": 1081,
    "start_time": "2023-12-08T08:06:14.091Z"
   },
   {
    "duration": 313,
    "start_time": "2023-12-08T08:06:15.174Z"
   },
   {
    "duration": 268,
    "start_time": "2023-12-08T08:06:15.488Z"
   },
   {
    "duration": 273,
    "start_time": "2023-12-08T08:06:15.758Z"
   },
   {
    "duration": 61,
    "start_time": "2023-12-08T08:06:16.032Z"
   },
   {
    "duration": 22,
    "start_time": "2023-12-08T08:06:16.095Z"
   },
   {
    "duration": 6,
    "start_time": "2023-12-08T08:06:16.119Z"
   },
   {
    "duration": 13,
    "start_time": "2023-12-08T08:06:16.126Z"
   },
   {
    "duration": 35,
    "start_time": "2023-12-08T08:06:16.141Z"
   },
   {
    "duration": 34,
    "start_time": "2023-12-08T08:06:16.179Z"
   },
   {
    "duration": 120,
    "start_time": "2023-12-08T08:06:16.214Z"
   },
   {
    "duration": 113,
    "start_time": "2023-12-08T08:06:16.336Z"
   },
   {
    "duration": 207,
    "start_time": "2023-12-08T08:06:16.450Z"
   },
   {
    "duration": 247,
    "start_time": "2023-12-08T08:06:16.658Z"
   },
   {
    "duration": 244,
    "start_time": "2023-12-08T08:06:16.906Z"
   },
   {
    "duration": 48,
    "start_time": "2023-12-08T08:06:17.151Z"
   },
   {
    "duration": 194,
    "start_time": "2023-12-08T08:06:17.201Z"
   },
   {
    "duration": 148,
    "start_time": "2023-12-08T08:06:17.397Z"
   },
   {
    "duration": 46,
    "start_time": "2023-12-08T08:06:17.547Z"
   },
   {
    "duration": 14,
    "start_time": "2023-12-08T08:06:17.595Z"
   },
   {
    "duration": 17,
    "start_time": "2023-12-08T08:06:17.610Z"
   },
   {
    "duration": 14,
    "start_time": "2023-12-08T08:06:17.628Z"
   },
   {
    "duration": 29,
    "start_time": "2023-12-08T08:06:17.643Z"
   },
   {
    "duration": 34,
    "start_time": "2023-12-08T08:06:17.673Z"
   },
   {
    "duration": 4,
    "start_time": "2023-12-08T08:06:17.709Z"
   },
   {
    "duration": 7,
    "start_time": "2023-12-08T08:06:17.714Z"
   },
   {
    "duration": 1200,
    "start_time": "2023-12-08T08:06:17.723Z"
   },
   {
    "duration": 5,
    "start_time": "2023-12-08T08:06:18.926Z"
   },
   {
    "duration": 47,
    "start_time": "2023-12-08T13:55:46.012Z"
   },
   {
    "duration": 1318,
    "start_time": "2023-12-08T13:55:54.589Z"
   },
   {
    "duration": 457,
    "start_time": "2023-12-08T13:55:55.909Z"
   },
   {
    "duration": 306,
    "start_time": "2023-12-08T13:55:56.367Z"
   },
   {
    "duration": 302,
    "start_time": "2023-12-08T13:55:56.675Z"
   },
   {
    "duration": 67,
    "start_time": "2023-12-08T13:55:56.978Z"
   },
   {
    "duration": 23,
    "start_time": "2023-12-08T13:55:57.046Z"
   },
   {
    "duration": 6,
    "start_time": "2023-12-08T13:55:57.070Z"
   },
   {
    "duration": 6,
    "start_time": "2023-12-08T13:55:57.078Z"
   },
   {
    "duration": 12,
    "start_time": "2023-12-08T13:55:57.086Z"
   },
   {
    "duration": 53,
    "start_time": "2023-12-08T13:55:57.101Z"
   },
   {
    "duration": 148,
    "start_time": "2023-12-08T13:55:57.155Z"
   },
   {
    "duration": 122,
    "start_time": "2023-12-08T13:55:57.305Z"
   },
   {
    "duration": 274,
    "start_time": "2023-12-08T13:55:57.428Z"
   },
   {
    "duration": 278,
    "start_time": "2023-12-08T13:55:57.704Z"
   },
   {
    "duration": 261,
    "start_time": "2023-12-08T13:55:57.983Z"
   },
   {
    "duration": 37,
    "start_time": "2023-12-08T13:55:58.246Z"
   },
   {
    "duration": 173,
    "start_time": "2023-12-08T13:55:58.285Z"
   },
   {
    "duration": 158,
    "start_time": "2023-12-08T13:55:58.460Z"
   },
   {
    "duration": 44,
    "start_time": "2023-12-08T13:55:58.619Z"
   },
   {
    "duration": 16,
    "start_time": "2023-12-08T13:55:58.665Z"
   },
   {
    "duration": 12,
    "start_time": "2023-12-08T13:55:58.682Z"
   },
   {
    "duration": 6,
    "start_time": "2023-12-08T13:55:58.695Z"
   },
   {
    "duration": 52,
    "start_time": "2023-12-08T13:55:58.703Z"
   },
   {
    "duration": 18,
    "start_time": "2023-12-08T13:55:58.756Z"
   },
   {
    "duration": 5,
    "start_time": "2023-12-08T13:55:58.776Z"
   },
   {
    "duration": 19,
    "start_time": "2023-12-08T13:55:58.782Z"
   },
   {
    "duration": 1449,
    "start_time": "2023-12-08T13:55:58.802Z"
   },
   {
    "duration": 6,
    "start_time": "2023-12-08T13:56:00.254Z"
   },
   {
    "duration": 134,
    "start_time": "2023-12-08T13:56:56.699Z"
   },
   {
    "duration": 7,
    "start_time": "2023-12-08T14:18:15.709Z"
   },
   {
    "duration": 7,
    "start_time": "2023-12-08T14:20:57.194Z"
   },
   {
    "duration": 82,
    "start_time": "2023-12-08T14:25:43.671Z"
   },
   {
    "duration": 6,
    "start_time": "2023-12-08T14:25:52.851Z"
   },
   {
    "duration": 7,
    "start_time": "2023-12-08T14:26:28.555Z"
   },
   {
    "duration": 7,
    "start_time": "2023-12-08T14:29:43.725Z"
   },
   {
    "duration": 273,
    "start_time": "2023-12-08T14:30:02.795Z"
   },
   {
    "duration": 6,
    "start_time": "2023-12-08T14:31:34.775Z"
   },
   {
    "duration": 5,
    "start_time": "2023-12-08T14:37:34.672Z"
   },
   {
    "duration": 5,
    "start_time": "2023-12-08T14:59:50.265Z"
   },
   {
    "duration": 5,
    "start_time": "2023-12-08T15:00:03.608Z"
   },
   {
    "duration": 5,
    "start_time": "2023-12-08T15:00:09.525Z"
   },
   {
    "duration": 14,
    "start_time": "2023-12-08T15:02:15.078Z"
   },
   {
    "duration": 1051,
    "start_time": "2023-12-09T07:30:14.119Z"
   },
   {
    "duration": 415,
    "start_time": "2023-12-09T07:30:15.172Z"
   },
   {
    "duration": 270,
    "start_time": "2023-12-09T07:30:15.589Z"
   },
   {
    "duration": 270,
    "start_time": "2023-12-09T07:30:15.861Z"
   },
   {
    "duration": 60,
    "start_time": "2023-12-09T07:30:16.133Z"
   },
   {
    "duration": 22,
    "start_time": "2023-12-09T07:30:16.195Z"
   },
   {
    "duration": 8,
    "start_time": "2023-12-09T07:30:16.219Z"
   },
   {
    "duration": 6,
    "start_time": "2023-12-09T07:30:16.228Z"
   },
   {
    "duration": 22,
    "start_time": "2023-12-09T07:30:16.236Z"
   },
   {
    "duration": 18,
    "start_time": "2023-12-09T07:30:16.270Z"
   },
   {
    "duration": 144,
    "start_time": "2023-12-09T07:30:16.290Z"
   },
   {
    "duration": 107,
    "start_time": "2023-12-09T07:30:16.435Z"
   },
   {
    "duration": 0,
    "start_time": "2023-12-09T07:30:16.544Z"
   },
   {
    "duration": 0,
    "start_time": "2023-12-09T07:30:16.545Z"
   },
   {
    "duration": 0,
    "start_time": "2023-12-09T07:30:16.547Z"
   },
   {
    "duration": 0,
    "start_time": "2023-12-09T07:30:16.548Z"
   },
   {
    "duration": 0,
    "start_time": "2023-12-09T07:30:16.549Z"
   },
   {
    "duration": 0,
    "start_time": "2023-12-09T07:30:16.550Z"
   },
   {
    "duration": 0,
    "start_time": "2023-12-09T07:30:16.551Z"
   },
   {
    "duration": 0,
    "start_time": "2023-12-09T07:30:16.552Z"
   },
   {
    "duration": 0,
    "start_time": "2023-12-09T07:30:16.553Z"
   },
   {
    "duration": 0,
    "start_time": "2023-12-09T07:30:16.553Z"
   },
   {
    "duration": 0,
    "start_time": "2023-12-09T07:30:16.554Z"
   },
   {
    "duration": 0,
    "start_time": "2023-12-09T07:30:16.555Z"
   },
   {
    "duration": 0,
    "start_time": "2023-12-09T07:30:16.556Z"
   },
   {
    "duration": 0,
    "start_time": "2023-12-09T07:30:16.557Z"
   },
   {
    "duration": 0,
    "start_time": "2023-12-09T07:30:16.558Z"
   },
   {
    "duration": 0,
    "start_time": "2023-12-09T07:30:16.559Z"
   },
   {
    "duration": 0,
    "start_time": "2023-12-09T07:30:16.559Z"
   },
   {
    "duration": 0,
    "start_time": "2023-12-09T07:30:16.560Z"
   },
   {
    "duration": 0,
    "start_time": "2023-12-09T07:30:16.561Z"
   },
   {
    "duration": 1094,
    "start_time": "2023-12-09T07:30:46.566Z"
   },
   {
    "duration": 286,
    "start_time": "2023-12-09T07:30:47.663Z"
   },
   {
    "duration": 261,
    "start_time": "2023-12-09T07:30:47.950Z"
   },
   {
    "duration": 285,
    "start_time": "2023-12-09T07:30:48.213Z"
   },
   {
    "duration": 53,
    "start_time": "2023-12-09T07:30:48.500Z"
   },
   {
    "duration": 30,
    "start_time": "2023-12-09T07:30:48.554Z"
   },
   {
    "duration": 4,
    "start_time": "2023-12-09T07:30:48.586Z"
   },
   {
    "duration": 34,
    "start_time": "2023-12-09T07:30:48.591Z"
   },
   {
    "duration": 41,
    "start_time": "2023-12-09T07:30:48.626Z"
   },
   {
    "duration": 24,
    "start_time": "2023-12-09T07:30:48.669Z"
   },
   {
    "duration": 136,
    "start_time": "2023-12-09T07:30:48.694Z"
   },
   {
    "duration": 123,
    "start_time": "2023-12-09T07:30:48.831Z"
   },
   {
    "duration": 205,
    "start_time": "2023-12-09T07:30:48.956Z"
   },
   {
    "duration": 232,
    "start_time": "2023-12-09T07:30:49.162Z"
   },
   {
    "duration": 219,
    "start_time": "2023-12-09T07:30:49.395Z"
   },
   {
    "duration": 33,
    "start_time": "2023-12-09T07:30:49.616Z"
   },
   {
    "duration": 147,
    "start_time": "2023-12-09T07:30:49.651Z"
   },
   {
    "duration": 141,
    "start_time": "2023-12-09T07:30:49.800Z"
   },
   {
    "duration": 47,
    "start_time": "2023-12-09T07:30:49.943Z"
   },
   {
    "duration": 14,
    "start_time": "2023-12-09T07:30:49.991Z"
   },
   {
    "duration": 89,
    "start_time": "2023-12-09T07:30:50.007Z"
   },
   {
    "duration": 0,
    "start_time": "2023-12-09T07:30:50.098Z"
   },
   {
    "duration": 0,
    "start_time": "2023-12-09T07:30:50.099Z"
   },
   {
    "duration": 0,
    "start_time": "2023-12-09T07:30:50.100Z"
   },
   {
    "duration": 0,
    "start_time": "2023-12-09T07:30:50.101Z"
   },
   {
    "duration": 0,
    "start_time": "2023-12-09T07:30:50.101Z"
   },
   {
    "duration": 0,
    "start_time": "2023-12-09T07:30:50.102Z"
   },
   {
    "duration": 0,
    "start_time": "2023-12-09T07:30:50.103Z"
   },
   {
    "duration": 0,
    "start_time": "2023-12-09T07:30:50.104Z"
   },
   {
    "duration": 0,
    "start_time": "2023-12-09T07:30:50.104Z"
   },
   {
    "duration": 1118,
    "start_time": "2023-12-09T07:33:57.042Z"
   },
   {
    "duration": 279,
    "start_time": "2023-12-09T07:33:58.162Z"
   },
   {
    "duration": 259,
    "start_time": "2023-12-09T07:33:58.443Z"
   },
   {
    "duration": 273,
    "start_time": "2023-12-09T07:33:58.704Z"
   },
   {
    "duration": 53,
    "start_time": "2023-12-09T07:33:58.979Z"
   },
   {
    "duration": 20,
    "start_time": "2023-12-09T07:33:59.033Z"
   },
   {
    "duration": 18,
    "start_time": "2023-12-09T07:33:59.054Z"
   },
   {
    "duration": 6,
    "start_time": "2023-12-09T07:33:59.073Z"
   },
   {
    "duration": 12,
    "start_time": "2023-12-09T07:33:59.080Z"
   },
   {
    "duration": 16,
    "start_time": "2023-12-09T07:33:59.094Z"
   },
   {
    "duration": 143,
    "start_time": "2023-12-09T07:33:59.111Z"
   },
   {
    "duration": 117,
    "start_time": "2023-12-09T07:33:59.256Z"
   },
   {
    "duration": 198,
    "start_time": "2023-12-09T07:33:59.375Z"
   },
   {
    "duration": 234,
    "start_time": "2023-12-09T07:33:59.575Z"
   },
   {
    "duration": 226,
    "start_time": "2023-12-09T07:33:59.811Z"
   },
   {
    "duration": 43,
    "start_time": "2023-12-09T07:34:00.038Z"
   },
   {
    "duration": 166,
    "start_time": "2023-12-09T07:34:00.083Z"
   },
   {
    "duration": 137,
    "start_time": "2023-12-09T07:34:00.250Z"
   },
   {
    "duration": 35,
    "start_time": "2023-12-09T07:34:00.389Z"
   },
   {
    "duration": 468,
    "start_time": "2023-12-09T07:34:00.425Z"
   },
   {
    "duration": 239,
    "start_time": "2023-12-09T07:34:00.895Z"
   },
   {
    "duration": 0,
    "start_time": "2023-12-09T07:34:01.136Z"
   },
   {
    "duration": 0,
    "start_time": "2023-12-09T07:34:01.137Z"
   },
   {
    "duration": 0,
    "start_time": "2023-12-09T07:34:01.138Z"
   },
   {
    "duration": 0,
    "start_time": "2023-12-09T07:34:01.139Z"
   },
   {
    "duration": 0,
    "start_time": "2023-12-09T07:34:01.140Z"
   },
   {
    "duration": 0,
    "start_time": "2023-12-09T07:34:01.141Z"
   },
   {
    "duration": 0,
    "start_time": "2023-12-09T07:34:01.142Z"
   },
   {
    "duration": 0,
    "start_time": "2023-12-09T07:34:01.143Z"
   },
   {
    "duration": 0,
    "start_time": "2023-12-09T07:34:01.144Z"
   },
   {
    "duration": 1419,
    "start_time": "2023-12-09T07:40:17.043Z"
   },
   {
    "duration": 460,
    "start_time": "2023-12-09T07:40:18.464Z"
   },
   {
    "duration": 336,
    "start_time": "2023-12-09T07:40:18.925Z"
   },
   {
    "duration": 338,
    "start_time": "2023-12-09T07:40:19.263Z"
   },
   {
    "duration": 72,
    "start_time": "2023-12-09T07:40:19.603Z"
   },
   {
    "duration": 22,
    "start_time": "2023-12-09T07:40:19.677Z"
   },
   {
    "duration": 6,
    "start_time": "2023-12-09T07:40:19.701Z"
   },
   {
    "duration": 23,
    "start_time": "2023-12-09T07:40:19.708Z"
   },
   {
    "duration": 37,
    "start_time": "2023-12-09T07:40:19.733Z"
   },
   {
    "duration": 37,
    "start_time": "2023-12-09T07:40:19.772Z"
   },
   {
    "duration": 149,
    "start_time": "2023-12-09T07:40:19.811Z"
   },
   {
    "duration": 136,
    "start_time": "2023-12-09T07:40:19.961Z"
   },
   {
    "duration": 245,
    "start_time": "2023-12-09T07:40:20.098Z"
   },
   {
    "duration": 277,
    "start_time": "2023-12-09T07:40:20.347Z"
   },
   {
    "duration": 280,
    "start_time": "2023-12-09T07:40:20.625Z"
   },
   {
    "duration": 53,
    "start_time": "2023-12-09T07:40:20.907Z"
   },
   {
    "duration": 188,
    "start_time": "2023-12-09T07:40:20.961Z"
   },
   {
    "duration": 175,
    "start_time": "2023-12-09T07:40:21.150Z"
   },
   {
    "duration": 60,
    "start_time": "2023-12-09T07:40:21.327Z"
   },
   {
    "duration": 21,
    "start_time": "2023-12-09T07:40:21.390Z"
   },
   {
    "duration": 80,
    "start_time": "2023-12-09T07:40:21.413Z"
   },
   {
    "duration": 0,
    "start_time": "2023-12-09T07:40:21.495Z"
   },
   {
    "duration": 0,
    "start_time": "2023-12-09T07:40:21.496Z"
   },
   {
    "duration": 0,
    "start_time": "2023-12-09T07:40:21.497Z"
   },
   {
    "duration": 0,
    "start_time": "2023-12-09T07:40:21.498Z"
   },
   {
    "duration": 0,
    "start_time": "2023-12-09T07:40:21.499Z"
   },
   {
    "duration": 0,
    "start_time": "2023-12-09T07:40:21.500Z"
   },
   {
    "duration": 0,
    "start_time": "2023-12-09T07:40:21.501Z"
   },
   {
    "duration": 1,
    "start_time": "2023-12-09T07:40:21.501Z"
   },
   {
    "duration": 0,
    "start_time": "2023-12-09T07:40:21.503Z"
   },
   {
    "duration": 1204,
    "start_time": "2023-12-09T07:42:14.454Z"
   },
   {
    "duration": 348,
    "start_time": "2023-12-09T07:42:15.660Z"
   },
   {
    "duration": 344,
    "start_time": "2023-12-09T07:42:16.010Z"
   },
   {
    "duration": 321,
    "start_time": "2023-12-09T07:42:16.357Z"
   },
   {
    "duration": 70,
    "start_time": "2023-12-09T07:42:16.679Z"
   },
   {
    "duration": 34,
    "start_time": "2023-12-09T07:42:16.750Z"
   },
   {
    "duration": 20,
    "start_time": "2023-12-09T07:42:16.786Z"
   },
   {
    "duration": 57,
    "start_time": "2023-12-09T07:42:16.807Z"
   },
   {
    "duration": 37,
    "start_time": "2023-12-09T07:42:16.866Z"
   },
   {
    "duration": 61,
    "start_time": "2023-12-09T07:42:16.906Z"
   },
   {
    "duration": 185,
    "start_time": "2023-12-09T07:42:16.969Z"
   },
   {
    "duration": 127,
    "start_time": "2023-12-09T07:42:17.156Z"
   },
   {
    "duration": 252,
    "start_time": "2023-12-09T07:42:17.285Z"
   },
   {
    "duration": 322,
    "start_time": "2023-12-09T07:42:17.539Z"
   },
   {
    "duration": 286,
    "start_time": "2023-12-09T07:42:17.863Z"
   },
   {
    "duration": 38,
    "start_time": "2023-12-09T07:42:18.154Z"
   },
   {
    "duration": 188,
    "start_time": "2023-12-09T07:42:18.193Z"
   },
   {
    "duration": 182,
    "start_time": "2023-12-09T07:42:18.382Z"
   },
   {
    "duration": 39,
    "start_time": "2023-12-09T07:42:18.565Z"
   },
   {
    "duration": 17,
    "start_time": "2023-12-09T07:42:18.606Z"
   },
   {
    "duration": 36,
    "start_time": "2023-12-09T07:42:18.625Z"
   },
   {
    "duration": 23,
    "start_time": "2023-12-09T07:42:18.662Z"
   },
   {
    "duration": 45,
    "start_time": "2023-12-09T07:42:18.687Z"
   },
   {
    "duration": 36,
    "start_time": "2023-12-09T07:42:18.733Z"
   },
   {
    "duration": 42,
    "start_time": "2023-12-09T07:42:18.770Z"
   },
   {
    "duration": 44,
    "start_time": "2023-12-09T07:42:18.814Z"
   },
   {
    "duration": 1690,
    "start_time": "2023-12-09T07:42:18.859Z"
   },
   {
    "duration": 5,
    "start_time": "2023-12-09T07:42:20.557Z"
   },
   {
    "duration": 1173,
    "start_time": "2023-12-09T07:44:12.799Z"
   },
   {
    "duration": 336,
    "start_time": "2023-12-09T07:44:13.974Z"
   },
   {
    "duration": 320,
    "start_time": "2023-12-09T07:44:14.311Z"
   },
   {
    "duration": 358,
    "start_time": "2023-12-09T07:44:14.633Z"
   },
   {
    "duration": 69,
    "start_time": "2023-12-09T07:44:14.993Z"
   },
   {
    "duration": 25,
    "start_time": "2023-12-09T07:44:15.064Z"
   },
   {
    "duration": 7,
    "start_time": "2023-12-09T07:44:15.090Z"
   },
   {
    "duration": 7,
    "start_time": "2023-12-09T07:44:15.099Z"
   },
   {
    "duration": 58,
    "start_time": "2023-12-09T07:44:15.107Z"
   },
   {
    "duration": 21,
    "start_time": "2023-12-09T07:44:15.168Z"
   },
   {
    "duration": 154,
    "start_time": "2023-12-09T07:44:15.191Z"
   },
   {
    "duration": 141,
    "start_time": "2023-12-09T07:44:15.354Z"
   },
   {
    "duration": 242,
    "start_time": "2023-12-09T07:44:15.496Z"
   },
   {
    "duration": 336,
    "start_time": "2023-12-09T07:44:15.742Z"
   },
   {
    "duration": 285,
    "start_time": "2023-12-09T07:44:16.080Z"
   },
   {
    "duration": 38,
    "start_time": "2023-12-09T07:44:16.366Z"
   },
   {
    "duration": 190,
    "start_time": "2023-12-09T07:44:16.406Z"
   },
   {
    "duration": 184,
    "start_time": "2023-12-09T07:44:16.598Z"
   },
   {
    "duration": 44,
    "start_time": "2023-12-09T07:44:16.783Z"
   },
   {
    "duration": 37,
    "start_time": "2023-12-09T07:44:16.829Z"
   },
   {
    "duration": 13,
    "start_time": "2023-12-09T07:44:16.867Z"
   },
   {
    "duration": 5,
    "start_time": "2023-12-09T07:44:16.882Z"
   },
   {
    "duration": 23,
    "start_time": "2023-12-09T07:44:16.889Z"
   },
   {
    "duration": 46,
    "start_time": "2023-12-09T07:44:16.914Z"
   },
   {
    "duration": 6,
    "start_time": "2023-12-09T07:44:16.962Z"
   },
   {
    "duration": 7,
    "start_time": "2023-12-09T07:44:16.969Z"
   },
   {
    "duration": 1624,
    "start_time": "2023-12-09T07:44:16.977Z"
   },
   {
    "duration": 5,
    "start_time": "2023-12-09T07:44:18.604Z"
   },
   {
    "duration": 1025,
    "start_time": "2023-12-09T07:58:52.325Z"
   },
   {
    "duration": 293,
    "start_time": "2023-12-09T07:58:53.353Z"
   },
   {
    "duration": 252,
    "start_time": "2023-12-09T07:58:53.648Z"
   },
   {
    "duration": 253,
    "start_time": "2023-12-09T07:58:53.901Z"
   },
   {
    "duration": 58,
    "start_time": "2023-12-09T07:58:54.155Z"
   },
   {
    "duration": 20,
    "start_time": "2023-12-09T07:58:54.214Z"
   },
   {
    "duration": 4,
    "start_time": "2023-12-09T07:58:54.236Z"
   },
   {
    "duration": 33,
    "start_time": "2023-12-09T07:58:54.242Z"
   },
   {
    "duration": 15,
    "start_time": "2023-12-09T07:58:54.277Z"
   },
   {
    "duration": 14,
    "start_time": "2023-12-09T07:58:54.293Z"
   },
   {
    "duration": 128,
    "start_time": "2023-12-09T07:58:54.308Z"
   },
   {
    "duration": 112,
    "start_time": "2023-12-09T07:58:54.437Z"
   },
   {
    "duration": 192,
    "start_time": "2023-12-09T07:58:54.551Z"
   },
   {
    "duration": 221,
    "start_time": "2023-12-09T07:58:54.744Z"
   },
   {
    "duration": 220,
    "start_time": "2023-12-09T07:58:54.969Z"
   },
   {
    "duration": 32,
    "start_time": "2023-12-09T07:58:55.190Z"
   },
   {
    "duration": 148,
    "start_time": "2023-12-09T07:58:55.224Z"
   },
   {
    "duration": 141,
    "start_time": "2023-12-09T07:58:55.374Z"
   },
   {
    "duration": 35,
    "start_time": "2023-12-09T07:58:55.517Z"
   },
   {
    "duration": 36,
    "start_time": "2023-12-09T07:58:55.554Z"
   },
   {
    "duration": 30,
    "start_time": "2023-12-09T07:58:55.591Z"
   },
   {
    "duration": 23,
    "start_time": "2023-12-09T07:58:55.622Z"
   },
   {
    "duration": 40,
    "start_time": "2023-12-09T07:58:55.646Z"
   },
   {
    "duration": 24,
    "start_time": "2023-12-09T07:58:55.688Z"
   },
   {
    "duration": 10,
    "start_time": "2023-12-09T07:58:55.714Z"
   },
   {
    "duration": 40,
    "start_time": "2023-12-09T07:58:55.725Z"
   },
   {
    "duration": 1173,
    "start_time": "2023-12-09T07:58:55.768Z"
   },
   {
    "duration": 5,
    "start_time": "2023-12-09T07:58:56.942Z"
   },
   {
    "duration": 1124,
    "start_time": "2023-12-09T08:01:57.136Z"
   },
   {
    "duration": 285,
    "start_time": "2023-12-09T08:01:58.262Z"
   },
   {
    "duration": 283,
    "start_time": "2023-12-09T08:01:58.548Z"
   },
   {
    "duration": 277,
    "start_time": "2023-12-09T08:01:58.833Z"
   },
   {
    "duration": 61,
    "start_time": "2023-12-09T08:01:59.112Z"
   },
   {
    "duration": 20,
    "start_time": "2023-12-09T08:01:59.175Z"
   },
   {
    "duration": 5,
    "start_time": "2023-12-09T08:01:59.197Z"
   },
   {
    "duration": 7,
    "start_time": "2023-12-09T08:01:59.203Z"
   },
   {
    "duration": 12,
    "start_time": "2023-12-09T08:01:59.212Z"
   },
   {
    "duration": 47,
    "start_time": "2023-12-09T08:01:59.227Z"
   },
   {
    "duration": 131,
    "start_time": "2023-12-09T08:01:59.276Z"
   },
   {
    "duration": 122,
    "start_time": "2023-12-09T08:01:59.409Z"
   },
   {
    "duration": 201,
    "start_time": "2023-12-09T08:01:59.533Z"
   },
   {
    "duration": 239,
    "start_time": "2023-12-09T08:01:59.736Z"
   },
   {
    "duration": 240,
    "start_time": "2023-12-09T08:01:59.976Z"
   },
   {
    "duration": 35,
    "start_time": "2023-12-09T08:02:00.218Z"
   },
   {
    "duration": 216,
    "start_time": "2023-12-09T08:02:00.255Z"
   },
   {
    "duration": 245,
    "start_time": "2023-12-09T08:02:00.472Z"
   },
   {
    "duration": 98,
    "start_time": "2023-12-09T08:02:00.719Z"
   },
   {
    "duration": 27,
    "start_time": "2023-12-09T08:02:00.819Z"
   },
   {
    "duration": 43,
    "start_time": "2023-12-09T08:02:00.847Z"
   },
   {
    "duration": 186,
    "start_time": "2023-12-09T08:02:00.892Z"
   },
   {
    "duration": 58,
    "start_time": "2023-12-09T08:02:01.080Z"
   },
   {
    "duration": 34,
    "start_time": "2023-12-09T08:02:01.139Z"
   },
   {
    "duration": 26,
    "start_time": "2023-12-09T08:02:01.175Z"
   },
   {
    "duration": 45,
    "start_time": "2023-12-09T08:02:01.202Z"
   },
   {
    "duration": 1282,
    "start_time": "2023-12-09T08:02:01.249Z"
   },
   {
    "duration": 5,
    "start_time": "2023-12-09T08:02:02.534Z"
   },
   {
    "duration": 1266,
    "start_time": "2023-12-09T08:08:28.610Z"
   },
   {
    "duration": 363,
    "start_time": "2023-12-09T08:08:29.878Z"
   },
   {
    "duration": 377,
    "start_time": "2023-12-09T08:08:30.255Z"
   },
   {
    "duration": 380,
    "start_time": "2023-12-09T08:08:30.634Z"
   },
   {
    "duration": 77,
    "start_time": "2023-12-09T08:08:31.017Z"
   },
   {
    "duration": 25,
    "start_time": "2023-12-09T08:08:31.096Z"
   },
   {
    "duration": 47,
    "start_time": "2023-12-09T08:08:31.123Z"
   },
   {
    "duration": 11,
    "start_time": "2023-12-09T08:08:31.174Z"
   },
   {
    "duration": 48,
    "start_time": "2023-12-09T08:08:31.187Z"
   },
   {
    "duration": 41,
    "start_time": "2023-12-09T08:08:31.238Z"
   },
   {
    "duration": 192,
    "start_time": "2023-12-09T08:08:31.281Z"
   },
   {
    "duration": 151,
    "start_time": "2023-12-09T08:08:31.478Z"
   },
   {
    "duration": 291,
    "start_time": "2023-12-09T08:08:31.631Z"
   },
   {
    "duration": 349,
    "start_time": "2023-12-09T08:08:31.924Z"
   },
   {
    "duration": 339,
    "start_time": "2023-12-09T08:08:32.275Z"
   },
   {
    "duration": 58,
    "start_time": "2023-12-09T08:08:32.615Z"
   },
   {
    "duration": 236,
    "start_time": "2023-12-09T08:08:32.675Z"
   },
   {
    "duration": 212,
    "start_time": "2023-12-09T08:08:32.913Z"
   },
   {
    "duration": 55,
    "start_time": "2023-12-09T08:08:33.127Z"
   },
   {
    "duration": 16,
    "start_time": "2023-12-09T08:08:33.184Z"
   },
   {
    "duration": 12,
    "start_time": "2023-12-09T08:08:33.202Z"
   },
   {
    "duration": 6,
    "start_time": "2023-12-09T08:08:33.215Z"
   },
   {
    "duration": 54,
    "start_time": "2023-12-09T08:08:33.223Z"
   },
   {
    "duration": 20,
    "start_time": "2023-12-09T08:08:33.278Z"
   },
   {
    "duration": 6,
    "start_time": "2023-12-09T08:08:33.300Z"
   },
   {
    "duration": 6,
    "start_time": "2023-12-09T08:08:33.307Z"
   },
   {
    "duration": 1871,
    "start_time": "2023-12-09T08:08:33.314Z"
   },
   {
    "duration": 5,
    "start_time": "2023-12-09T08:08:35.188Z"
   },
   {
    "duration": 1035,
    "start_time": "2023-12-09T08:28:43.726Z"
   },
   {
    "duration": 295,
    "start_time": "2023-12-09T08:28:44.762Z"
   },
   {
    "duration": 256,
    "start_time": "2023-12-09T08:28:45.059Z"
   },
   {
    "duration": 262,
    "start_time": "2023-12-09T08:28:45.317Z"
   },
   {
    "duration": 53,
    "start_time": "2023-12-09T08:28:45.580Z"
   },
   {
    "duration": 20,
    "start_time": "2023-12-09T08:28:45.634Z"
   },
   {
    "duration": 5,
    "start_time": "2023-12-09T08:28:45.670Z"
   },
   {
    "duration": 5,
    "start_time": "2023-12-09T08:28:45.676Z"
   },
   {
    "duration": 14,
    "start_time": "2023-12-09T08:28:45.682Z"
   },
   {
    "duration": 15,
    "start_time": "2023-12-09T08:28:45.698Z"
   },
   {
    "duration": 136,
    "start_time": "2023-12-09T08:28:45.714Z"
   },
   {
    "duration": 120,
    "start_time": "2023-12-09T08:28:45.851Z"
   },
   {
    "duration": 198,
    "start_time": "2023-12-09T08:28:45.972Z"
   },
   {
    "duration": 223,
    "start_time": "2023-12-09T08:28:46.171Z"
   },
   {
    "duration": 218,
    "start_time": "2023-12-09T08:28:46.395Z"
   },
   {
    "duration": 32,
    "start_time": "2023-12-09T08:28:46.614Z"
   },
   {
    "duration": 149,
    "start_time": "2023-12-09T08:28:46.648Z"
   },
   {
    "duration": 145,
    "start_time": "2023-12-09T08:28:46.798Z"
   },
   {
    "duration": 46,
    "start_time": "2023-12-09T08:28:46.945Z"
   },
   {
    "duration": 14,
    "start_time": "2023-12-09T08:28:46.993Z"
   },
   {
    "duration": 10,
    "start_time": "2023-12-09T08:28:47.008Z"
   },
   {
    "duration": 12,
    "start_time": "2023-12-09T08:28:47.020Z"
   },
   {
    "duration": 27,
    "start_time": "2023-12-09T08:28:47.034Z"
   },
   {
    "duration": 21,
    "start_time": "2023-12-09T08:28:47.063Z"
   },
   {
    "duration": 5,
    "start_time": "2023-12-09T08:28:47.085Z"
   },
   {
    "duration": 26,
    "start_time": "2023-12-09T08:28:47.091Z"
   },
   {
    "duration": 1185,
    "start_time": "2023-12-09T08:28:47.119Z"
   },
   {
    "duration": 5,
    "start_time": "2023-12-09T08:28:48.307Z"
   },
   {
    "duration": 1101,
    "start_time": "2023-12-09T08:29:47.973Z"
   },
   {
    "duration": 292,
    "start_time": "2023-12-09T08:29:49.076Z"
   },
   {
    "duration": 254,
    "start_time": "2023-12-09T08:29:49.369Z"
   },
   {
    "duration": 265,
    "start_time": "2023-12-09T08:29:49.624Z"
   },
   {
    "duration": 54,
    "start_time": "2023-12-09T08:29:49.891Z"
   },
   {
    "duration": 31,
    "start_time": "2023-12-09T08:29:49.947Z"
   },
   {
    "duration": 26,
    "start_time": "2023-12-09T08:29:49.980Z"
   },
   {
    "duration": 23,
    "start_time": "2023-12-09T08:29:50.008Z"
   },
   {
    "duration": 36,
    "start_time": "2023-12-09T08:29:50.033Z"
   },
   {
    "duration": 35,
    "start_time": "2023-12-09T08:29:50.071Z"
   },
   {
    "duration": 125,
    "start_time": "2023-12-09T08:29:50.108Z"
   },
   {
    "duration": 125,
    "start_time": "2023-12-09T08:29:50.235Z"
   },
   {
    "duration": 201,
    "start_time": "2023-12-09T08:29:50.369Z"
   },
   {
    "duration": 226,
    "start_time": "2023-12-09T08:29:50.572Z"
   },
   {
    "duration": 225,
    "start_time": "2023-12-09T08:29:50.800Z"
   },
   {
    "duration": 53,
    "start_time": "2023-12-09T08:29:51.027Z"
   },
   {
    "duration": 156,
    "start_time": "2023-12-09T08:29:51.082Z"
   },
   {
    "duration": 152,
    "start_time": "2023-12-09T08:29:51.239Z"
   },
   {
    "duration": 37,
    "start_time": "2023-12-09T08:29:51.392Z"
   },
   {
    "duration": 15,
    "start_time": "2023-12-09T08:29:51.430Z"
   },
   {
    "duration": 29,
    "start_time": "2023-12-09T08:29:51.447Z"
   },
   {
    "duration": 34,
    "start_time": "2023-12-09T08:29:51.477Z"
   },
   {
    "duration": 36,
    "start_time": "2023-12-09T08:29:51.512Z"
   },
   {
    "duration": 24,
    "start_time": "2023-12-09T08:29:51.550Z"
   },
   {
    "duration": 11,
    "start_time": "2023-12-09T08:29:51.575Z"
   },
   {
    "duration": 24,
    "start_time": "2023-12-09T08:29:51.587Z"
   },
   {
    "duration": 1229,
    "start_time": "2023-12-09T08:29:51.612Z"
   },
   {
    "duration": 5,
    "start_time": "2023-12-09T08:29:52.844Z"
   },
   {
    "duration": 1034,
    "start_time": "2023-12-09T08:31:22.516Z"
   },
   {
    "duration": 281,
    "start_time": "2023-12-09T08:31:23.552Z"
   },
   {
    "duration": 250,
    "start_time": "2023-12-09T08:31:23.834Z"
   },
   {
    "duration": 261,
    "start_time": "2023-12-09T08:31:24.085Z"
   },
   {
    "duration": 59,
    "start_time": "2023-12-09T08:31:24.348Z"
   },
   {
    "duration": 23,
    "start_time": "2023-12-09T08:31:24.408Z"
   },
   {
    "duration": 44,
    "start_time": "2023-12-09T08:31:24.432Z"
   },
   {
    "duration": 63,
    "start_time": "2023-12-09T08:31:24.478Z"
   },
   {
    "duration": 11,
    "start_time": "2023-12-09T08:31:24.542Z"
   },
   {
    "duration": 16,
    "start_time": "2023-12-09T08:31:24.555Z"
   },
   {
    "duration": 126,
    "start_time": "2023-12-09T08:31:24.573Z"
   },
   {
    "duration": 124,
    "start_time": "2023-12-09T08:31:24.702Z"
   },
   {
    "duration": 197,
    "start_time": "2023-12-09T08:31:24.828Z"
   },
   {
    "duration": 226,
    "start_time": "2023-12-09T08:31:25.027Z"
   },
   {
    "duration": 223,
    "start_time": "2023-12-09T08:31:25.255Z"
   },
   {
    "duration": 35,
    "start_time": "2023-12-09T08:31:25.480Z"
   },
   {
    "duration": 154,
    "start_time": "2023-12-09T08:31:25.516Z"
   },
   {
    "duration": 140,
    "start_time": "2023-12-09T08:31:25.671Z"
   },
   {
    "duration": 34,
    "start_time": "2023-12-09T08:31:25.813Z"
   },
   {
    "duration": 43,
    "start_time": "2023-12-09T08:31:25.849Z"
   },
   {
    "duration": 94,
    "start_time": "2023-12-09T08:31:25.894Z"
   },
   {
    "duration": 150,
    "start_time": "2023-12-09T08:31:25.989Z"
   },
   {
    "duration": 83,
    "start_time": "2023-12-09T08:31:26.141Z"
   },
   {
    "duration": 67,
    "start_time": "2023-12-09T08:31:26.226Z"
   },
   {
    "duration": 26,
    "start_time": "2023-12-09T08:31:26.295Z"
   },
   {
    "duration": 35,
    "start_time": "2023-12-09T08:31:26.322Z"
   },
   {
    "duration": 1189,
    "start_time": "2023-12-09T08:31:26.359Z"
   },
   {
    "duration": 5,
    "start_time": "2023-12-09T08:31:27.550Z"
   },
   {
    "duration": 7,
    "start_time": "2023-12-09T08:44:35.303Z"
   },
   {
    "duration": 6,
    "start_time": "2023-12-09T08:45:07.962Z"
   },
   {
    "duration": 1151,
    "start_time": "2023-12-09T14:10:58.611Z"
   },
   {
    "duration": 519,
    "start_time": "2023-12-09T14:10:59.764Z"
   },
   {
    "duration": 301,
    "start_time": "2023-12-09T14:11:00.286Z"
   },
   {
    "duration": 322,
    "start_time": "2023-12-09T14:11:00.589Z"
   },
   {
    "duration": 60,
    "start_time": "2023-12-09T14:11:00.913Z"
   },
   {
    "duration": 79,
    "start_time": "2023-12-09T14:11:00.975Z"
   },
   {
    "duration": 21,
    "start_time": "2023-12-09T14:11:01.056Z"
   },
   {
    "duration": 66,
    "start_time": "2023-12-09T14:11:01.078Z"
   },
   {
    "duration": 46,
    "start_time": "2023-12-09T14:11:01.146Z"
   },
   {
    "duration": 57,
    "start_time": "2023-12-09T14:11:01.194Z"
   },
   {
    "duration": 168,
    "start_time": "2023-12-09T14:11:01.253Z"
   },
   {
    "duration": 131,
    "start_time": "2023-12-09T14:11:01.423Z"
   },
   {
    "duration": 249,
    "start_time": "2023-12-09T14:11:01.557Z"
   },
   {
    "duration": 279,
    "start_time": "2023-12-09T14:11:01.808Z"
   },
   {
    "duration": 267,
    "start_time": "2023-12-09T14:11:02.089Z"
   },
   {
    "duration": 38,
    "start_time": "2023-12-09T14:11:02.358Z"
   },
   {
    "duration": 174,
    "start_time": "2023-12-09T14:11:02.397Z"
   },
   {
    "duration": 165,
    "start_time": "2023-12-09T14:11:02.573Z"
   },
   {
    "duration": 40,
    "start_time": "2023-12-09T14:11:02.740Z"
   },
   {
    "duration": 17,
    "start_time": "2023-12-09T14:11:02.781Z"
   },
   {
    "duration": 34,
    "start_time": "2023-12-09T14:11:02.799Z"
   },
   {
    "duration": 6,
    "start_time": "2023-12-09T14:11:02.835Z"
   },
   {
    "duration": 21,
    "start_time": "2023-12-09T14:11:02.842Z"
   },
   {
    "duration": 18,
    "start_time": "2023-12-09T14:11:02.864Z"
   },
   {
    "duration": 5,
    "start_time": "2023-12-09T14:11:02.884Z"
   },
   {
    "duration": 7,
    "start_time": "2023-12-09T14:11:02.890Z"
   },
   {
    "duration": 1483,
    "start_time": "2023-12-09T14:11:02.933Z"
   },
   {
    "duration": 13,
    "start_time": "2023-12-09T14:11:04.418Z"
   }
  ],
  "kernelspec": {
   "display_name": "Python 3 (ipykernel)",
   "language": "python",
   "name": "python3"
  },
  "language_info": {
   "codemirror_mode": {
    "name": "ipython",
    "version": 3
   },
   "file_extension": ".py",
   "mimetype": "text/x-python",
   "name": "python",
   "nbconvert_exporter": "python",
   "pygments_lexer": "ipython3",
   "version": "3.9.5"
  },
  "toc": {
   "base_numbering": 1,
   "nav_menu": {},
   "number_sections": true,
   "sideBar": true,
   "skip_h1_title": true,
   "title_cell": "Table of Contents",
   "title_sidebar": "Contents",
   "toc_cell": false,
   "toc_position": {},
   "toc_section_display": true,
   "toc_window_display": false
  }
 },
 "nbformat": 4,
 "nbformat_minor": 5
}
